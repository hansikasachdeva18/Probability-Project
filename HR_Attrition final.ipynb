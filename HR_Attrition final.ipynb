{
 "cells": [
  {
   "cell_type": "markdown",
   "metadata": {},
   "source": [
    "## STEP 1"
   ]
  },
  {
   "cell_type": "markdown",
   "metadata": {},
   "source": [
    "# Downloading the dataset using the opendatasets Python library"
   ]
  },
  {
   "cell_type": "code",
   "execution_count": 56,
   "metadata": {},
   "outputs": [
    {
     "name": "stdout",
     "output_type": "stream",
     "text": [
      "Requirement already satisfied: opendatasets in c:\\users\\hp\\anaconda3\\lib\\site-packages (0.1.20)\n",
      "Requirement already satisfied: tqdm in c:\\users\\hp\\anaconda3\\lib\\site-packages (from opendatasets) (4.62.3)\n",
      "Requirement already satisfied: kaggle in c:\\users\\hp\\anaconda3\\lib\\site-packages (from opendatasets) (1.5.12)\n",
      "Requirement already satisfied: click in c:\\users\\hp\\appdata\\roaming\\python\\python38\\site-packages (from opendatasets) (8.0.1)\n",
      "Requirement already satisfied: colorama; platform_system == \"Windows\" in c:\\users\\hp\\appdata\\roaming\\python\\python38\\site-packages (from tqdm->opendatasets) (0.4.3)\n",
      "Requirement already satisfied: urllib3 in c:\\users\\hp\\anaconda3\\lib\\site-packages (from kaggle->opendatasets) (1.25.9)\n",
      "Requirement already satisfied: certifi in c:\\users\\hp\\anaconda3\\lib\\site-packages (from kaggle->opendatasets) (2020.6.20)\n",
      "Requirement already satisfied: six>=1.10 in c:\\users\\hp\\appdata\\roaming\\python\\python38\\site-packages (from kaggle->opendatasets) (1.15.0)\n",
      "Requirement already satisfied: python-dateutil in c:\\users\\hp\\anaconda3\\lib\\site-packages (from kaggle->opendatasets) (2.8.1)\n",
      "Requirement already satisfied: requests in c:\\users\\hp\\anaconda3\\lib\\site-packages (from kaggle->opendatasets) (2.24.0)\n",
      "Requirement already satisfied: python-slugify in c:\\users\\hp\\anaconda3\\lib\\site-packages (from kaggle->opendatasets) (5.0.2)\n",
      "Requirement already satisfied: idna<3,>=2.5 in c:\\users\\hp\\anaconda3\\lib\\site-packages (from requests->kaggle->opendatasets) (2.10)\n",
      "Requirement already satisfied: chardet<4,>=3.0.2 in c:\\users\\hp\\anaconda3\\lib\\site-packages (from requests->kaggle->opendatasets) (3.0.4)\n",
      "Requirement already satisfied: text-unidecode>=1.3 in c:\\users\\hp\\anaconda3\\lib\\site-packages (from python-slugify->kaggle->opendatasets) (1.3)\n"
     ]
    }
   ],
   "source": [
    "!pip install opendatasets\n",
    "import opendatasets as od"
   ]
  },
  {
   "cell_type": "code",
   "execution_count": 57,
   "metadata": {},
   "outputs": [
    {
     "name": "stdout",
     "output_type": "stream",
     "text": [
      "Skipping, found downloaded files in \".\\hr-attrition-dataset\" (use force=True to force download)\n"
     ]
    }
   ],
   "source": [
    "data_path = \"https://www.kaggle.com/singhnproud77/hr-attrition-dataset?select=Final+dataset+Attrition.csv\"\n",
    "od.download(data_path)\n"
   ]
  },
  {
   "cell_type": "markdown",
   "metadata": {},
   "source": [
    "## STEP 2"
   ]
  },
  {
   "cell_type": "markdown",
   "metadata": {},
   "source": [
    "# Importing all necessary libraries "
   ]
  },
  {
   "cell_type": "code",
   "execution_count": 58,
   "metadata": {},
   "outputs": [],
   "source": [
    "import numpy as np \n",
    "import pandas as pd\n",
    "import seaborn as sns \n",
    "import matplotlib.pyplot as plt\n",
    "%matplotlib inline\n",
    "\n",
    "\n",
    "from sklearn import metrics\n",
    "from sklearn.preprocessing import StandardScaler\n",
    "from sklearn.metrics import accuracy_score\n",
    "\n",
    "import warnings \n",
    "warnings.filterwarnings('ignore')"
   ]
  },
  {
   "cell_type": "markdown",
   "metadata": {},
   "source": [
    "# Pandas Dataframes: DataFrame is an object for data manipulation. It is a 2D tabular structure, where every row is a dataset entry and columns represent features of data."
   ]
  },
  {
   "cell_type": "code",
   "execution_count": 59,
   "metadata": {},
   "outputs": [],
   "source": [
    "df =  pd.read_csv(\"Final dataset Attrition.csv\")"
   ]
  },
  {
   "cell_type": "markdown",
   "metadata": {},
   "source": [
    "# We can have a look to first few rows of the table using head function"
   ]
  },
  {
   "cell_type": "code",
   "execution_count": 60,
   "metadata": {},
   "outputs": [
    {
     "data": {
      "text/html": [
       "<div>\n",
       "<style scoped>\n",
       "    .dataframe tbody tr th:only-of-type {\n",
       "        vertical-align: middle;\n",
       "    }\n",
       "\n",
       "    .dataframe tbody tr th {\n",
       "        vertical-align: top;\n",
       "    }\n",
       "\n",
       "    .dataframe thead th {\n",
       "        text-align: right;\n",
       "    }\n",
       "</style>\n",
       "<table border=\"1\" class=\"dataframe\">\n",
       "  <thead>\n",
       "    <tr style=\"text-align: right;\">\n",
       "      <th></th>\n",
       "      <th>Age</th>\n",
       "      <th>Attrition</th>\n",
       "      <th>BusinessTravel</th>\n",
       "      <th>Department</th>\n",
       "      <th>DistanceFromHome</th>\n",
       "      <th>Gender</th>\n",
       "      <th>JobInvolvement</th>\n",
       "      <th>JobLevel</th>\n",
       "      <th>JobRole</th>\n",
       "      <th>JobSatisfaction</th>\n",
       "      <th>...</th>\n",
       "      <th>Date_of_Hire</th>\n",
       "      <th>Date_of_termination</th>\n",
       "      <th>Status_of_leaving</th>\n",
       "      <th>Mode_of_work</th>\n",
       "      <th>Leaves</th>\n",
       "      <th>Absenteeism</th>\n",
       "      <th>Work_accident</th>\n",
       "      <th>Source_of_Hire</th>\n",
       "      <th>Job_mode</th>\n",
       "      <th>Unnamed: 32</th>\n",
       "    </tr>\n",
       "  </thead>\n",
       "  <tbody>\n",
       "    <tr>\n",
       "      <th>0</th>\n",
       "      <td>37</td>\n",
       "      <td>Yes</td>\n",
       "      <td>Travel_Rarely</td>\n",
       "      <td>Research &amp; Development</td>\n",
       "      <td>2</td>\n",
       "      <td>Male</td>\n",
       "      <td>2</td>\n",
       "      <td>1</td>\n",
       "      <td>Laboratory Technician</td>\n",
       "      <td>3</td>\n",
       "      <td>...</td>\n",
       "      <td>21-01-2021</td>\n",
       "      <td>NaN</td>\n",
       "      <td>Salary</td>\n",
       "      <td>OFFICE</td>\n",
       "      <td>4</td>\n",
       "      <td>2</td>\n",
       "      <td>No</td>\n",
       "      <td>Job Event</td>\n",
       "      <td>Contract</td>\n",
       "      <td>NaN</td>\n",
       "    </tr>\n",
       "    <tr>\n",
       "      <th>1</th>\n",
       "      <td>21</td>\n",
       "      <td>No</td>\n",
       "      <td>Travel_Rarely</td>\n",
       "      <td>Research &amp; Development</td>\n",
       "      <td>15</td>\n",
       "      <td>Male</td>\n",
       "      <td>3</td>\n",
       "      <td>1</td>\n",
       "      <td>Research Scientist</td>\n",
       "      <td>4</td>\n",
       "      <td>...</td>\n",
       "      <td>13-03-2021</td>\n",
       "      <td>NaN</td>\n",
       "      <td>Work Accident</td>\n",
       "      <td>WFH</td>\n",
       "      <td>5</td>\n",
       "      <td>2</td>\n",
       "      <td>No</td>\n",
       "      <td>Recruiter</td>\n",
       "      <td>Part Time</td>\n",
       "      <td>NaN</td>\n",
       "    </tr>\n",
       "    <tr>\n",
       "      <th>2</th>\n",
       "      <td>45</td>\n",
       "      <td>No</td>\n",
       "      <td>Travel_Rarely</td>\n",
       "      <td>Research &amp; Development</td>\n",
       "      <td>6</td>\n",
       "      <td>Male</td>\n",
       "      <td>3</td>\n",
       "      <td>3</td>\n",
       "      <td>Research Director</td>\n",
       "      <td>1</td>\n",
       "      <td>...</td>\n",
       "      <td>23-01-2021</td>\n",
       "      <td>NaN</td>\n",
       "      <td>Dept.Head</td>\n",
       "      <td>WFH</td>\n",
       "      <td>1</td>\n",
       "      <td>3</td>\n",
       "      <td>No</td>\n",
       "      <td>Job Event</td>\n",
       "      <td>Contract</td>\n",
       "      <td>NaN</td>\n",
       "    </tr>\n",
       "    <tr>\n",
       "      <th>3</th>\n",
       "      <td>23</td>\n",
       "      <td>No</td>\n",
       "      <td>Travel_Rarely</td>\n",
       "      <td>Sales</td>\n",
       "      <td>2</td>\n",
       "      <td>Male</td>\n",
       "      <td>3</td>\n",
       "      <td>1</td>\n",
       "      <td>Sales Representative</td>\n",
       "      <td>1</td>\n",
       "      <td>...</td>\n",
       "      <td>25-04-2021</td>\n",
       "      <td>NaN</td>\n",
       "      <td>Work Accident</td>\n",
       "      <td>OFFICE</td>\n",
       "      <td>1</td>\n",
       "      <td>0</td>\n",
       "      <td>Yes</td>\n",
       "      <td>Recruiter</td>\n",
       "      <td>FullTime</td>\n",
       "      <td>NaN</td>\n",
       "    </tr>\n",
       "    <tr>\n",
       "      <th>4</th>\n",
       "      <td>22</td>\n",
       "      <td>No</td>\n",
       "      <td>Travel_Rarely</td>\n",
       "      <td>Research &amp; Development</td>\n",
       "      <td>15</td>\n",
       "      <td>Female</td>\n",
       "      <td>3</td>\n",
       "      <td>1</td>\n",
       "      <td>Laboratory Technician</td>\n",
       "      <td>4</td>\n",
       "      <td>...</td>\n",
       "      <td>14-06-2021</td>\n",
       "      <td>NaN</td>\n",
       "      <td>Better Opportunity</td>\n",
       "      <td>WFH</td>\n",
       "      <td>5</td>\n",
       "      <td>2</td>\n",
       "      <td>No</td>\n",
       "      <td>Job Event</td>\n",
       "      <td>Contract</td>\n",
       "      <td>NaN</td>\n",
       "    </tr>\n",
       "  </tbody>\n",
       "</table>\n",
       "<p>5 rows × 33 columns</p>\n",
       "</div>"
      ],
      "text/plain": [
       "   Age Attrition BusinessTravel              Department  DistanceFromHome  \\\n",
       "0   37       Yes  Travel_Rarely  Research & Development                 2   \n",
       "1   21        No  Travel_Rarely  Research & Development                15   \n",
       "2   45        No  Travel_Rarely  Research & Development                 6   \n",
       "3   23        No  Travel_Rarely                   Sales                 2   \n",
       "4   22        No  Travel_Rarely  Research & Development                15   \n",
       "\n",
       "   Gender  JobInvolvement  JobLevel                JobRole  JobSatisfaction  \\\n",
       "0    Male               2         1  Laboratory Technician                3   \n",
       "1    Male               3         1     Research Scientist                4   \n",
       "2    Male               3         3      Research Director                1   \n",
       "3    Male               3         1   Sales Representative                1   \n",
       "4  Female               3         1  Laboratory Technician                4   \n",
       "\n",
       "   ... Date_of_Hire  Date_of_termination   Status_of_leaving Mode_of_work  \\\n",
       "0  ...   21-01-2021                  NaN              Salary       OFFICE   \n",
       "1  ...   13-03-2021                  NaN       Work Accident          WFH   \n",
       "2  ...   23-01-2021                  NaN           Dept.Head          WFH   \n",
       "3  ...   25-04-2021                  NaN       Work Accident       OFFICE   \n",
       "4  ...   14-06-2021                  NaN  Better Opportunity          WFH   \n",
       "\n",
       "   Leaves  Absenteeism  Work_accident  Source_of_Hire   Job_mode  Unnamed: 32  \n",
       "0       4            2             No       Job Event   Contract          NaN  \n",
       "1       5            2             No       Recruiter  Part Time          NaN  \n",
       "2       1            3             No       Job Event   Contract          NaN  \n",
       "3       1            0            Yes       Recruiter   FullTime          NaN  \n",
       "4       5            2             No       Job Event   Contract          NaN  \n",
       "\n",
       "[5 rows x 33 columns]"
      ]
     },
     "execution_count": 60,
     "metadata": {},
     "output_type": "execute_result"
    }
   ],
   "source": [
    "# reading first five datapoints\n",
    "df.head()"
   ]
  },
  {
   "cell_type": "code",
   "execution_count": 61,
   "metadata": {},
   "outputs": [
    {
     "data": {
      "text/html": [
       "<div>\n",
       "<style scoped>\n",
       "    .dataframe tbody tr th:only-of-type {\n",
       "        vertical-align: middle;\n",
       "    }\n",
       "\n",
       "    .dataframe tbody tr th {\n",
       "        vertical-align: top;\n",
       "    }\n",
       "\n",
       "    .dataframe thead th {\n",
       "        text-align: right;\n",
       "    }\n",
       "</style>\n",
       "<table border=\"1\" class=\"dataframe\">\n",
       "  <thead>\n",
       "    <tr style=\"text-align: right;\">\n",
       "      <th></th>\n",
       "      <th>Age</th>\n",
       "      <th>Attrition</th>\n",
       "      <th>BusinessTravel</th>\n",
       "      <th>Department</th>\n",
       "      <th>DistanceFromHome</th>\n",
       "      <th>Gender</th>\n",
       "      <th>JobInvolvement</th>\n",
       "      <th>JobLevel</th>\n",
       "      <th>JobRole</th>\n",
       "      <th>JobSatisfaction</th>\n",
       "      <th>...</th>\n",
       "      <th>Date_of_Hire</th>\n",
       "      <th>Date_of_termination</th>\n",
       "      <th>Status_of_leaving</th>\n",
       "      <th>Mode_of_work</th>\n",
       "      <th>Leaves</th>\n",
       "      <th>Absenteeism</th>\n",
       "      <th>Work_accident</th>\n",
       "      <th>Source_of_Hire</th>\n",
       "      <th>Job_mode</th>\n",
       "      <th>Unnamed: 32</th>\n",
       "    </tr>\n",
       "  </thead>\n",
       "  <tbody>\n",
       "    <tr>\n",
       "      <th>0</th>\n",
       "      <td>37</td>\n",
       "      <td>Yes</td>\n",
       "      <td>Travel_Rarely</td>\n",
       "      <td>Research &amp; Development</td>\n",
       "      <td>2</td>\n",
       "      <td>Male</td>\n",
       "      <td>2</td>\n",
       "      <td>1</td>\n",
       "      <td>Laboratory Technician</td>\n",
       "      <td>3</td>\n",
       "      <td>...</td>\n",
       "      <td>21-01-2021</td>\n",
       "      <td>NaN</td>\n",
       "      <td>Salary</td>\n",
       "      <td>OFFICE</td>\n",
       "      <td>4</td>\n",
       "      <td>2</td>\n",
       "      <td>No</td>\n",
       "      <td>Job Event</td>\n",
       "      <td>Contract</td>\n",
       "      <td>NaN</td>\n",
       "    </tr>\n",
       "    <tr>\n",
       "      <th>1</th>\n",
       "      <td>21</td>\n",
       "      <td>No</td>\n",
       "      <td>Travel_Rarely</td>\n",
       "      <td>Research &amp; Development</td>\n",
       "      <td>15</td>\n",
       "      <td>Male</td>\n",
       "      <td>3</td>\n",
       "      <td>1</td>\n",
       "      <td>Research Scientist</td>\n",
       "      <td>4</td>\n",
       "      <td>...</td>\n",
       "      <td>13-03-2021</td>\n",
       "      <td>NaN</td>\n",
       "      <td>Work Accident</td>\n",
       "      <td>WFH</td>\n",
       "      <td>5</td>\n",
       "      <td>2</td>\n",
       "      <td>No</td>\n",
       "      <td>Recruiter</td>\n",
       "      <td>Part Time</td>\n",
       "      <td>NaN</td>\n",
       "    </tr>\n",
       "    <tr>\n",
       "      <th>2</th>\n",
       "      <td>45</td>\n",
       "      <td>No</td>\n",
       "      <td>Travel_Rarely</td>\n",
       "      <td>Research &amp; Development</td>\n",
       "      <td>6</td>\n",
       "      <td>Male</td>\n",
       "      <td>3</td>\n",
       "      <td>3</td>\n",
       "      <td>Research Director</td>\n",
       "      <td>1</td>\n",
       "      <td>...</td>\n",
       "      <td>23-01-2021</td>\n",
       "      <td>NaN</td>\n",
       "      <td>Dept.Head</td>\n",
       "      <td>WFH</td>\n",
       "      <td>1</td>\n",
       "      <td>3</td>\n",
       "      <td>No</td>\n",
       "      <td>Job Event</td>\n",
       "      <td>Contract</td>\n",
       "      <td>NaN</td>\n",
       "    </tr>\n",
       "    <tr>\n",
       "      <th>3</th>\n",
       "      <td>23</td>\n",
       "      <td>No</td>\n",
       "      <td>Travel_Rarely</td>\n",
       "      <td>Sales</td>\n",
       "      <td>2</td>\n",
       "      <td>Male</td>\n",
       "      <td>3</td>\n",
       "      <td>1</td>\n",
       "      <td>Sales Representative</td>\n",
       "      <td>1</td>\n",
       "      <td>...</td>\n",
       "      <td>25-04-2021</td>\n",
       "      <td>NaN</td>\n",
       "      <td>Work Accident</td>\n",
       "      <td>OFFICE</td>\n",
       "      <td>1</td>\n",
       "      <td>0</td>\n",
       "      <td>Yes</td>\n",
       "      <td>Recruiter</td>\n",
       "      <td>FullTime</td>\n",
       "      <td>NaN</td>\n",
       "    </tr>\n",
       "    <tr>\n",
       "      <th>4</th>\n",
       "      <td>22</td>\n",
       "      <td>No</td>\n",
       "      <td>Travel_Rarely</td>\n",
       "      <td>Research &amp; Development</td>\n",
       "      <td>15</td>\n",
       "      <td>Female</td>\n",
       "      <td>3</td>\n",
       "      <td>1</td>\n",
       "      <td>Laboratory Technician</td>\n",
       "      <td>4</td>\n",
       "      <td>...</td>\n",
       "      <td>14-06-2021</td>\n",
       "      <td>NaN</td>\n",
       "      <td>Better Opportunity</td>\n",
       "      <td>WFH</td>\n",
       "      <td>5</td>\n",
       "      <td>2</td>\n",
       "      <td>No</td>\n",
       "      <td>Job Event</td>\n",
       "      <td>Contract</td>\n",
       "      <td>NaN</td>\n",
       "    </tr>\n",
       "    <tr>\n",
       "      <th>5</th>\n",
       "      <td>19</td>\n",
       "      <td>Yes</td>\n",
       "      <td>Travel_Rarely</td>\n",
       "      <td>Sales</td>\n",
       "      <td>22</td>\n",
       "      <td>Male</td>\n",
       "      <td>3</td>\n",
       "      <td>1</td>\n",
       "      <td>Sales Representative</td>\n",
       "      <td>3</td>\n",
       "      <td>...</td>\n",
       "      <td>14-04-2021</td>\n",
       "      <td>NaN</td>\n",
       "      <td>Work Accident</td>\n",
       "      <td>WFH</td>\n",
       "      <td>1</td>\n",
       "      <td>1</td>\n",
       "      <td>Yes</td>\n",
       "      <td>Job Portal</td>\n",
       "      <td>Part Time</td>\n",
       "      <td>NaN</td>\n",
       "    </tr>\n",
       "    <tr>\n",
       "      <th>6</th>\n",
       "      <td>19</td>\n",
       "      <td>Yes</td>\n",
       "      <td>Travel_Frequently</td>\n",
       "      <td>Sales</td>\n",
       "      <td>1</td>\n",
       "      <td>Female</td>\n",
       "      <td>1</td>\n",
       "      <td>1</td>\n",
       "      <td>Sales Representative</td>\n",
       "      <td>1</td>\n",
       "      <td>...</td>\n",
       "      <td>12-01-2021</td>\n",
       "      <td>NaN</td>\n",
       "      <td>Work Accident</td>\n",
       "      <td>WFH</td>\n",
       "      <td>2</td>\n",
       "      <td>2</td>\n",
       "      <td>No</td>\n",
       "      <td>Walk-in</td>\n",
       "      <td>Contract</td>\n",
       "      <td>NaN</td>\n",
       "    </tr>\n",
       "    <tr>\n",
       "      <th>7</th>\n",
       "      <td>28</td>\n",
       "      <td>Yes</td>\n",
       "      <td>Travel_Rarely</td>\n",
       "      <td>Research &amp; Development</td>\n",
       "      <td>2</td>\n",
       "      <td>Male</td>\n",
       "      <td>3</td>\n",
       "      <td>1</td>\n",
       "      <td>Laboratory Technician</td>\n",
       "      <td>3</td>\n",
       "      <td>...</td>\n",
       "      <td>30-05-2021</td>\n",
       "      <td>NaN</td>\n",
       "      <td>Work Environment</td>\n",
       "      <td>WFH</td>\n",
       "      <td>0</td>\n",
       "      <td>2</td>\n",
       "      <td>No</td>\n",
       "      <td>Walk-in</td>\n",
       "      <td>Contract</td>\n",
       "      <td>NaN</td>\n",
       "    </tr>\n",
       "    <tr>\n",
       "      <th>8</th>\n",
       "      <td>29</td>\n",
       "      <td>No</td>\n",
       "      <td>Travel_Rarely</td>\n",
       "      <td>Sales</td>\n",
       "      <td>2</td>\n",
       "      <td>Male</td>\n",
       "      <td>2</td>\n",
       "      <td>2</td>\n",
       "      <td>Sales Executive</td>\n",
       "      <td>2</td>\n",
       "      <td>...</td>\n",
       "      <td>28-02-2021</td>\n",
       "      <td>NaN</td>\n",
       "      <td>Better Opportunity</td>\n",
       "      <td>OFFICE</td>\n",
       "      <td>5</td>\n",
       "      <td>2</td>\n",
       "      <td>No</td>\n",
       "      <td>Walk-in</td>\n",
       "      <td>Part Time</td>\n",
       "      <td>NaN</td>\n",
       "    </tr>\n",
       "    <tr>\n",
       "      <th>9</th>\n",
       "      <td>18</td>\n",
       "      <td>Yes</td>\n",
       "      <td>Travel_Rarely</td>\n",
       "      <td>Research &amp; Development</td>\n",
       "      <td>3</td>\n",
       "      <td>Male</td>\n",
       "      <td>3</td>\n",
       "      <td>1</td>\n",
       "      <td>Laboratory Technician</td>\n",
       "      <td>3</td>\n",
       "      <td>...</td>\n",
       "      <td>06-05-2021</td>\n",
       "      <td>NaN</td>\n",
       "      <td>Work Environment</td>\n",
       "      <td>WFH</td>\n",
       "      <td>5</td>\n",
       "      <td>2</td>\n",
       "      <td>No</td>\n",
       "      <td>Walk-in</td>\n",
       "      <td>FullTime</td>\n",
       "      <td>NaN</td>\n",
       "    </tr>\n",
       "  </tbody>\n",
       "</table>\n",
       "<p>10 rows × 33 columns</p>\n",
       "</div>"
      ],
      "text/plain": [
       "   Age Attrition     BusinessTravel              Department  DistanceFromHome  \\\n",
       "0   37       Yes      Travel_Rarely  Research & Development                 2   \n",
       "1   21        No      Travel_Rarely  Research & Development                15   \n",
       "2   45        No      Travel_Rarely  Research & Development                 6   \n",
       "3   23        No      Travel_Rarely                   Sales                 2   \n",
       "4   22        No      Travel_Rarely  Research & Development                15   \n",
       "5   19       Yes      Travel_Rarely                   Sales                22   \n",
       "6   19       Yes  Travel_Frequently                   Sales                 1   \n",
       "7   28       Yes      Travel_Rarely  Research & Development                 2   \n",
       "8   29        No      Travel_Rarely                   Sales                 2   \n",
       "9   18       Yes      Travel_Rarely  Research & Development                 3   \n",
       "\n",
       "   Gender  JobInvolvement  JobLevel                JobRole  JobSatisfaction  \\\n",
       "0    Male               2         1  Laboratory Technician                3   \n",
       "1    Male               3         1     Research Scientist                4   \n",
       "2    Male               3         3      Research Director                1   \n",
       "3    Male               3         1   Sales Representative                1   \n",
       "4  Female               3         1  Laboratory Technician                4   \n",
       "5    Male               3         1   Sales Representative                3   \n",
       "6  Female               1         1   Sales Representative                1   \n",
       "7    Male               3         1  Laboratory Technician                3   \n",
       "8    Male               2         2        Sales Executive                2   \n",
       "9    Male               3         1  Laboratory Technician                3   \n",
       "\n",
       "   ... Date_of_Hire  Date_of_termination   Status_of_leaving Mode_of_work  \\\n",
       "0  ...   21-01-2021                  NaN              Salary       OFFICE   \n",
       "1  ...   13-03-2021                  NaN       Work Accident          WFH   \n",
       "2  ...   23-01-2021                  NaN           Dept.Head          WFH   \n",
       "3  ...   25-04-2021                  NaN       Work Accident       OFFICE   \n",
       "4  ...   14-06-2021                  NaN  Better Opportunity          WFH   \n",
       "5  ...   14-04-2021                  NaN       Work Accident          WFH   \n",
       "6  ...   12-01-2021                  NaN       Work Accident          WFH   \n",
       "7  ...   30-05-2021                  NaN    Work Environment          WFH   \n",
       "8  ...   28-02-2021                  NaN  Better Opportunity       OFFICE   \n",
       "9  ...   06-05-2021                  NaN    Work Environment          WFH   \n",
       "\n",
       "   Leaves  Absenteeism  Work_accident  Source_of_Hire   Job_mode  Unnamed: 32  \n",
       "0       4            2             No       Job Event   Contract          NaN  \n",
       "1       5            2             No       Recruiter  Part Time          NaN  \n",
       "2       1            3             No       Job Event   Contract          NaN  \n",
       "3       1            0            Yes       Recruiter   FullTime          NaN  \n",
       "4       5            2             No       Job Event   Contract          NaN  \n",
       "5       1            1            Yes      Job Portal  Part Time          NaN  \n",
       "6       2            2             No         Walk-in   Contract          NaN  \n",
       "7       0            2             No         Walk-in   Contract          NaN  \n",
       "8       5            2             No         Walk-in  Part Time          NaN  \n",
       "9       5            2             No         Walk-in   FullTime          NaN  \n",
       "\n",
       "[10 rows x 33 columns]"
      ]
     },
     "execution_count": 61,
     "metadata": {},
     "output_type": "execute_result"
    }
   ],
   "source": [
    "df.head(10)"
   ]
  },
  {
   "cell_type": "code",
   "execution_count": 62,
   "metadata": {},
   "outputs": [
    {
     "data": {
      "text/plain": [
       "Index(['Age', 'Attrition', 'BusinessTravel', 'Department', 'DistanceFromHome',\n",
       "       'Gender', 'JobInvolvement', 'JobLevel', 'JobRole', 'JobSatisfaction',\n",
       "       'MaritalStatus', 'MonthlyIncome', 'NumCompaniesWorked', 'OverTime',\n",
       "       'PercentSalaryHike', 'PerformanceRating', 'StockOptionLevel',\n",
       "       'TotalWorkingYears', 'TrainingTimesLastYear', 'YearsAtCompany',\n",
       "       'YearsSinceLastPromotion', 'YearsWithCurrManager', 'Higher_Education',\n",
       "       'Date_of_Hire', 'Date_of_termination', 'Status_of_leaving',\n",
       "       'Mode_of_work', 'Leaves', 'Absenteeism', 'Work_accident',\n",
       "       'Source_of_Hire', 'Job_mode', 'Unnamed: 32'],\n",
       "      dtype='object')"
      ]
     },
     "execution_count": 62,
     "metadata": {},
     "output_type": "execute_result"
    }
   ],
   "source": [
    "#all the columns name\n",
    "df.columns"
   ]
  },
  {
   "cell_type": "markdown",
   "metadata": {},
   "source": [
    "# Shape Function"
   ]
  },
  {
   "cell_type": "code",
   "execution_count": 63,
   "metadata": {},
   "outputs": [
    {
     "data": {
      "text/plain": [
       "(1470, 33)"
      ]
     },
     "execution_count": 63,
     "metadata": {},
     "output_type": "execute_result"
    }
   ],
   "source": [
    "#check for the no. of columns & rows\n",
    "df.shape"
   ]
  },
  {
   "cell_type": "markdown",
   "metadata": {},
   "source": [
    "## Data Types"
   ]
  },
  {
   "cell_type": "code",
   "execution_count": 64,
   "metadata": {},
   "outputs": [
    {
     "data": {
      "text/plain": [
       "Age                          int64\n",
       "Attrition                   object\n",
       "BusinessTravel              object\n",
       "Department                  object\n",
       "DistanceFromHome             int64\n",
       "Gender                      object\n",
       "JobInvolvement               int64\n",
       "JobLevel                     int64\n",
       "JobRole                     object\n",
       "JobSatisfaction              int64\n",
       "MaritalStatus               object\n",
       "MonthlyIncome                int64\n",
       "NumCompaniesWorked           int64\n",
       "OverTime                    object\n",
       "PercentSalaryHike            int64\n",
       "PerformanceRating            int64\n",
       "StockOptionLevel             int64\n",
       "TotalWorkingYears            int64\n",
       "TrainingTimesLastYear        int64\n",
       "YearsAtCompany               int64\n",
       "YearsSinceLastPromotion      int64\n",
       "YearsWithCurrManager         int64\n",
       "Higher_Education            object\n",
       "Date_of_Hire                object\n",
       "Date_of_termination        float64\n",
       "Status_of_leaving           object\n",
       "Mode_of_work                object\n",
       "Leaves                       int64\n",
       "Absenteeism                  int64\n",
       "Work_accident               object\n",
       "Source_of_Hire              object\n",
       "Job_mode                    object\n",
       "Unnamed: 32                float64\n",
       "dtype: object"
      ]
     },
     "execution_count": 64,
     "metadata": {},
     "output_type": "execute_result"
    }
   ],
   "source": [
    "# Checking the data types of all the columns\n",
    "df.dtypes"
   ]
  },
  {
   "cell_type": "markdown",
   "metadata": {},
   "source": [
    "# Describe function"
   ]
  },
  {
   "cell_type": "code",
   "execution_count": 65,
   "metadata": {},
   "outputs": [
    {
     "data": {
      "text/html": [
       "<div>\n",
       "<style scoped>\n",
       "    .dataframe tbody tr th:only-of-type {\n",
       "        vertical-align: middle;\n",
       "    }\n",
       "\n",
       "    .dataframe tbody tr th {\n",
       "        vertical-align: top;\n",
       "    }\n",
       "\n",
       "    .dataframe thead th {\n",
       "        text-align: right;\n",
       "    }\n",
       "</style>\n",
       "<table border=\"1\" class=\"dataframe\">\n",
       "  <thead>\n",
       "    <tr style=\"text-align: right;\">\n",
       "      <th></th>\n",
       "      <th>Age</th>\n",
       "      <th>DistanceFromHome</th>\n",
       "      <th>JobInvolvement</th>\n",
       "      <th>JobLevel</th>\n",
       "      <th>JobSatisfaction</th>\n",
       "      <th>MonthlyIncome</th>\n",
       "      <th>NumCompaniesWorked</th>\n",
       "      <th>PercentSalaryHike</th>\n",
       "      <th>PerformanceRating</th>\n",
       "      <th>StockOptionLevel</th>\n",
       "      <th>TotalWorkingYears</th>\n",
       "      <th>TrainingTimesLastYear</th>\n",
       "      <th>YearsAtCompany</th>\n",
       "      <th>YearsSinceLastPromotion</th>\n",
       "      <th>YearsWithCurrManager</th>\n",
       "      <th>Date_of_termination</th>\n",
       "      <th>Leaves</th>\n",
       "      <th>Absenteeism</th>\n",
       "      <th>Unnamed: 32</th>\n",
       "    </tr>\n",
       "  </thead>\n",
       "  <tbody>\n",
       "    <tr>\n",
       "      <th>count</th>\n",
       "      <td>1470.000000</td>\n",
       "      <td>1470.000000</td>\n",
       "      <td>1470.000000</td>\n",
       "      <td>1470.000000</td>\n",
       "      <td>1470.000000</td>\n",
       "      <td>1470.000000</td>\n",
       "      <td>1470.000000</td>\n",
       "      <td>1470.000000</td>\n",
       "      <td>1470.000000</td>\n",
       "      <td>1470.000000</td>\n",
       "      <td>1470.000000</td>\n",
       "      <td>1470.000000</td>\n",
       "      <td>1470.000000</td>\n",
       "      <td>1470.000000</td>\n",
       "      <td>1470.000000</td>\n",
       "      <td>0.0</td>\n",
       "      <td>1470.000000</td>\n",
       "      <td>1470.000000</td>\n",
       "      <td>0.0</td>\n",
       "    </tr>\n",
       "    <tr>\n",
       "      <th>mean</th>\n",
       "      <td>36.923810</td>\n",
       "      <td>9.192517</td>\n",
       "      <td>2.729932</td>\n",
       "      <td>2.063946</td>\n",
       "      <td>2.728571</td>\n",
       "      <td>6502.931293</td>\n",
       "      <td>2.693197</td>\n",
       "      <td>15.209524</td>\n",
       "      <td>3.153741</td>\n",
       "      <td>0.793878</td>\n",
       "      <td>11.279592</td>\n",
       "      <td>2.799320</td>\n",
       "      <td>7.008163</td>\n",
       "      <td>2.187755</td>\n",
       "      <td>4.123129</td>\n",
       "      <td>NaN</td>\n",
       "      <td>2.568707</td>\n",
       "      <td>1.525170</td>\n",
       "      <td>NaN</td>\n",
       "    </tr>\n",
       "    <tr>\n",
       "      <th>std</th>\n",
       "      <td>9.135373</td>\n",
       "      <td>8.106864</td>\n",
       "      <td>0.711561</td>\n",
       "      <td>1.106940</td>\n",
       "      <td>1.102846</td>\n",
       "      <td>4707.956783</td>\n",
       "      <td>2.498009</td>\n",
       "      <td>3.659938</td>\n",
       "      <td>0.360824</td>\n",
       "      <td>0.852077</td>\n",
       "      <td>7.780782</td>\n",
       "      <td>1.289271</td>\n",
       "      <td>6.126525</td>\n",
       "      <td>3.222430</td>\n",
       "      <td>3.568136</td>\n",
       "      <td>NaN</td>\n",
       "      <td>1.716171</td>\n",
       "      <td>1.097856</td>\n",
       "      <td>NaN</td>\n",
       "    </tr>\n",
       "    <tr>\n",
       "      <th>min</th>\n",
       "      <td>18.000000</td>\n",
       "      <td>1.000000</td>\n",
       "      <td>1.000000</td>\n",
       "      <td>1.000000</td>\n",
       "      <td>1.000000</td>\n",
       "      <td>1009.000000</td>\n",
       "      <td>0.000000</td>\n",
       "      <td>11.000000</td>\n",
       "      <td>3.000000</td>\n",
       "      <td>0.000000</td>\n",
       "      <td>0.000000</td>\n",
       "      <td>0.000000</td>\n",
       "      <td>0.000000</td>\n",
       "      <td>0.000000</td>\n",
       "      <td>0.000000</td>\n",
       "      <td>NaN</td>\n",
       "      <td>0.000000</td>\n",
       "      <td>0.000000</td>\n",
       "      <td>NaN</td>\n",
       "    </tr>\n",
       "    <tr>\n",
       "      <th>25%</th>\n",
       "      <td>30.000000</td>\n",
       "      <td>2.000000</td>\n",
       "      <td>2.000000</td>\n",
       "      <td>1.000000</td>\n",
       "      <td>2.000000</td>\n",
       "      <td>2911.000000</td>\n",
       "      <td>1.000000</td>\n",
       "      <td>12.000000</td>\n",
       "      <td>3.000000</td>\n",
       "      <td>0.000000</td>\n",
       "      <td>6.000000</td>\n",
       "      <td>2.000000</td>\n",
       "      <td>3.000000</td>\n",
       "      <td>0.000000</td>\n",
       "      <td>2.000000</td>\n",
       "      <td>NaN</td>\n",
       "      <td>1.000000</td>\n",
       "      <td>1.000000</td>\n",
       "      <td>NaN</td>\n",
       "    </tr>\n",
       "    <tr>\n",
       "      <th>50%</th>\n",
       "      <td>36.000000</td>\n",
       "      <td>7.000000</td>\n",
       "      <td>3.000000</td>\n",
       "      <td>2.000000</td>\n",
       "      <td>3.000000</td>\n",
       "      <td>4919.000000</td>\n",
       "      <td>2.000000</td>\n",
       "      <td>14.000000</td>\n",
       "      <td>3.000000</td>\n",
       "      <td>1.000000</td>\n",
       "      <td>10.000000</td>\n",
       "      <td>3.000000</td>\n",
       "      <td>5.000000</td>\n",
       "      <td>1.000000</td>\n",
       "      <td>3.000000</td>\n",
       "      <td>NaN</td>\n",
       "      <td>3.000000</td>\n",
       "      <td>2.000000</td>\n",
       "      <td>NaN</td>\n",
       "    </tr>\n",
       "    <tr>\n",
       "      <th>75%</th>\n",
       "      <td>43.000000</td>\n",
       "      <td>14.000000</td>\n",
       "      <td>3.000000</td>\n",
       "      <td>3.000000</td>\n",
       "      <td>4.000000</td>\n",
       "      <td>8379.000000</td>\n",
       "      <td>4.000000</td>\n",
       "      <td>18.000000</td>\n",
       "      <td>3.000000</td>\n",
       "      <td>1.000000</td>\n",
       "      <td>15.000000</td>\n",
       "      <td>3.000000</td>\n",
       "      <td>9.000000</td>\n",
       "      <td>3.000000</td>\n",
       "      <td>7.000000</td>\n",
       "      <td>NaN</td>\n",
       "      <td>4.000000</td>\n",
       "      <td>2.000000</td>\n",
       "      <td>NaN</td>\n",
       "    </tr>\n",
       "    <tr>\n",
       "      <th>max</th>\n",
       "      <td>60.000000</td>\n",
       "      <td>29.000000</td>\n",
       "      <td>4.000000</td>\n",
       "      <td>5.000000</td>\n",
       "      <td>4.000000</td>\n",
       "      <td>19999.000000</td>\n",
       "      <td>9.000000</td>\n",
       "      <td>25.000000</td>\n",
       "      <td>4.000000</td>\n",
       "      <td>3.000000</td>\n",
       "      <td>40.000000</td>\n",
       "      <td>6.000000</td>\n",
       "      <td>40.000000</td>\n",
       "      <td>15.000000</td>\n",
       "      <td>17.000000</td>\n",
       "      <td>NaN</td>\n",
       "      <td>5.000000</td>\n",
       "      <td>3.000000</td>\n",
       "      <td>NaN</td>\n",
       "    </tr>\n",
       "  </tbody>\n",
       "</table>\n",
       "</div>"
      ],
      "text/plain": [
       "               Age  DistanceFromHome  JobInvolvement     JobLevel  \\\n",
       "count  1470.000000       1470.000000     1470.000000  1470.000000   \n",
       "mean     36.923810          9.192517        2.729932     2.063946   \n",
       "std       9.135373          8.106864        0.711561     1.106940   \n",
       "min      18.000000          1.000000        1.000000     1.000000   \n",
       "25%      30.000000          2.000000        2.000000     1.000000   \n",
       "50%      36.000000          7.000000        3.000000     2.000000   \n",
       "75%      43.000000         14.000000        3.000000     3.000000   \n",
       "max      60.000000         29.000000        4.000000     5.000000   \n",
       "\n",
       "       JobSatisfaction  MonthlyIncome  NumCompaniesWorked  PercentSalaryHike  \\\n",
       "count      1470.000000    1470.000000         1470.000000        1470.000000   \n",
       "mean          2.728571    6502.931293            2.693197          15.209524   \n",
       "std           1.102846    4707.956783            2.498009           3.659938   \n",
       "min           1.000000    1009.000000            0.000000          11.000000   \n",
       "25%           2.000000    2911.000000            1.000000          12.000000   \n",
       "50%           3.000000    4919.000000            2.000000          14.000000   \n",
       "75%           4.000000    8379.000000            4.000000          18.000000   \n",
       "max           4.000000   19999.000000            9.000000          25.000000   \n",
       "\n",
       "       PerformanceRating  StockOptionLevel  TotalWorkingYears  \\\n",
       "count        1470.000000       1470.000000        1470.000000   \n",
       "mean            3.153741          0.793878          11.279592   \n",
       "std             0.360824          0.852077           7.780782   \n",
       "min             3.000000          0.000000           0.000000   \n",
       "25%             3.000000          0.000000           6.000000   \n",
       "50%             3.000000          1.000000          10.000000   \n",
       "75%             3.000000          1.000000          15.000000   \n",
       "max             4.000000          3.000000          40.000000   \n",
       "\n",
       "       TrainingTimesLastYear  YearsAtCompany  YearsSinceLastPromotion  \\\n",
       "count            1470.000000     1470.000000              1470.000000   \n",
       "mean                2.799320        7.008163                 2.187755   \n",
       "std                 1.289271        6.126525                 3.222430   \n",
       "min                 0.000000        0.000000                 0.000000   \n",
       "25%                 2.000000        3.000000                 0.000000   \n",
       "50%                 3.000000        5.000000                 1.000000   \n",
       "75%                 3.000000        9.000000                 3.000000   \n",
       "max                 6.000000       40.000000                15.000000   \n",
       "\n",
       "       YearsWithCurrManager  Date_of_termination       Leaves  Absenteeism  \\\n",
       "count           1470.000000                  0.0  1470.000000  1470.000000   \n",
       "mean               4.123129                  NaN     2.568707     1.525170   \n",
       "std                3.568136                  NaN     1.716171     1.097856   \n",
       "min                0.000000                  NaN     0.000000     0.000000   \n",
       "25%                2.000000                  NaN     1.000000     1.000000   \n",
       "50%                3.000000                  NaN     3.000000     2.000000   \n",
       "75%                7.000000                  NaN     4.000000     2.000000   \n",
       "max               17.000000                  NaN     5.000000     3.000000   \n",
       "\n",
       "       Unnamed: 32  \n",
       "count          0.0  \n",
       "mean           NaN  \n",
       "std            NaN  \n",
       "min            NaN  \n",
       "25%            NaN  \n",
       "50%            NaN  \n",
       "75%            NaN  \n",
       "max            NaN  "
      ]
     },
     "execution_count": 65,
     "metadata": {},
     "output_type": "execute_result"
    }
   ],
   "source": [
    "df.describe()"
   ]
  },
  {
   "cell_type": "markdown",
   "metadata": {},
   "source": [
    "# isnull Function"
   ]
  },
  {
   "cell_type": "code",
   "execution_count": 66,
   "metadata": {},
   "outputs": [
    {
     "data": {
      "text/html": [
       "<div>\n",
       "<style scoped>\n",
       "    .dataframe tbody tr th:only-of-type {\n",
       "        vertical-align: middle;\n",
       "    }\n",
       "\n",
       "    .dataframe tbody tr th {\n",
       "        vertical-align: top;\n",
       "    }\n",
       "\n",
       "    .dataframe thead th {\n",
       "        text-align: right;\n",
       "    }\n",
       "</style>\n",
       "<table border=\"1\" class=\"dataframe\">\n",
       "  <thead>\n",
       "    <tr style=\"text-align: right;\">\n",
       "      <th></th>\n",
       "      <th>Age</th>\n",
       "      <th>Attrition</th>\n",
       "      <th>BusinessTravel</th>\n",
       "      <th>Department</th>\n",
       "      <th>DistanceFromHome</th>\n",
       "      <th>Gender</th>\n",
       "      <th>JobInvolvement</th>\n",
       "      <th>JobLevel</th>\n",
       "      <th>JobRole</th>\n",
       "      <th>JobSatisfaction</th>\n",
       "      <th>...</th>\n",
       "      <th>Date_of_Hire</th>\n",
       "      <th>Date_of_termination</th>\n",
       "      <th>Status_of_leaving</th>\n",
       "      <th>Mode_of_work</th>\n",
       "      <th>Leaves</th>\n",
       "      <th>Absenteeism</th>\n",
       "      <th>Work_accident</th>\n",
       "      <th>Source_of_Hire</th>\n",
       "      <th>Job_mode</th>\n",
       "      <th>Unnamed: 32</th>\n",
       "    </tr>\n",
       "  </thead>\n",
       "  <tbody>\n",
       "    <tr>\n",
       "      <th>0</th>\n",
       "      <td>False</td>\n",
       "      <td>False</td>\n",
       "      <td>False</td>\n",
       "      <td>False</td>\n",
       "      <td>False</td>\n",
       "      <td>False</td>\n",
       "      <td>False</td>\n",
       "      <td>False</td>\n",
       "      <td>False</td>\n",
       "      <td>False</td>\n",
       "      <td>...</td>\n",
       "      <td>False</td>\n",
       "      <td>True</td>\n",
       "      <td>False</td>\n",
       "      <td>False</td>\n",
       "      <td>False</td>\n",
       "      <td>False</td>\n",
       "      <td>False</td>\n",
       "      <td>False</td>\n",
       "      <td>False</td>\n",
       "      <td>True</td>\n",
       "    </tr>\n",
       "    <tr>\n",
       "      <th>1</th>\n",
       "      <td>False</td>\n",
       "      <td>False</td>\n",
       "      <td>False</td>\n",
       "      <td>False</td>\n",
       "      <td>False</td>\n",
       "      <td>False</td>\n",
       "      <td>False</td>\n",
       "      <td>False</td>\n",
       "      <td>False</td>\n",
       "      <td>False</td>\n",
       "      <td>...</td>\n",
       "      <td>False</td>\n",
       "      <td>True</td>\n",
       "      <td>False</td>\n",
       "      <td>False</td>\n",
       "      <td>False</td>\n",
       "      <td>False</td>\n",
       "      <td>False</td>\n",
       "      <td>False</td>\n",
       "      <td>False</td>\n",
       "      <td>True</td>\n",
       "    </tr>\n",
       "    <tr>\n",
       "      <th>2</th>\n",
       "      <td>False</td>\n",
       "      <td>False</td>\n",
       "      <td>False</td>\n",
       "      <td>False</td>\n",
       "      <td>False</td>\n",
       "      <td>False</td>\n",
       "      <td>False</td>\n",
       "      <td>False</td>\n",
       "      <td>False</td>\n",
       "      <td>False</td>\n",
       "      <td>...</td>\n",
       "      <td>False</td>\n",
       "      <td>True</td>\n",
       "      <td>False</td>\n",
       "      <td>False</td>\n",
       "      <td>False</td>\n",
       "      <td>False</td>\n",
       "      <td>False</td>\n",
       "      <td>False</td>\n",
       "      <td>False</td>\n",
       "      <td>True</td>\n",
       "    </tr>\n",
       "    <tr>\n",
       "      <th>3</th>\n",
       "      <td>False</td>\n",
       "      <td>False</td>\n",
       "      <td>False</td>\n",
       "      <td>False</td>\n",
       "      <td>False</td>\n",
       "      <td>False</td>\n",
       "      <td>False</td>\n",
       "      <td>False</td>\n",
       "      <td>False</td>\n",
       "      <td>False</td>\n",
       "      <td>...</td>\n",
       "      <td>False</td>\n",
       "      <td>True</td>\n",
       "      <td>False</td>\n",
       "      <td>False</td>\n",
       "      <td>False</td>\n",
       "      <td>False</td>\n",
       "      <td>False</td>\n",
       "      <td>False</td>\n",
       "      <td>False</td>\n",
       "      <td>True</td>\n",
       "    </tr>\n",
       "    <tr>\n",
       "      <th>4</th>\n",
       "      <td>False</td>\n",
       "      <td>False</td>\n",
       "      <td>False</td>\n",
       "      <td>False</td>\n",
       "      <td>False</td>\n",
       "      <td>False</td>\n",
       "      <td>False</td>\n",
       "      <td>False</td>\n",
       "      <td>False</td>\n",
       "      <td>False</td>\n",
       "      <td>...</td>\n",
       "      <td>False</td>\n",
       "      <td>True</td>\n",
       "      <td>False</td>\n",
       "      <td>False</td>\n",
       "      <td>False</td>\n",
       "      <td>False</td>\n",
       "      <td>False</td>\n",
       "      <td>False</td>\n",
       "      <td>False</td>\n",
       "      <td>True</td>\n",
       "    </tr>\n",
       "    <tr>\n",
       "      <th>...</th>\n",
       "      <td>...</td>\n",
       "      <td>...</td>\n",
       "      <td>...</td>\n",
       "      <td>...</td>\n",
       "      <td>...</td>\n",
       "      <td>...</td>\n",
       "      <td>...</td>\n",
       "      <td>...</td>\n",
       "      <td>...</td>\n",
       "      <td>...</td>\n",
       "      <td>...</td>\n",
       "      <td>...</td>\n",
       "      <td>...</td>\n",
       "      <td>...</td>\n",
       "      <td>...</td>\n",
       "      <td>...</td>\n",
       "      <td>...</td>\n",
       "      <td>...</td>\n",
       "      <td>...</td>\n",
       "      <td>...</td>\n",
       "      <td>...</td>\n",
       "    </tr>\n",
       "    <tr>\n",
       "      <th>1465</th>\n",
       "      <td>False</td>\n",
       "      <td>False</td>\n",
       "      <td>False</td>\n",
       "      <td>False</td>\n",
       "      <td>False</td>\n",
       "      <td>False</td>\n",
       "      <td>False</td>\n",
       "      <td>False</td>\n",
       "      <td>False</td>\n",
       "      <td>False</td>\n",
       "      <td>...</td>\n",
       "      <td>False</td>\n",
       "      <td>True</td>\n",
       "      <td>False</td>\n",
       "      <td>False</td>\n",
       "      <td>False</td>\n",
       "      <td>False</td>\n",
       "      <td>False</td>\n",
       "      <td>False</td>\n",
       "      <td>False</td>\n",
       "      <td>True</td>\n",
       "    </tr>\n",
       "    <tr>\n",
       "      <th>1466</th>\n",
       "      <td>False</td>\n",
       "      <td>False</td>\n",
       "      <td>False</td>\n",
       "      <td>False</td>\n",
       "      <td>False</td>\n",
       "      <td>False</td>\n",
       "      <td>False</td>\n",
       "      <td>False</td>\n",
       "      <td>False</td>\n",
       "      <td>False</td>\n",
       "      <td>...</td>\n",
       "      <td>False</td>\n",
       "      <td>True</td>\n",
       "      <td>False</td>\n",
       "      <td>False</td>\n",
       "      <td>False</td>\n",
       "      <td>False</td>\n",
       "      <td>False</td>\n",
       "      <td>False</td>\n",
       "      <td>False</td>\n",
       "      <td>True</td>\n",
       "    </tr>\n",
       "    <tr>\n",
       "      <th>1467</th>\n",
       "      <td>False</td>\n",
       "      <td>False</td>\n",
       "      <td>False</td>\n",
       "      <td>False</td>\n",
       "      <td>False</td>\n",
       "      <td>False</td>\n",
       "      <td>False</td>\n",
       "      <td>False</td>\n",
       "      <td>False</td>\n",
       "      <td>False</td>\n",
       "      <td>...</td>\n",
       "      <td>False</td>\n",
       "      <td>True</td>\n",
       "      <td>False</td>\n",
       "      <td>False</td>\n",
       "      <td>False</td>\n",
       "      <td>False</td>\n",
       "      <td>False</td>\n",
       "      <td>False</td>\n",
       "      <td>False</td>\n",
       "      <td>True</td>\n",
       "    </tr>\n",
       "    <tr>\n",
       "      <th>1468</th>\n",
       "      <td>False</td>\n",
       "      <td>False</td>\n",
       "      <td>False</td>\n",
       "      <td>False</td>\n",
       "      <td>False</td>\n",
       "      <td>False</td>\n",
       "      <td>False</td>\n",
       "      <td>False</td>\n",
       "      <td>False</td>\n",
       "      <td>False</td>\n",
       "      <td>...</td>\n",
       "      <td>False</td>\n",
       "      <td>True</td>\n",
       "      <td>False</td>\n",
       "      <td>False</td>\n",
       "      <td>False</td>\n",
       "      <td>False</td>\n",
       "      <td>False</td>\n",
       "      <td>False</td>\n",
       "      <td>False</td>\n",
       "      <td>True</td>\n",
       "    </tr>\n",
       "    <tr>\n",
       "      <th>1469</th>\n",
       "      <td>False</td>\n",
       "      <td>False</td>\n",
       "      <td>False</td>\n",
       "      <td>False</td>\n",
       "      <td>False</td>\n",
       "      <td>False</td>\n",
       "      <td>False</td>\n",
       "      <td>False</td>\n",
       "      <td>False</td>\n",
       "      <td>False</td>\n",
       "      <td>...</td>\n",
       "      <td>False</td>\n",
       "      <td>True</td>\n",
       "      <td>False</td>\n",
       "      <td>False</td>\n",
       "      <td>False</td>\n",
       "      <td>False</td>\n",
       "      <td>False</td>\n",
       "      <td>False</td>\n",
       "      <td>False</td>\n",
       "      <td>True</td>\n",
       "    </tr>\n",
       "  </tbody>\n",
       "</table>\n",
       "<p>1470 rows × 33 columns</p>\n",
       "</div>"
      ],
      "text/plain": [
       "        Age  Attrition  BusinessTravel  Department  DistanceFromHome  Gender  \\\n",
       "0     False      False           False       False             False   False   \n",
       "1     False      False           False       False             False   False   \n",
       "2     False      False           False       False             False   False   \n",
       "3     False      False           False       False             False   False   \n",
       "4     False      False           False       False             False   False   \n",
       "...     ...        ...             ...         ...               ...     ...   \n",
       "1465  False      False           False       False             False   False   \n",
       "1466  False      False           False       False             False   False   \n",
       "1467  False      False           False       False             False   False   \n",
       "1468  False      False           False       False             False   False   \n",
       "1469  False      False           False       False             False   False   \n",
       "\n",
       "      JobInvolvement  JobLevel  JobRole  JobSatisfaction  ...  Date_of_Hire  \\\n",
       "0              False     False    False            False  ...         False   \n",
       "1              False     False    False            False  ...         False   \n",
       "2              False     False    False            False  ...         False   \n",
       "3              False     False    False            False  ...         False   \n",
       "4              False     False    False            False  ...         False   \n",
       "...              ...       ...      ...              ...  ...           ...   \n",
       "1465           False     False    False            False  ...         False   \n",
       "1466           False     False    False            False  ...         False   \n",
       "1467           False     False    False            False  ...         False   \n",
       "1468           False     False    False            False  ...         False   \n",
       "1469           False     False    False            False  ...         False   \n",
       "\n",
       "      Date_of_termination  Status_of_leaving  Mode_of_work  Leaves  \\\n",
       "0                    True              False         False   False   \n",
       "1                    True              False         False   False   \n",
       "2                    True              False         False   False   \n",
       "3                    True              False         False   False   \n",
       "4                    True              False         False   False   \n",
       "...                   ...                ...           ...     ...   \n",
       "1465                 True              False         False   False   \n",
       "1466                 True              False         False   False   \n",
       "1467                 True              False         False   False   \n",
       "1468                 True              False         False   False   \n",
       "1469                 True              False         False   False   \n",
       "\n",
       "      Absenteeism  Work_accident  Source_of_Hire  Job_mode  Unnamed: 32  \n",
       "0           False          False           False     False         True  \n",
       "1           False          False           False     False         True  \n",
       "2           False          False           False     False         True  \n",
       "3           False          False           False     False         True  \n",
       "4           False          False           False     False         True  \n",
       "...           ...            ...             ...       ...          ...  \n",
       "1465        False          False           False     False         True  \n",
       "1466        False          False           False     False         True  \n",
       "1467        False          False           False     False         True  \n",
       "1468        False          False           False     False         True  \n",
       "1469        False          False           False     False         True  \n",
       "\n",
       "[1470 rows x 33 columns]"
      ]
     },
     "execution_count": 66,
     "metadata": {},
     "output_type": "execute_result"
    }
   ],
   "source": [
    "df.isnull()"
   ]
  },
  {
   "cell_type": "markdown",
   "metadata": {},
   "source": [
    "# Missing Data Values"
   ]
  },
  {
   "cell_type": "code",
   "execution_count": 67,
   "metadata": {},
   "outputs": [
    {
     "data": {
      "text/plain": [
       "Age                           0\n",
       "Attrition                     0\n",
       "BusinessTravel                0\n",
       "Department                    0\n",
       "DistanceFromHome              0\n",
       "Gender                        0\n",
       "JobInvolvement                0\n",
       "JobLevel                      0\n",
       "JobRole                       0\n",
       "JobSatisfaction               0\n",
       "MaritalStatus                 0\n",
       "MonthlyIncome                 0\n",
       "NumCompaniesWorked            0\n",
       "OverTime                      0\n",
       "PercentSalaryHike             0\n",
       "PerformanceRating             0\n",
       "StockOptionLevel              0\n",
       "TotalWorkingYears             0\n",
       "TrainingTimesLastYear         0\n",
       "YearsAtCompany                0\n",
       "YearsSinceLastPromotion       0\n",
       "YearsWithCurrManager          0\n",
       "Higher_Education              0\n",
       "Date_of_Hire                  0\n",
       "Date_of_termination        1470\n",
       "Status_of_leaving             0\n",
       "Mode_of_work                  0\n",
       "Leaves                        0\n",
       "Absenteeism                   0\n",
       "Work_accident                 0\n",
       "Source_of_Hire                0\n",
       "Job_mode                      0\n",
       "Unnamed: 32                1470\n",
       "dtype: int64"
      ]
     },
     "execution_count": 67,
     "metadata": {},
     "output_type": "execute_result"
    }
   ],
   "source": [
    "# Checking for null values\n",
    "df.isnull().sum()"
   ]
  },
  {
   "cell_type": "raw",
   "metadata": {},
   "source": [
    "There are two rows having null values & they are having all null values, so we can drop those columns."
   ]
  },
  {
   "cell_type": "markdown",
   "metadata": {},
   "source": [
    "## Droping the two columns"
   ]
  },
  {
   "cell_type": "code",
   "execution_count": 68,
   "metadata": {},
   "outputs": [],
   "source": [
    "\n",
    "df = df.drop([\"Date_of_termination\",\"Unnamed: 32\"], axis=1)"
   ]
  },
  {
   "cell_type": "code",
   "execution_count": 69,
   "metadata": {
    "scrolled": true
   },
   "outputs": [
    {
     "data": {
      "text/html": [
       "<div>\n",
       "<style scoped>\n",
       "    .dataframe tbody tr th:only-of-type {\n",
       "        vertical-align: middle;\n",
       "    }\n",
       "\n",
       "    .dataframe tbody tr th {\n",
       "        vertical-align: top;\n",
       "    }\n",
       "\n",
       "    .dataframe thead th {\n",
       "        text-align: right;\n",
       "    }\n",
       "</style>\n",
       "<table border=\"1\" class=\"dataframe\">\n",
       "  <thead>\n",
       "    <tr style=\"text-align: right;\">\n",
       "      <th></th>\n",
       "      <th>Age</th>\n",
       "      <th>Attrition</th>\n",
       "      <th>BusinessTravel</th>\n",
       "      <th>Department</th>\n",
       "      <th>DistanceFromHome</th>\n",
       "      <th>Gender</th>\n",
       "      <th>JobInvolvement</th>\n",
       "      <th>JobLevel</th>\n",
       "      <th>JobRole</th>\n",
       "      <th>JobSatisfaction</th>\n",
       "      <th>...</th>\n",
       "      <th>YearsWithCurrManager</th>\n",
       "      <th>Higher_Education</th>\n",
       "      <th>Date_of_Hire</th>\n",
       "      <th>Status_of_leaving</th>\n",
       "      <th>Mode_of_work</th>\n",
       "      <th>Leaves</th>\n",
       "      <th>Absenteeism</th>\n",
       "      <th>Work_accident</th>\n",
       "      <th>Source_of_Hire</th>\n",
       "      <th>Job_mode</th>\n",
       "    </tr>\n",
       "  </thead>\n",
       "  <tbody>\n",
       "    <tr>\n",
       "      <th>0</th>\n",
       "      <td>37</td>\n",
       "      <td>Yes</td>\n",
       "      <td>Travel_Rarely</td>\n",
       "      <td>Research &amp; Development</td>\n",
       "      <td>2</td>\n",
       "      <td>Male</td>\n",
       "      <td>2</td>\n",
       "      <td>1</td>\n",
       "      <td>Laboratory Technician</td>\n",
       "      <td>3</td>\n",
       "      <td>...</td>\n",
       "      <td>0</td>\n",
       "      <td>Graduation</td>\n",
       "      <td>21-01-2021</td>\n",
       "      <td>Salary</td>\n",
       "      <td>OFFICE</td>\n",
       "      <td>4</td>\n",
       "      <td>2</td>\n",
       "      <td>No</td>\n",
       "      <td>Job Event</td>\n",
       "      <td>Contract</td>\n",
       "    </tr>\n",
       "    <tr>\n",
       "      <th>1</th>\n",
       "      <td>21</td>\n",
       "      <td>No</td>\n",
       "      <td>Travel_Rarely</td>\n",
       "      <td>Research &amp; Development</td>\n",
       "      <td>15</td>\n",
       "      <td>Male</td>\n",
       "      <td>3</td>\n",
       "      <td>1</td>\n",
       "      <td>Research Scientist</td>\n",
       "      <td>4</td>\n",
       "      <td>...</td>\n",
       "      <td>0</td>\n",
       "      <td>Graduation</td>\n",
       "      <td>13-03-2021</td>\n",
       "      <td>Work Accident</td>\n",
       "      <td>WFH</td>\n",
       "      <td>5</td>\n",
       "      <td>2</td>\n",
       "      <td>No</td>\n",
       "      <td>Recruiter</td>\n",
       "      <td>Part Time</td>\n",
       "    </tr>\n",
       "    <tr>\n",
       "      <th>2</th>\n",
       "      <td>45</td>\n",
       "      <td>No</td>\n",
       "      <td>Travel_Rarely</td>\n",
       "      <td>Research &amp; Development</td>\n",
       "      <td>6</td>\n",
       "      <td>Male</td>\n",
       "      <td>3</td>\n",
       "      <td>3</td>\n",
       "      <td>Research Director</td>\n",
       "      <td>1</td>\n",
       "      <td>...</td>\n",
       "      <td>0</td>\n",
       "      <td>Post-Graduation</td>\n",
       "      <td>23-01-2021</td>\n",
       "      <td>Dept.Head</td>\n",
       "      <td>WFH</td>\n",
       "      <td>1</td>\n",
       "      <td>3</td>\n",
       "      <td>No</td>\n",
       "      <td>Job Event</td>\n",
       "      <td>Contract</td>\n",
       "    </tr>\n",
       "    <tr>\n",
       "      <th>3</th>\n",
       "      <td>23</td>\n",
       "      <td>No</td>\n",
       "      <td>Travel_Rarely</td>\n",
       "      <td>Sales</td>\n",
       "      <td>2</td>\n",
       "      <td>Male</td>\n",
       "      <td>3</td>\n",
       "      <td>1</td>\n",
       "      <td>Sales Representative</td>\n",
       "      <td>1</td>\n",
       "      <td>...</td>\n",
       "      <td>0</td>\n",
       "      <td>PHD</td>\n",
       "      <td>25-04-2021</td>\n",
       "      <td>Work Accident</td>\n",
       "      <td>OFFICE</td>\n",
       "      <td>1</td>\n",
       "      <td>0</td>\n",
       "      <td>Yes</td>\n",
       "      <td>Recruiter</td>\n",
       "      <td>FullTime</td>\n",
       "    </tr>\n",
       "    <tr>\n",
       "      <th>4</th>\n",
       "      <td>22</td>\n",
       "      <td>No</td>\n",
       "      <td>Travel_Rarely</td>\n",
       "      <td>Research &amp; Development</td>\n",
       "      <td>15</td>\n",
       "      <td>Female</td>\n",
       "      <td>3</td>\n",
       "      <td>1</td>\n",
       "      <td>Laboratory Technician</td>\n",
       "      <td>4</td>\n",
       "      <td>...</td>\n",
       "      <td>0</td>\n",
       "      <td>PHD</td>\n",
       "      <td>14-06-2021</td>\n",
       "      <td>Better Opportunity</td>\n",
       "      <td>WFH</td>\n",
       "      <td>5</td>\n",
       "      <td>2</td>\n",
       "      <td>No</td>\n",
       "      <td>Job Event</td>\n",
       "      <td>Contract</td>\n",
       "    </tr>\n",
       "    <tr>\n",
       "      <th>...</th>\n",
       "      <td>...</td>\n",
       "      <td>...</td>\n",
       "      <td>...</td>\n",
       "      <td>...</td>\n",
       "      <td>...</td>\n",
       "      <td>...</td>\n",
       "      <td>...</td>\n",
       "      <td>...</td>\n",
       "      <td>...</td>\n",
       "      <td>...</td>\n",
       "      <td>...</td>\n",
       "      <td>...</td>\n",
       "      <td>...</td>\n",
       "      <td>...</td>\n",
       "      <td>...</td>\n",
       "      <td>...</td>\n",
       "      <td>...</td>\n",
       "      <td>...</td>\n",
       "      <td>...</td>\n",
       "      <td>...</td>\n",
       "      <td>...</td>\n",
       "    </tr>\n",
       "    <tr>\n",
       "      <th>1465</th>\n",
       "      <td>52</td>\n",
       "      <td>No</td>\n",
       "      <td>Travel_Rarely</td>\n",
       "      <td>Sales</td>\n",
       "      <td>3</td>\n",
       "      <td>Male</td>\n",
       "      <td>2</td>\n",
       "      <td>4</td>\n",
       "      <td>Manager</td>\n",
       "      <td>1</td>\n",
       "      <td>...</td>\n",
       "      <td>16</td>\n",
       "      <td>Post-Graduation</td>\n",
       "      <td>05-06-1987</td>\n",
       "      <td>Salary</td>\n",
       "      <td>OFFICE</td>\n",
       "      <td>3</td>\n",
       "      <td>2</td>\n",
       "      <td>No</td>\n",
       "      <td>Job Portal</td>\n",
       "      <td>Part Time</td>\n",
       "    </tr>\n",
       "    <tr>\n",
       "      <th>1466</th>\n",
       "      <td>55</td>\n",
       "      <td>No</td>\n",
       "      <td>Travel_Rarely</td>\n",
       "      <td>Research &amp; Development</td>\n",
       "      <td>1</td>\n",
       "      <td>Male</td>\n",
       "      <td>3</td>\n",
       "      <td>5</td>\n",
       "      <td>Manager</td>\n",
       "      <td>1</td>\n",
       "      <td>...</td>\n",
       "      <td>13</td>\n",
       "      <td>Post-Graduation</td>\n",
       "      <td>20-01-1985</td>\n",
       "      <td>Work Accident</td>\n",
       "      <td>WFH</td>\n",
       "      <td>1</td>\n",
       "      <td>1</td>\n",
       "      <td>No</td>\n",
       "      <td>Walk-in</td>\n",
       "      <td>FullTime</td>\n",
       "    </tr>\n",
       "    <tr>\n",
       "      <th>1467</th>\n",
       "      <td>55</td>\n",
       "      <td>No</td>\n",
       "      <td>Travel_Rarely</td>\n",
       "      <td>Sales</td>\n",
       "      <td>26</td>\n",
       "      <td>Male</td>\n",
       "      <td>2</td>\n",
       "      <td>5</td>\n",
       "      <td>Manager</td>\n",
       "      <td>4</td>\n",
       "      <td>...</td>\n",
       "      <td>13</td>\n",
       "      <td>Post-Graduation</td>\n",
       "      <td>17-02-1985</td>\n",
       "      <td>Work Accident</td>\n",
       "      <td>OFFICE</td>\n",
       "      <td>2</td>\n",
       "      <td>1</td>\n",
       "      <td>No</td>\n",
       "      <td>Recruiter</td>\n",
       "      <td>Part Time</td>\n",
       "    </tr>\n",
       "    <tr>\n",
       "      <th>1468</th>\n",
       "      <td>58</td>\n",
       "      <td>No</td>\n",
       "      <td>Travel_Rarely</td>\n",
       "      <td>Sales</td>\n",
       "      <td>10</td>\n",
       "      <td>Male</td>\n",
       "      <td>3</td>\n",
       "      <td>4</td>\n",
       "      <td>Sales Executive</td>\n",
       "      <td>3</td>\n",
       "      <td>...</td>\n",
       "      <td>8</td>\n",
       "      <td>PHD</td>\n",
       "      <td>29-06-1984</td>\n",
       "      <td>Work Environment</td>\n",
       "      <td>WFH</td>\n",
       "      <td>2</td>\n",
       "      <td>2</td>\n",
       "      <td>Yes</td>\n",
       "      <td>Job Event</td>\n",
       "      <td>Part Time</td>\n",
       "    </tr>\n",
       "    <tr>\n",
       "      <th>1469</th>\n",
       "      <td>58</td>\n",
       "      <td>Yes</td>\n",
       "      <td>Travel_Rarely</td>\n",
       "      <td>Research &amp; Development</td>\n",
       "      <td>23</td>\n",
       "      <td>Female</td>\n",
       "      <td>3</td>\n",
       "      <td>3</td>\n",
       "      <td>Healthcare Representative</td>\n",
       "      <td>4</td>\n",
       "      <td>...</td>\n",
       "      <td>6</td>\n",
       "      <td>12th</td>\n",
       "      <td>08-02-1981</td>\n",
       "      <td>Work Environment</td>\n",
       "      <td>WFH</td>\n",
       "      <td>4</td>\n",
       "      <td>3</td>\n",
       "      <td>Yes</td>\n",
       "      <td>Job Portal</td>\n",
       "      <td>FullTime</td>\n",
       "    </tr>\n",
       "  </tbody>\n",
       "</table>\n",
       "<p>1470 rows × 31 columns</p>\n",
       "</div>"
      ],
      "text/plain": [
       "      Age Attrition BusinessTravel              Department  DistanceFromHome  \\\n",
       "0      37       Yes  Travel_Rarely  Research & Development                 2   \n",
       "1      21        No  Travel_Rarely  Research & Development                15   \n",
       "2      45        No  Travel_Rarely  Research & Development                 6   \n",
       "3      23        No  Travel_Rarely                   Sales                 2   \n",
       "4      22        No  Travel_Rarely  Research & Development                15   \n",
       "...   ...       ...            ...                     ...               ...   \n",
       "1465   52        No  Travel_Rarely                   Sales                 3   \n",
       "1466   55        No  Travel_Rarely  Research & Development                 1   \n",
       "1467   55        No  Travel_Rarely                   Sales                26   \n",
       "1468   58        No  Travel_Rarely                   Sales                10   \n",
       "1469   58       Yes  Travel_Rarely  Research & Development                23   \n",
       "\n",
       "      Gender  JobInvolvement  JobLevel                    JobRole  \\\n",
       "0       Male               2         1      Laboratory Technician   \n",
       "1       Male               3         1         Research Scientist   \n",
       "2       Male               3         3          Research Director   \n",
       "3       Male               3         1       Sales Representative   \n",
       "4     Female               3         1      Laboratory Technician   \n",
       "...      ...             ...       ...                        ...   \n",
       "1465    Male               2         4                    Manager   \n",
       "1466    Male               3         5                    Manager   \n",
       "1467    Male               2         5                    Manager   \n",
       "1468    Male               3         4            Sales Executive   \n",
       "1469  Female               3         3  Healthcare Representative   \n",
       "\n",
       "      JobSatisfaction  ... YearsWithCurrManager  Higher_Education  \\\n",
       "0                   3  ...                    0        Graduation   \n",
       "1                   4  ...                    0        Graduation   \n",
       "2                   1  ...                    0   Post-Graduation   \n",
       "3                   1  ...                    0               PHD   \n",
       "4                   4  ...                    0               PHD   \n",
       "...               ...  ...                  ...               ...   \n",
       "1465                1  ...                   16   Post-Graduation   \n",
       "1466                1  ...                   13   Post-Graduation   \n",
       "1467                4  ...                   13   Post-Graduation   \n",
       "1468                3  ...                    8               PHD   \n",
       "1469                4  ...                    6              12th   \n",
       "\n",
       "      Date_of_Hire   Status_of_leaving  Mode_of_work  Leaves  Absenteeism  \\\n",
       "0       21-01-2021              Salary        OFFICE       4            2   \n",
       "1       13-03-2021       Work Accident           WFH       5            2   \n",
       "2       23-01-2021           Dept.Head           WFH       1            3   \n",
       "3       25-04-2021       Work Accident        OFFICE       1            0   \n",
       "4       14-06-2021  Better Opportunity           WFH       5            2   \n",
       "...            ...                 ...           ...     ...          ...   \n",
       "1465    05-06-1987              Salary        OFFICE       3            2   \n",
       "1466    20-01-1985       Work Accident           WFH       1            1   \n",
       "1467    17-02-1985       Work Accident        OFFICE       2            1   \n",
       "1468    29-06-1984    Work Environment           WFH       2            2   \n",
       "1469    08-02-1981    Work Environment           WFH       4            3   \n",
       "\n",
       "      Work_accident  Source_of_Hire   Job_mode  \n",
       "0                No       Job Event   Contract  \n",
       "1                No       Recruiter  Part Time  \n",
       "2                No       Job Event   Contract  \n",
       "3               Yes       Recruiter   FullTime  \n",
       "4                No       Job Event   Contract  \n",
       "...             ...             ...        ...  \n",
       "1465             No      Job Portal  Part Time  \n",
       "1466             No         Walk-in   FullTime  \n",
       "1467             No       Recruiter  Part Time  \n",
       "1468            Yes       Job Event  Part Time  \n",
       "1469            Yes      Job Portal   FullTime  \n",
       "\n",
       "[1470 rows x 31 columns]"
      ]
     },
     "execution_count": 69,
     "metadata": {},
     "output_type": "execute_result"
    }
   ],
   "source": [
    "# new df after removing two columns\n",
    "df"
   ]
  },
  {
   "cell_type": "code",
   "execution_count": 70,
   "metadata": {},
   "outputs": [],
   "source": [
    "## Below are some codes to know about how many categories are there\n",
    "## for each categorical variable & number of the categories they have"
   ]
  },
  {
   "cell_type": "code",
   "execution_count": 71,
   "metadata": {
    "scrolled": true
   },
   "outputs": [
    {
     "data": {
      "text/plain": [
       "No     1233\n",
       "Yes     237\n",
       "Name: Attrition, dtype: int64"
      ]
     },
     "execution_count": 71,
     "metadata": {},
     "output_type": "execute_result"
    }
   ],
   "source": [
    "df[\"Attrition\"].value_counts()"
   ]
  },
  {
   "cell_type": "code",
   "execution_count": 72,
   "metadata": {
    "scrolled": true
   },
   "outputs": [
    {
     "data": {
      "text/plain": [
       "Travel_Rarely        1043\n",
       "Travel_Frequently     277\n",
       "Non-Travel            150\n",
       "Name: BusinessTravel, dtype: int64"
      ]
     },
     "execution_count": 72,
     "metadata": {},
     "output_type": "execute_result"
    }
   ],
   "source": [
    "df[\"BusinessTravel\"].value_counts()"
   ]
  },
  {
   "cell_type": "code",
   "execution_count": 73,
   "metadata": {},
   "outputs": [
    {
     "data": {
      "text/plain": [
       "Research & Development    961\n",
       "Sales                     446\n",
       "Human Resources            63\n",
       "Name: Department, dtype: int64"
      ]
     },
     "execution_count": 73,
     "metadata": {},
     "output_type": "execute_result"
    }
   ],
   "source": [
    "df[\"Department\"].value_counts()"
   ]
  },
  {
   "cell_type": "code",
   "execution_count": 74,
   "metadata": {
    "scrolled": false
   },
   "outputs": [
    {
     "data": {
      "text/plain": [
       "Male      882\n",
       "Female    588\n",
       "Name: Gender, dtype: int64"
      ]
     },
     "execution_count": 74,
     "metadata": {},
     "output_type": "execute_result"
    }
   ],
   "source": [
    "df[\"Gender\"].value_counts()"
   ]
  },
  {
   "cell_type": "code",
   "execution_count": 75,
   "metadata": {},
   "outputs": [
    {
     "data": {
      "text/plain": [
       "Sales Executive              326\n",
       "Research Scientist           292\n",
       "Laboratory Technician        259\n",
       "Manufacturing Director       145\n",
       "Healthcare Representative    131\n",
       "Manager                      102\n",
       "Sales Representative          83\n",
       "Research Director             80\n",
       "Human Resources               52\n",
       "Name: JobRole, dtype: int64"
      ]
     },
     "execution_count": 75,
     "metadata": {},
     "output_type": "execute_result"
    }
   ],
   "source": [
    "df[\"JobRole\"].value_counts()"
   ]
  },
  {
   "cell_type": "code",
   "execution_count": 76,
   "metadata": {},
   "outputs": [
    {
     "data": {
      "text/plain": [
       "Post-Graduation    387\n",
       "Graduation         367\n",
       "12th               358\n",
       "PHD                358\n",
       "Name: Higher_Education, dtype: int64"
      ]
     },
     "execution_count": 76,
     "metadata": {},
     "output_type": "execute_result"
    }
   ],
   "source": [
    "df[\"Higher_Education\"].value_counts()"
   ]
  },
  {
   "cell_type": "code",
   "execution_count": 77,
   "metadata": {},
   "outputs": [
    {
     "data": {
      "text/plain": [
       "Dept.Head             314\n",
       "Salary                297\n",
       "Work Environment      290\n",
       "Work Accident         285\n",
       "Better Opportunity    284\n",
       "Name: Status_of_leaving, dtype: int64"
      ]
     },
     "execution_count": 77,
     "metadata": {},
     "output_type": "execute_result"
    }
   ],
   "source": [
    "df[\"Status_of_leaving\"].value_counts()"
   ]
  },
  {
   "cell_type": "code",
   "execution_count": 78,
   "metadata": {},
   "outputs": [
    {
     "data": {
      "text/plain": [
       "WFH       768\n",
       "OFFICE    702\n",
       "Name: Mode_of_work, dtype: int64"
      ]
     },
     "execution_count": 78,
     "metadata": {},
     "output_type": "execute_result"
    }
   ],
   "source": [
    "df[\"Mode_of_work\"].value_counts()"
   ]
  },
  {
   "cell_type": "code",
   "execution_count": 79,
   "metadata": {},
   "outputs": [
    {
     "data": {
      "text/plain": [
       "0      2021-01-21\n",
       "1      2021-03-13\n",
       "2      2021-01-23\n",
       "3      2021-04-25\n",
       "4      2021-06-14\n",
       "          ...    \n",
       "1465   1987-05-06\n",
       "1466   1985-01-20\n",
       "1467   1985-02-17\n",
       "1468   1984-06-29\n",
       "1469   1981-08-02\n",
       "Name: Date_of_Hire, Length: 1470, dtype: datetime64[ns]"
      ]
     },
     "execution_count": 79,
     "metadata": {},
     "output_type": "execute_result"
    }
   ],
   "source": [
    "pd.to_datetime(df[\"Date_of_Hire\"])"
   ]
  },
  {
   "cell_type": "markdown",
   "metadata": {},
   "source": [
    "## Parsing Date in Month and Year"
   ]
  },
  {
   "cell_type": "code",
   "execution_count": 80,
   "metadata": {},
   "outputs": [],
   "source": [
    "## Parsing Date in Month & year\n",
    "df['day'] = pd.DatetimeIndex(df['Date_of_Hire']).day\n",
    "df['year'] = pd.DatetimeIndex(df['Date_of_Hire']).year\n",
    "df['month'] = pd.DatetimeIndex(df['Date_of_Hire']).month"
   ]
  },
  {
   "cell_type": "code",
   "execution_count": 133,
   "metadata": {},
   "outputs": [
    {
     "data": {
      "text/html": [
       "<div>\n",
       "<style scoped>\n",
       "    .dataframe tbody tr th:only-of-type {\n",
       "        vertical-align: middle;\n",
       "    }\n",
       "\n",
       "    .dataframe tbody tr th {\n",
       "        vertical-align: top;\n",
       "    }\n",
       "\n",
       "    .dataframe thead th {\n",
       "        text-align: right;\n",
       "    }\n",
       "</style>\n",
       "<table border=\"1\" class=\"dataframe\">\n",
       "  <thead>\n",
       "    <tr style=\"text-align: right;\">\n",
       "      <th></th>\n",
       "      <th>Age</th>\n",
       "      <th>Attrition</th>\n",
       "      <th>BusinessTravel</th>\n",
       "      <th>Department</th>\n",
       "      <th>DistanceFromHome</th>\n",
       "      <th>Gender</th>\n",
       "      <th>JobInvolvement</th>\n",
       "      <th>JobLevel</th>\n",
       "      <th>JobRole</th>\n",
       "      <th>JobSatisfaction</th>\n",
       "      <th>...</th>\n",
       "      <th>Status_of_leaving</th>\n",
       "      <th>Mode_of_work</th>\n",
       "      <th>Leaves</th>\n",
       "      <th>Absenteeism</th>\n",
       "      <th>Work_accident</th>\n",
       "      <th>Source_of_Hire</th>\n",
       "      <th>Job_mode</th>\n",
       "      <th>day</th>\n",
       "      <th>year</th>\n",
       "      <th>month</th>\n",
       "    </tr>\n",
       "  </thead>\n",
       "  <tbody>\n",
       "    <tr>\n",
       "      <th>0</th>\n",
       "      <td>37</td>\n",
       "      <td>1</td>\n",
       "      <td>Travel_Rarely</td>\n",
       "      <td>Research &amp; Development</td>\n",
       "      <td>2</td>\n",
       "      <td>Male</td>\n",
       "      <td>2</td>\n",
       "      <td>1</td>\n",
       "      <td>Laboratory Technician</td>\n",
       "      <td>3</td>\n",
       "      <td>...</td>\n",
       "      <td>Salary</td>\n",
       "      <td>OFFICE</td>\n",
       "      <td>4</td>\n",
       "      <td>2</td>\n",
       "      <td>No</td>\n",
       "      <td>Job Event</td>\n",
       "      <td>Contract</td>\n",
       "      <td>21</td>\n",
       "      <td>2021</td>\n",
       "      <td>1</td>\n",
       "    </tr>\n",
       "    <tr>\n",
       "      <th>1</th>\n",
       "      <td>21</td>\n",
       "      <td>0</td>\n",
       "      <td>Travel_Rarely</td>\n",
       "      <td>Research &amp; Development</td>\n",
       "      <td>15</td>\n",
       "      <td>Male</td>\n",
       "      <td>3</td>\n",
       "      <td>1</td>\n",
       "      <td>Research Scientist</td>\n",
       "      <td>4</td>\n",
       "      <td>...</td>\n",
       "      <td>Work Accident</td>\n",
       "      <td>WFH</td>\n",
       "      <td>5</td>\n",
       "      <td>2</td>\n",
       "      <td>No</td>\n",
       "      <td>Recruiter</td>\n",
       "      <td>Part Time</td>\n",
       "      <td>13</td>\n",
       "      <td>2021</td>\n",
       "      <td>3</td>\n",
       "    </tr>\n",
       "    <tr>\n",
       "      <th>2</th>\n",
       "      <td>45</td>\n",
       "      <td>0</td>\n",
       "      <td>Travel_Rarely</td>\n",
       "      <td>Research &amp; Development</td>\n",
       "      <td>6</td>\n",
       "      <td>Male</td>\n",
       "      <td>3</td>\n",
       "      <td>3</td>\n",
       "      <td>Research Director</td>\n",
       "      <td>1</td>\n",
       "      <td>...</td>\n",
       "      <td>Dept.Head</td>\n",
       "      <td>WFH</td>\n",
       "      <td>1</td>\n",
       "      <td>3</td>\n",
       "      <td>No</td>\n",
       "      <td>Job Event</td>\n",
       "      <td>Contract</td>\n",
       "      <td>23</td>\n",
       "      <td>2021</td>\n",
       "      <td>1</td>\n",
       "    </tr>\n",
       "    <tr>\n",
       "      <th>3</th>\n",
       "      <td>23</td>\n",
       "      <td>0</td>\n",
       "      <td>Travel_Rarely</td>\n",
       "      <td>Sales</td>\n",
       "      <td>2</td>\n",
       "      <td>Male</td>\n",
       "      <td>3</td>\n",
       "      <td>1</td>\n",
       "      <td>Sales Representative</td>\n",
       "      <td>1</td>\n",
       "      <td>...</td>\n",
       "      <td>Work Accident</td>\n",
       "      <td>OFFICE</td>\n",
       "      <td>1</td>\n",
       "      <td>0</td>\n",
       "      <td>Yes</td>\n",
       "      <td>Recruiter</td>\n",
       "      <td>FullTime</td>\n",
       "      <td>25</td>\n",
       "      <td>2021</td>\n",
       "      <td>4</td>\n",
       "    </tr>\n",
       "    <tr>\n",
       "      <th>4</th>\n",
       "      <td>22</td>\n",
       "      <td>0</td>\n",
       "      <td>Travel_Rarely</td>\n",
       "      <td>Research &amp; Development</td>\n",
       "      <td>15</td>\n",
       "      <td>Female</td>\n",
       "      <td>3</td>\n",
       "      <td>1</td>\n",
       "      <td>Laboratory Technician</td>\n",
       "      <td>4</td>\n",
       "      <td>...</td>\n",
       "      <td>Better Opportunity</td>\n",
       "      <td>WFH</td>\n",
       "      <td>5</td>\n",
       "      <td>2</td>\n",
       "      <td>No</td>\n",
       "      <td>Job Event</td>\n",
       "      <td>Contract</td>\n",
       "      <td>14</td>\n",
       "      <td>2021</td>\n",
       "      <td>6</td>\n",
       "    </tr>\n",
       "    <tr>\n",
       "      <th>...</th>\n",
       "      <td>...</td>\n",
       "      <td>...</td>\n",
       "      <td>...</td>\n",
       "      <td>...</td>\n",
       "      <td>...</td>\n",
       "      <td>...</td>\n",
       "      <td>...</td>\n",
       "      <td>...</td>\n",
       "      <td>...</td>\n",
       "      <td>...</td>\n",
       "      <td>...</td>\n",
       "      <td>...</td>\n",
       "      <td>...</td>\n",
       "      <td>...</td>\n",
       "      <td>...</td>\n",
       "      <td>...</td>\n",
       "      <td>...</td>\n",
       "      <td>...</td>\n",
       "      <td>...</td>\n",
       "      <td>...</td>\n",
       "      <td>...</td>\n",
       "    </tr>\n",
       "    <tr>\n",
       "      <th>1465</th>\n",
       "      <td>52</td>\n",
       "      <td>0</td>\n",
       "      <td>Travel_Rarely</td>\n",
       "      <td>Sales</td>\n",
       "      <td>3</td>\n",
       "      <td>Male</td>\n",
       "      <td>2</td>\n",
       "      <td>4</td>\n",
       "      <td>Manager</td>\n",
       "      <td>1</td>\n",
       "      <td>...</td>\n",
       "      <td>Salary</td>\n",
       "      <td>OFFICE</td>\n",
       "      <td>3</td>\n",
       "      <td>2</td>\n",
       "      <td>No</td>\n",
       "      <td>Job Portal</td>\n",
       "      <td>Part Time</td>\n",
       "      <td>6</td>\n",
       "      <td>1987</td>\n",
       "      <td>5</td>\n",
       "    </tr>\n",
       "    <tr>\n",
       "      <th>1466</th>\n",
       "      <td>55</td>\n",
       "      <td>0</td>\n",
       "      <td>Travel_Rarely</td>\n",
       "      <td>Research &amp; Development</td>\n",
       "      <td>1</td>\n",
       "      <td>Male</td>\n",
       "      <td>3</td>\n",
       "      <td>5</td>\n",
       "      <td>Manager</td>\n",
       "      <td>1</td>\n",
       "      <td>...</td>\n",
       "      <td>Work Accident</td>\n",
       "      <td>WFH</td>\n",
       "      <td>1</td>\n",
       "      <td>1</td>\n",
       "      <td>No</td>\n",
       "      <td>Walk-in</td>\n",
       "      <td>FullTime</td>\n",
       "      <td>20</td>\n",
       "      <td>1985</td>\n",
       "      <td>1</td>\n",
       "    </tr>\n",
       "    <tr>\n",
       "      <th>1467</th>\n",
       "      <td>55</td>\n",
       "      <td>0</td>\n",
       "      <td>Travel_Rarely</td>\n",
       "      <td>Sales</td>\n",
       "      <td>26</td>\n",
       "      <td>Male</td>\n",
       "      <td>2</td>\n",
       "      <td>5</td>\n",
       "      <td>Manager</td>\n",
       "      <td>4</td>\n",
       "      <td>...</td>\n",
       "      <td>Work Accident</td>\n",
       "      <td>OFFICE</td>\n",
       "      <td>2</td>\n",
       "      <td>1</td>\n",
       "      <td>No</td>\n",
       "      <td>Recruiter</td>\n",
       "      <td>Part Time</td>\n",
       "      <td>17</td>\n",
       "      <td>1985</td>\n",
       "      <td>2</td>\n",
       "    </tr>\n",
       "    <tr>\n",
       "      <th>1468</th>\n",
       "      <td>58</td>\n",
       "      <td>0</td>\n",
       "      <td>Travel_Rarely</td>\n",
       "      <td>Sales</td>\n",
       "      <td>10</td>\n",
       "      <td>Male</td>\n",
       "      <td>3</td>\n",
       "      <td>4</td>\n",
       "      <td>Sales Executive</td>\n",
       "      <td>3</td>\n",
       "      <td>...</td>\n",
       "      <td>Work Environment</td>\n",
       "      <td>WFH</td>\n",
       "      <td>2</td>\n",
       "      <td>2</td>\n",
       "      <td>Yes</td>\n",
       "      <td>Job Event</td>\n",
       "      <td>Part Time</td>\n",
       "      <td>29</td>\n",
       "      <td>1984</td>\n",
       "      <td>6</td>\n",
       "    </tr>\n",
       "    <tr>\n",
       "      <th>1469</th>\n",
       "      <td>58</td>\n",
       "      <td>1</td>\n",
       "      <td>Travel_Rarely</td>\n",
       "      <td>Research &amp; Development</td>\n",
       "      <td>23</td>\n",
       "      <td>Female</td>\n",
       "      <td>3</td>\n",
       "      <td>3</td>\n",
       "      <td>Healthcare Representative</td>\n",
       "      <td>4</td>\n",
       "      <td>...</td>\n",
       "      <td>Work Environment</td>\n",
       "      <td>WFH</td>\n",
       "      <td>4</td>\n",
       "      <td>3</td>\n",
       "      <td>Yes</td>\n",
       "      <td>Job Portal</td>\n",
       "      <td>FullTime</td>\n",
       "      <td>2</td>\n",
       "      <td>1981</td>\n",
       "      <td>8</td>\n",
       "    </tr>\n",
       "  </tbody>\n",
       "</table>\n",
       "<p>1470 rows × 34 columns</p>\n",
       "</div>"
      ],
      "text/plain": [
       "      Age  Attrition BusinessTravel              Department  DistanceFromHome  \\\n",
       "0      37          1  Travel_Rarely  Research & Development                 2   \n",
       "1      21          0  Travel_Rarely  Research & Development                15   \n",
       "2      45          0  Travel_Rarely  Research & Development                 6   \n",
       "3      23          0  Travel_Rarely                   Sales                 2   \n",
       "4      22          0  Travel_Rarely  Research & Development                15   \n",
       "...   ...        ...            ...                     ...               ...   \n",
       "1465   52          0  Travel_Rarely                   Sales                 3   \n",
       "1466   55          0  Travel_Rarely  Research & Development                 1   \n",
       "1467   55          0  Travel_Rarely                   Sales                26   \n",
       "1468   58          0  Travel_Rarely                   Sales                10   \n",
       "1469   58          1  Travel_Rarely  Research & Development                23   \n",
       "\n",
       "      Gender  JobInvolvement  JobLevel                    JobRole  \\\n",
       "0       Male               2         1      Laboratory Technician   \n",
       "1       Male               3         1         Research Scientist   \n",
       "2       Male               3         3          Research Director   \n",
       "3       Male               3         1       Sales Representative   \n",
       "4     Female               3         1      Laboratory Technician   \n",
       "...      ...             ...       ...                        ...   \n",
       "1465    Male               2         4                    Manager   \n",
       "1466    Male               3         5                    Manager   \n",
       "1467    Male               2         5                    Manager   \n",
       "1468    Male               3         4            Sales Executive   \n",
       "1469  Female               3         3  Healthcare Representative   \n",
       "\n",
       "      JobSatisfaction  ...   Status_of_leaving  Mode_of_work  Leaves  \\\n",
       "0                   3  ...              Salary        OFFICE       4   \n",
       "1                   4  ...       Work Accident           WFH       5   \n",
       "2                   1  ...           Dept.Head           WFH       1   \n",
       "3                   1  ...       Work Accident        OFFICE       1   \n",
       "4                   4  ...  Better Opportunity           WFH       5   \n",
       "...               ...  ...                 ...           ...     ...   \n",
       "1465                1  ...              Salary        OFFICE       3   \n",
       "1466                1  ...       Work Accident           WFH       1   \n",
       "1467                4  ...       Work Accident        OFFICE       2   \n",
       "1468                3  ...    Work Environment           WFH       2   \n",
       "1469                4  ...    Work Environment           WFH       4   \n",
       "\n",
       "     Absenteeism  Work_accident  Source_of_Hire   Job_mode  day  year  month  \n",
       "0              2             No       Job Event   Contract   21  2021      1  \n",
       "1              2             No       Recruiter  Part Time   13  2021      3  \n",
       "2              3             No       Job Event   Contract   23  2021      1  \n",
       "3              0            Yes       Recruiter   FullTime   25  2021      4  \n",
       "4              2             No       Job Event   Contract   14  2021      6  \n",
       "...          ...            ...             ...        ...  ...   ...    ...  \n",
       "1465           2             No      Job Portal  Part Time    6  1987      5  \n",
       "1466           1             No         Walk-in   FullTime   20  1985      1  \n",
       "1467           1             No       Recruiter  Part Time   17  1985      2  \n",
       "1468           2            Yes       Job Event  Part Time   29  1984      6  \n",
       "1469           3            Yes      Job Portal   FullTime    2  1981      8  \n",
       "\n",
       "[1470 rows x 34 columns]"
      ]
     },
     "execution_count": 133,
     "metadata": {},
     "output_type": "execute_result"
    }
   ],
   "source": [
    "df"
   ]
  },
  {
   "cell_type": "markdown",
   "metadata": {},
   "source": [
    "## Outliers"
   ]
  },
  {
   "cell_type": "code",
   "execution_count": 81,
   "metadata": {},
   "outputs": [
    {
     "data": {
      "image/png": "[encoded data removed]",
      "text/plain": [
       "<Figure size 432x288 with 1 Axes>"
      ]
     },
     "metadata": {
      "needs_background": "light"
     },
     "output_type": "display_data"
    },
    {
     "data": {
      "image/png": "[encoded data removed]",
      "text/plain": [
       "<Figure size 432x288 with 1 Axes>"
      ]
     },
     "metadata": {
      "needs_background": "light"
     },
     "output_type": "display_data"
    },
    {
     "data": {
      "image/png": "[encoded data removed]",
      "text/plain": [
       "<Figure size 432x288 with 1 Axes>"
      ]
     },
     "metadata": {
      "needs_background": "light"
     },
     "output_type": "display_data"
    },
    {
     "data": {
      "image/png": "[encoded data removed]",
      "text/plain": [
       "<Figure size 432x288 with 1 Axes>"
      ]
     },
     "metadata": {
      "needs_background": "light"
     },
     "output_type": "display_data"
    },
    {
     "data": {
      "image/png": "[encoded data removed]",
      "text/plain": [
       "<Figure size 432x288 with 1 Axes>"
      ]
     },
     "metadata": {
      "needs_background": "light"
     },
     "output_type": "display_data"
    },
    {
     "data": {
      "image/png": "[encoded data removed]",
      "text/plain": [
       "<Figure size 432x288 with 1 Axes>"
      ]
     },
     "metadata": {
      "needs_background": "light"
     },
     "output_type": "display_data"
    },
    {
     "data": {
      "image/png": "[encoded data removed]",
      "text/plain": [
       "<Figure size 432x288 with 1 Axes>"
      ]
     },
     "metadata": {
      "needs_background": "light"
     },
     "output_type": "display_data"
    },
    {
     "data": {
      "image/png": "[encoded data removed]",
      "text/plain": [
       "<Figure size 432x288 with 1 Axes>"
      ]
     },
     "metadata": {
      "needs_background": "light"
     },
     "output_type": "display_data"
    },
    {
     "data": {
      "image/png": "[encoded data removed]",
      "text/plain": [
       "<Figure size 432x288 with 1 Axes>"
      ]
     },
     "metadata": {
      "needs_background": "light"
     },
     "output_type": "display_data"
    },
    {
     "data": {
      "image/png": "[encoded data removed]",
      "text/plain": [
       "<Figure size 432x288 with 1 Axes>"
      ]
     },
     "metadata": {
      "needs_background": "light"
     },
     "output_type": "display_data"
    },
    {
     "data": {
      "image/png": "[encoded data removed]",
      "text/plain": [
       "<Figure size 432x288 with 1 Axes>"
      ]
     },
     "metadata": {
      "needs_background": "light"
     },
     "output_type": "display_data"
    },
    {
     "data": {
      "image/png": "[encoded data removed]",
      "text/plain": [
       "<Figure size 432x288 with 1 Axes>"
      ]
     },
     "metadata": {
      "needs_background": "light"
     },
     "output_type": "display_data"
    },
    {
     "data": {
      "image/png": "[encoded data removed]",
      "text/plain": [
       "<Figure size 432x288 with 1 Axes>"
      ]
     },
     "metadata": {
      "needs_background": "light"
     },
     "output_type": "display_data"
    },
    {
     "data": {
      "image/png": "[encoded data removed]",
      "text/plain": [
       "<Figure size 432x288 with 1 Axes>"
      ]
     },
     "metadata": {
      "needs_background": "light"
     },
     "output_type": "display_data"
    },
    {
     "data": {
      "image/png": "[encoded data removed]",
      "text/plain": [
       "<Figure size 432x288 with 1 Axes>"
      ]
     },
     "metadata": {
      "needs_background": "light"
     },
     "output_type": "display_data"
    },
    {
     "data": {
      "image/png": "[encoded data removed]",
      "text/plain": [
       "<Figure size 432x288 with 1 Axes>"
      ]
     },
     "metadata": {
      "needs_background": "light"
     },
     "output_type": "display_data"
    },
    {
     "data": {
      "image/png": "[encoded data removed]",
      "text/plain": [
       "<Figure size 432x288 with 1 Axes>"
      ]
     },
     "metadata": {
      "needs_background": "light"
     },
     "output_type": "display_data"
    },
    {
     "data": {
      "image/png": "[encoded data removed]",
      "text/plain": [
       "<Figure size 432x288 with 1 Axes>"
      ]
     },
     "metadata": {
      "needs_background": "light"
     },
     "output_type": "display_data"
    },
    {
     "data": {
      "image/png": "[encoded data removed]",
      "text/plain": [
       "<Figure size 432x288 with 1 Axes>"
      ]
     },
     "metadata": {
      "needs_background": "light"
     },
     "output_type": "display_data"
    },
    {
     "data": {
      "image/png": "[encoded data removed]",
      "text/plain": [
       "<Figure size 432x288 with 1 Axes>"
      ]
     },
     "metadata": {
      "needs_background": "light"
     },
     "output_type": "display_data"
    }
   ],
   "source": [
    "# Outlier detection\n",
    "df1=df.select_dtypes(exclude=['object'])\n",
    "for column in df1:\n",
    "    plt.figure()\n",
    "    df1.boxplot([column])"
   ]
  },
  {
   "cell_type": "markdown",
   "metadata": {},
   "source": [
    "## STEP 3"
   ]
  },
  {
   "cell_type": "markdown",
   "metadata": {},
   "source": [
    "### Basic Statistics"
   ]
  },
  {
   "cell_type": "code",
   "execution_count": 82,
   "metadata": {},
   "outputs": [
    {
     "data": {
      "text/html": [
       "<div>\n",
       "<style scoped>\n",
       "    .dataframe tbody tr th:only-of-type {\n",
       "        vertical-align: middle;\n",
       "    }\n",
       "\n",
       "    .dataframe tbody tr th {\n",
       "        vertical-align: top;\n",
       "    }\n",
       "\n",
       "    .dataframe thead th {\n",
       "        text-align: right;\n",
       "    }\n",
       "</style>\n",
       "<table border=\"1\" class=\"dataframe\">\n",
       "  <thead>\n",
       "    <tr style=\"text-align: right;\">\n",
       "      <th></th>\n",
       "      <th>Age</th>\n",
       "      <th>DistanceFromHome</th>\n",
       "      <th>JobInvolvement</th>\n",
       "      <th>JobLevel</th>\n",
       "      <th>JobSatisfaction</th>\n",
       "      <th>MonthlyIncome</th>\n",
       "      <th>NumCompaniesWorked</th>\n",
       "      <th>PercentSalaryHike</th>\n",
       "      <th>PerformanceRating</th>\n",
       "      <th>StockOptionLevel</th>\n",
       "      <th>TotalWorkingYears</th>\n",
       "      <th>TrainingTimesLastYear</th>\n",
       "      <th>YearsAtCompany</th>\n",
       "      <th>YearsSinceLastPromotion</th>\n",
       "      <th>YearsWithCurrManager</th>\n",
       "      <th>Leaves</th>\n",
       "      <th>Absenteeism</th>\n",
       "      <th>day</th>\n",
       "      <th>year</th>\n",
       "      <th>month</th>\n",
       "    </tr>\n",
       "  </thead>\n",
       "  <tbody>\n",
       "    <tr>\n",
       "      <th>Age</th>\n",
       "      <td>1.000000</td>\n",
       "      <td>-0.001686</td>\n",
       "      <td>0.029820</td>\n",
       "      <td>0.509604</td>\n",
       "      <td>-0.004892</td>\n",
       "      <td>0.497855</td>\n",
       "      <td>0.299635</td>\n",
       "      <td>0.003634</td>\n",
       "      <td>0.001904</td>\n",
       "      <td>0.037510</td>\n",
       "      <td>0.680381</td>\n",
       "      <td>-0.019621</td>\n",
       "      <td>0.311309</td>\n",
       "      <td>0.216513</td>\n",
       "      <td>0.202089</td>\n",
       "      <td>0.033811</td>\n",
       "      <td>-0.004628</td>\n",
       "      <td>0.016846</td>\n",
       "      <td>-0.308583</td>\n",
       "      <td>0.017773</td>\n",
       "    </tr>\n",
       "    <tr>\n",
       "      <th>DistanceFromHome</th>\n",
       "      <td>-0.001686</td>\n",
       "      <td>1.000000</td>\n",
       "      <td>0.008783</td>\n",
       "      <td>0.005303</td>\n",
       "      <td>-0.003669</td>\n",
       "      <td>-0.017014</td>\n",
       "      <td>-0.029251</td>\n",
       "      <td>0.040235</td>\n",
       "      <td>0.027110</td>\n",
       "      <td>0.044872</td>\n",
       "      <td>0.004628</td>\n",
       "      <td>-0.036942</td>\n",
       "      <td>0.009508</td>\n",
       "      <td>0.010029</td>\n",
       "      <td>0.014406</td>\n",
       "      <td>-0.022749</td>\n",
       "      <td>0.024581</td>\n",
       "      <td>-0.011663</td>\n",
       "      <td>-0.010388</td>\n",
       "      <td>0.017015</td>\n",
       "    </tr>\n",
       "    <tr>\n",
       "      <th>JobInvolvement</th>\n",
       "      <td>0.029820</td>\n",
       "      <td>0.008783</td>\n",
       "      <td>1.000000</td>\n",
       "      <td>-0.012630</td>\n",
       "      <td>-0.021476</td>\n",
       "      <td>-0.015271</td>\n",
       "      <td>0.015012</td>\n",
       "      <td>-0.017205</td>\n",
       "      <td>-0.029071</td>\n",
       "      <td>0.021523</td>\n",
       "      <td>-0.005533</td>\n",
       "      <td>-0.015338</td>\n",
       "      <td>-0.021355</td>\n",
       "      <td>-0.024184</td>\n",
       "      <td>0.025976</td>\n",
       "      <td>0.016599</td>\n",
       "      <td>-0.000442</td>\n",
       "      <td>-0.028435</td>\n",
       "      <td>0.024065</td>\n",
       "      <td>-0.043282</td>\n",
       "    </tr>\n",
       "    <tr>\n",
       "      <th>JobLevel</th>\n",
       "      <td>0.509604</td>\n",
       "      <td>0.005303</td>\n",
       "      <td>-0.012630</td>\n",
       "      <td>1.000000</td>\n",
       "      <td>-0.001944</td>\n",
       "      <td>0.950300</td>\n",
       "      <td>0.142501</td>\n",
       "      <td>-0.034730</td>\n",
       "      <td>-0.021222</td>\n",
       "      <td>0.013984</td>\n",
       "      <td>0.782208</td>\n",
       "      <td>-0.018191</td>\n",
       "      <td>0.534739</td>\n",
       "      <td>0.353885</td>\n",
       "      <td>0.375281</td>\n",
       "      <td>0.028144</td>\n",
       "      <td>-0.013089</td>\n",
       "      <td>0.038498</td>\n",
       "      <td>-0.531849</td>\n",
       "      <td>0.031760</td>\n",
       "    </tr>\n",
       "    <tr>\n",
       "      <th>JobSatisfaction</th>\n",
       "      <td>-0.004892</td>\n",
       "      <td>-0.003669</td>\n",
       "      <td>-0.021476</td>\n",
       "      <td>-0.001944</td>\n",
       "      <td>1.000000</td>\n",
       "      <td>-0.007157</td>\n",
       "      <td>-0.055699</td>\n",
       "      <td>0.020002</td>\n",
       "      <td>0.002297</td>\n",
       "      <td>0.010690</td>\n",
       "      <td>-0.020185</td>\n",
       "      <td>-0.005779</td>\n",
       "      <td>-0.003803</td>\n",
       "      <td>-0.018214</td>\n",
       "      <td>-0.027656</td>\n",
       "      <td>-0.044989</td>\n",
       "      <td>-0.027244</td>\n",
       "      <td>0.018959</td>\n",
       "      <td>0.005697</td>\n",
       "      <td>-0.016303</td>\n",
       "    </tr>\n",
       "    <tr>\n",
       "      <th>MonthlyIncome</th>\n",
       "      <td>0.497855</td>\n",
       "      <td>-0.017014</td>\n",
       "      <td>-0.015271</td>\n",
       "      <td>0.950300</td>\n",
       "      <td>-0.007157</td>\n",
       "      <td>1.000000</td>\n",
       "      <td>0.149515</td>\n",
       "      <td>-0.027269</td>\n",
       "      <td>-0.017120</td>\n",
       "      <td>0.005408</td>\n",
       "      <td>0.772893</td>\n",
       "      <td>-0.021736</td>\n",
       "      <td>0.514285</td>\n",
       "      <td>0.344978</td>\n",
       "      <td>0.344079</td>\n",
       "      <td>0.002569</td>\n",
       "      <td>-0.018816</td>\n",
       "      <td>0.042598</td>\n",
       "      <td>-0.511451</td>\n",
       "      <td>0.029616</td>\n",
       "    </tr>\n",
       "    <tr>\n",
       "      <th>NumCompaniesWorked</th>\n",
       "      <td>0.299635</td>\n",
       "      <td>-0.029251</td>\n",
       "      <td>0.015012</td>\n",
       "      <td>0.142501</td>\n",
       "      <td>-0.055699</td>\n",
       "      <td>0.149515</td>\n",
       "      <td>1.000000</td>\n",
       "      <td>-0.010238</td>\n",
       "      <td>-0.014095</td>\n",
       "      <td>0.030075</td>\n",
       "      <td>0.237639</td>\n",
       "      <td>-0.066054</td>\n",
       "      <td>-0.118421</td>\n",
       "      <td>-0.036814</td>\n",
       "      <td>-0.110319</td>\n",
       "      <td>0.019291</td>\n",
       "      <td>-0.010462</td>\n",
       "      <td>0.008197</td>\n",
       "      <td>0.118640</td>\n",
       "      <td>0.023748</td>\n",
       "    </tr>\n",
       "    <tr>\n",
       "      <th>PercentSalaryHike</th>\n",
       "      <td>0.003634</td>\n",
       "      <td>0.040235</td>\n",
       "      <td>-0.017205</td>\n",
       "      <td>-0.034730</td>\n",
       "      <td>0.020002</td>\n",
       "      <td>-0.027269</td>\n",
       "      <td>-0.010238</td>\n",
       "      <td>1.000000</td>\n",
       "      <td>0.773550</td>\n",
       "      <td>0.007528</td>\n",
       "      <td>-0.020608</td>\n",
       "      <td>-0.005221</td>\n",
       "      <td>-0.035991</td>\n",
       "      <td>-0.022154</td>\n",
       "      <td>-0.011985</td>\n",
       "      <td>-0.005762</td>\n",
       "      <td>-0.005041</td>\n",
       "      <td>0.003255</td>\n",
       "      <td>0.038847</td>\n",
       "      <td>0.000361</td>\n",
       "    </tr>\n",
       "    <tr>\n",
       "      <th>PerformanceRating</th>\n",
       "      <td>0.001904</td>\n",
       "      <td>0.027110</td>\n",
       "      <td>-0.029071</td>\n",
       "      <td>-0.021222</td>\n",
       "      <td>0.002297</td>\n",
       "      <td>-0.017120</td>\n",
       "      <td>-0.014095</td>\n",
       "      <td>0.773550</td>\n",
       "      <td>1.000000</td>\n",
       "      <td>0.003506</td>\n",
       "      <td>0.006744</td>\n",
       "      <td>-0.015579</td>\n",
       "      <td>0.003435</td>\n",
       "      <td>0.017896</td>\n",
       "      <td>0.022827</td>\n",
       "      <td>-0.006077</td>\n",
       "      <td>-0.014931</td>\n",
       "      <td>0.022396</td>\n",
       "      <td>-0.002124</td>\n",
       "      <td>0.011860</td>\n",
       "    </tr>\n",
       "    <tr>\n",
       "      <th>StockOptionLevel</th>\n",
       "      <td>0.037510</td>\n",
       "      <td>0.044872</td>\n",
       "      <td>0.021523</td>\n",
       "      <td>0.013984</td>\n",
       "      <td>0.010690</td>\n",
       "      <td>0.005408</td>\n",
       "      <td>0.030075</td>\n",
       "      <td>0.007528</td>\n",
       "      <td>0.003506</td>\n",
       "      <td>1.000000</td>\n",
       "      <td>0.010136</td>\n",
       "      <td>0.011274</td>\n",
       "      <td>0.015058</td>\n",
       "      <td>0.014352</td>\n",
       "      <td>0.024698</td>\n",
       "      <td>0.014579</td>\n",
       "      <td>0.020468</td>\n",
       "      <td>0.008914</td>\n",
       "      <td>-0.015546</td>\n",
       "      <td>0.035536</td>\n",
       "    </tr>\n",
       "    <tr>\n",
       "      <th>TotalWorkingYears</th>\n",
       "      <td>0.680381</td>\n",
       "      <td>0.004628</td>\n",
       "      <td>-0.005533</td>\n",
       "      <td>0.782208</td>\n",
       "      <td>-0.020185</td>\n",
       "      <td>0.772893</td>\n",
       "      <td>0.237639</td>\n",
       "      <td>-0.020608</td>\n",
       "      <td>0.006744</td>\n",
       "      <td>0.010136</td>\n",
       "      <td>1.000000</td>\n",
       "      <td>-0.035662</td>\n",
       "      <td>0.628133</td>\n",
       "      <td>0.404858</td>\n",
       "      <td>0.459188</td>\n",
       "      <td>0.031722</td>\n",
       "      <td>-0.048360</td>\n",
       "      <td>0.049521</td>\n",
       "      <td>-0.623878</td>\n",
       "      <td>0.031481</td>\n",
       "    </tr>\n",
       "    <tr>\n",
       "      <th>TrainingTimesLastYear</th>\n",
       "      <td>-0.019621</td>\n",
       "      <td>-0.036942</td>\n",
       "      <td>-0.015338</td>\n",
       "      <td>-0.018191</td>\n",
       "      <td>-0.005779</td>\n",
       "      <td>-0.021736</td>\n",
       "      <td>-0.066054</td>\n",
       "      <td>-0.005221</td>\n",
       "      <td>-0.015579</td>\n",
       "      <td>0.011274</td>\n",
       "      <td>-0.035662</td>\n",
       "      <td>1.000000</td>\n",
       "      <td>0.003569</td>\n",
       "      <td>-0.002067</td>\n",
       "      <td>-0.004096</td>\n",
       "      <td>0.030695</td>\n",
       "      <td>-0.005326</td>\n",
       "      <td>-0.005620</td>\n",
       "      <td>-0.003975</td>\n",
       "      <td>-0.011257</td>\n",
       "    </tr>\n",
       "    <tr>\n",
       "      <th>YearsAtCompany</th>\n",
       "      <td>0.311309</td>\n",
       "      <td>0.009508</td>\n",
       "      <td>-0.021355</td>\n",
       "      <td>0.534739</td>\n",
       "      <td>-0.003803</td>\n",
       "      <td>0.514285</td>\n",
       "      <td>-0.118421</td>\n",
       "      <td>-0.035991</td>\n",
       "      <td>0.003435</td>\n",
       "      <td>0.015058</td>\n",
       "      <td>0.628133</td>\n",
       "      <td>0.003569</td>\n",
       "      <td>1.000000</td>\n",
       "      <td>0.618409</td>\n",
       "      <td>0.769212</td>\n",
       "      <td>0.029535</td>\n",
       "      <td>-0.012682</td>\n",
       "      <td>0.018927</td>\n",
       "      <td>-0.993609</td>\n",
       "      <td>0.012417</td>\n",
       "    </tr>\n",
       "    <tr>\n",
       "      <th>YearsSinceLastPromotion</th>\n",
       "      <td>0.216513</td>\n",
       "      <td>0.010029</td>\n",
       "      <td>-0.024184</td>\n",
       "      <td>0.353885</td>\n",
       "      <td>-0.018214</td>\n",
       "      <td>0.344978</td>\n",
       "      <td>-0.036814</td>\n",
       "      <td>-0.022154</td>\n",
       "      <td>0.017896</td>\n",
       "      <td>0.014352</td>\n",
       "      <td>0.404858</td>\n",
       "      <td>-0.002067</td>\n",
       "      <td>0.618409</td>\n",
       "      <td>1.000000</td>\n",
       "      <td>0.510224</td>\n",
       "      <td>0.005174</td>\n",
       "      <td>0.005398</td>\n",
       "      <td>-0.020505</td>\n",
       "      <td>-0.609835</td>\n",
       "      <td>0.042005</td>\n",
       "    </tr>\n",
       "    <tr>\n",
       "      <th>YearsWithCurrManager</th>\n",
       "      <td>0.202089</td>\n",
       "      <td>0.014406</td>\n",
       "      <td>0.025976</td>\n",
       "      <td>0.375281</td>\n",
       "      <td>-0.027656</td>\n",
       "      <td>0.344079</td>\n",
       "      <td>-0.110319</td>\n",
       "      <td>-0.011985</td>\n",
       "      <td>0.022827</td>\n",
       "      <td>0.024698</td>\n",
       "      <td>0.459188</td>\n",
       "      <td>-0.004096</td>\n",
       "      <td>0.769212</td>\n",
       "      <td>0.510224</td>\n",
       "      <td>1.000000</td>\n",
       "      <td>0.028244</td>\n",
       "      <td>-0.024512</td>\n",
       "      <td>0.019860</td>\n",
       "      <td>-0.761660</td>\n",
       "      <td>-0.000022</td>\n",
       "    </tr>\n",
       "    <tr>\n",
       "      <th>Leaves</th>\n",
       "      <td>0.033811</td>\n",
       "      <td>-0.022749</td>\n",
       "      <td>0.016599</td>\n",
       "      <td>0.028144</td>\n",
       "      <td>-0.044989</td>\n",
       "      <td>0.002569</td>\n",
       "      <td>0.019291</td>\n",
       "      <td>-0.005762</td>\n",
       "      <td>-0.006077</td>\n",
       "      <td>0.014579</td>\n",
       "      <td>0.031722</td>\n",
       "      <td>0.030695</td>\n",
       "      <td>0.029535</td>\n",
       "      <td>0.005174</td>\n",
       "      <td>0.028244</td>\n",
       "      <td>1.000000</td>\n",
       "      <td>0.031418</td>\n",
       "      <td>-0.030711</td>\n",
       "      <td>-0.028111</td>\n",
       "      <td>0.023877</td>\n",
       "    </tr>\n",
       "    <tr>\n",
       "      <th>Absenteeism</th>\n",
       "      <td>-0.004628</td>\n",
       "      <td>0.024581</td>\n",
       "      <td>-0.000442</td>\n",
       "      <td>-0.013089</td>\n",
       "      <td>-0.027244</td>\n",
       "      <td>-0.018816</td>\n",
       "      <td>-0.010462</td>\n",
       "      <td>-0.005041</td>\n",
       "      <td>-0.014931</td>\n",
       "      <td>0.020468</td>\n",
       "      <td>-0.048360</td>\n",
       "      <td>-0.005326</td>\n",
       "      <td>-0.012682</td>\n",
       "      <td>0.005398</td>\n",
       "      <td>-0.024512</td>\n",
       "      <td>0.031418</td>\n",
       "      <td>1.000000</td>\n",
       "      <td>0.020746</td>\n",
       "      <td>0.013904</td>\n",
       "      <td>0.008301</td>\n",
       "    </tr>\n",
       "    <tr>\n",
       "      <th>day</th>\n",
       "      <td>0.016846</td>\n",
       "      <td>-0.011663</td>\n",
       "      <td>-0.028435</td>\n",
       "      <td>0.038498</td>\n",
       "      <td>0.018959</td>\n",
       "      <td>0.042598</td>\n",
       "      <td>0.008197</td>\n",
       "      <td>0.003255</td>\n",
       "      <td>0.022396</td>\n",
       "      <td>0.008914</td>\n",
       "      <td>0.049521</td>\n",
       "      <td>-0.005620</td>\n",
       "      <td>0.018927</td>\n",
       "      <td>-0.020505</td>\n",
       "      <td>0.019860</td>\n",
       "      <td>-0.030711</td>\n",
       "      <td>0.020746</td>\n",
       "      <td>1.000000</td>\n",
       "      <td>-0.019924</td>\n",
       "      <td>-0.424636</td>\n",
       "    </tr>\n",
       "    <tr>\n",
       "      <th>year</th>\n",
       "      <td>-0.308583</td>\n",
       "      <td>-0.010388</td>\n",
       "      <td>0.024065</td>\n",
       "      <td>-0.531849</td>\n",
       "      <td>0.005697</td>\n",
       "      <td>-0.511451</td>\n",
       "      <td>0.118640</td>\n",
       "      <td>0.038847</td>\n",
       "      <td>-0.002124</td>\n",
       "      <td>-0.015546</td>\n",
       "      <td>-0.623878</td>\n",
       "      <td>-0.003975</td>\n",
       "      <td>-0.993609</td>\n",
       "      <td>-0.609835</td>\n",
       "      <td>-0.761660</td>\n",
       "      <td>-0.028111</td>\n",
       "      <td>0.013904</td>\n",
       "      <td>-0.019924</td>\n",
       "      <td>1.000000</td>\n",
       "      <td>-0.013543</td>\n",
       "    </tr>\n",
       "    <tr>\n",
       "      <th>month</th>\n",
       "      <td>0.017773</td>\n",
       "      <td>0.017015</td>\n",
       "      <td>-0.043282</td>\n",
       "      <td>0.031760</td>\n",
       "      <td>-0.016303</td>\n",
       "      <td>0.029616</td>\n",
       "      <td>0.023748</td>\n",
       "      <td>0.000361</td>\n",
       "      <td>0.011860</td>\n",
       "      <td>0.035536</td>\n",
       "      <td>0.031481</td>\n",
       "      <td>-0.011257</td>\n",
       "      <td>0.012417</td>\n",
       "      <td>0.042005</td>\n",
       "      <td>-0.000022</td>\n",
       "      <td>0.023877</td>\n",
       "      <td>0.008301</td>\n",
       "      <td>-0.424636</td>\n",
       "      <td>-0.013543</td>\n",
       "      <td>1.000000</td>\n",
       "    </tr>\n",
       "  </tbody>\n",
       "</table>\n",
       "</div>"
      ],
      "text/plain": [
       "                              Age  DistanceFromHome  JobInvolvement  JobLevel  \\\n",
       "Age                      1.000000         -0.001686        0.029820  0.509604   \n",
       "DistanceFromHome        -0.001686          1.000000        0.008783  0.005303   \n",
       "JobInvolvement           0.029820          0.008783        1.000000 -0.012630   \n",
       "JobLevel                 0.509604          0.005303       -0.012630  1.000000   \n",
       "JobSatisfaction         -0.004892         -0.003669       -0.021476 -0.001944   \n",
       "MonthlyIncome            0.497855         -0.017014       -0.015271  0.950300   \n",
       "NumCompaniesWorked       0.299635         -0.029251        0.015012  0.142501   \n",
       "PercentSalaryHike        0.003634          0.040235       -0.017205 -0.034730   \n",
       "PerformanceRating        0.001904          0.027110       -0.029071 -0.021222   \n",
       "StockOptionLevel         0.037510          0.044872        0.021523  0.013984   \n",
       "TotalWorkingYears        0.680381          0.004628       -0.005533  0.782208   \n",
       "TrainingTimesLastYear   -0.019621         -0.036942       -0.015338 -0.018191   \n",
       "YearsAtCompany           0.311309          0.009508       -0.021355  0.534739   \n",
       "YearsSinceLastPromotion  0.216513          0.010029       -0.024184  0.353885   \n",
       "YearsWithCurrManager     0.202089          0.014406        0.025976  0.375281   \n",
       "Leaves                   0.033811         -0.022749        0.016599  0.028144   \n",
       "Absenteeism             -0.004628          0.024581       -0.000442 -0.013089   \n",
       "day                      0.016846         -0.011663       -0.028435  0.038498   \n",
       "year                    -0.308583         -0.010388        0.024065 -0.531849   \n",
       "month                    0.017773          0.017015       -0.043282  0.031760   \n",
       "\n",
       "                         JobSatisfaction  MonthlyIncome  NumCompaniesWorked  \\\n",
       "Age                            -0.004892       0.497855            0.299635   \n",
       "DistanceFromHome               -0.003669      -0.017014           -0.029251   \n",
       "JobInvolvement                 -0.021476      -0.015271            0.015012   \n",
       "JobLevel                       -0.001944       0.950300            0.142501   \n",
       "JobSatisfaction                 1.000000      -0.007157           -0.055699   \n",
       "MonthlyIncome                  -0.007157       1.000000            0.149515   \n",
       "NumCompaniesWorked             -0.055699       0.149515            1.000000   \n",
       "PercentSalaryHike               0.020002      -0.027269           -0.010238   \n",
       "PerformanceRating               0.002297      -0.017120           -0.014095   \n",
       "StockOptionLevel                0.010690       0.005408            0.030075   \n",
       "TotalWorkingYears              -0.020185       0.772893            0.237639   \n",
       "TrainingTimesLastYear          -0.005779      -0.021736           -0.066054   \n",
       "YearsAtCompany                 -0.003803       0.514285           -0.118421   \n",
       "YearsSinceLastPromotion        -0.018214       0.344978           -0.036814   \n",
       "YearsWithCurrManager           -0.027656       0.344079           -0.110319   \n",
       "Leaves                         -0.044989       0.002569            0.019291   \n",
       "Absenteeism                    -0.027244      -0.018816           -0.010462   \n",
       "day                             0.018959       0.042598            0.008197   \n",
       "year                            0.005697      -0.511451            0.118640   \n",
       "month                          -0.016303       0.029616            0.023748   \n",
       "\n",
       "                         PercentSalaryHike  PerformanceRating  \\\n",
       "Age                               0.003634           0.001904   \n",
       "DistanceFromHome                  0.040235           0.027110   \n",
       "JobInvolvement                   -0.017205          -0.029071   \n",
       "JobLevel                         -0.034730          -0.021222   \n",
       "JobSatisfaction                   0.020002           0.002297   \n",
       "MonthlyIncome                    -0.027269          -0.017120   \n",
       "NumCompaniesWorked               -0.010238          -0.014095   \n",
       "PercentSalaryHike                 1.000000           0.773550   \n",
       "PerformanceRating                 0.773550           1.000000   \n",
       "StockOptionLevel                  0.007528           0.003506   \n",
       "TotalWorkingYears                -0.020608           0.006744   \n",
       "TrainingTimesLastYear            -0.005221          -0.015579   \n",
       "YearsAtCompany                   -0.035991           0.003435   \n",
       "YearsSinceLastPromotion          -0.022154           0.017896   \n",
       "YearsWithCurrManager             -0.011985           0.022827   \n",
       "Leaves                           -0.005762          -0.006077   \n",
       "Absenteeism                      -0.005041          -0.014931   \n",
       "day                               0.003255           0.022396   \n",
       "year                              0.038847          -0.002124   \n",
       "month                             0.000361           0.011860   \n",
       "\n",
       "                         StockOptionLevel  TotalWorkingYears  \\\n",
       "Age                              0.037510           0.680381   \n",
       "DistanceFromHome                 0.044872           0.004628   \n",
       "JobInvolvement                   0.021523          -0.005533   \n",
       "JobLevel                         0.013984           0.782208   \n",
       "JobSatisfaction                  0.010690          -0.020185   \n",
       "MonthlyIncome                    0.005408           0.772893   \n",
       "NumCompaniesWorked               0.030075           0.237639   \n",
       "PercentSalaryHike                0.007528          -0.020608   \n",
       "PerformanceRating                0.003506           0.006744   \n",
       "StockOptionLevel                 1.000000           0.010136   \n",
       "TotalWorkingYears                0.010136           1.000000   \n",
       "TrainingTimesLastYear            0.011274          -0.035662   \n",
       "YearsAtCompany                   0.015058           0.628133   \n",
       "YearsSinceLastPromotion          0.014352           0.404858   \n",
       "YearsWithCurrManager             0.024698           0.459188   \n",
       "Leaves                           0.014579           0.031722   \n",
       "Absenteeism                      0.020468          -0.048360   \n",
       "day                              0.008914           0.049521   \n",
       "year                            -0.015546          -0.623878   \n",
       "month                            0.035536           0.031481   \n",
       "\n",
       "                         TrainingTimesLastYear  YearsAtCompany  \\\n",
       "Age                                  -0.019621        0.311309   \n",
       "DistanceFromHome                     -0.036942        0.009508   \n",
       "JobInvolvement                       -0.015338       -0.021355   \n",
       "JobLevel                             -0.018191        0.534739   \n",
       "JobSatisfaction                      -0.005779       -0.003803   \n",
       "MonthlyIncome                        -0.021736        0.514285   \n",
       "NumCompaniesWorked                   -0.066054       -0.118421   \n",
       "PercentSalaryHike                    -0.005221       -0.035991   \n",
       "PerformanceRating                    -0.015579        0.003435   \n",
       "StockOptionLevel                      0.011274        0.015058   \n",
       "TotalWorkingYears                    -0.035662        0.628133   \n",
       "TrainingTimesLastYear                 1.000000        0.003569   \n",
       "YearsAtCompany                        0.003569        1.000000   \n",
       "YearsSinceLastPromotion              -0.002067        0.618409   \n",
       "YearsWithCurrManager                 -0.004096        0.769212   \n",
       "Leaves                                0.030695        0.029535   \n",
       "Absenteeism                          -0.005326       -0.012682   \n",
       "day                                  -0.005620        0.018927   \n",
       "year                                 -0.003975       -0.993609   \n",
       "month                                -0.011257        0.012417   \n",
       "\n",
       "                         YearsSinceLastPromotion  YearsWithCurrManager  \\\n",
       "Age                                     0.216513              0.202089   \n",
       "DistanceFromHome                        0.010029              0.014406   \n",
       "JobInvolvement                         -0.024184              0.025976   \n",
       "JobLevel                                0.353885              0.375281   \n",
       "JobSatisfaction                        -0.018214             -0.027656   \n",
       "MonthlyIncome                           0.344978              0.344079   \n",
       "NumCompaniesWorked                     -0.036814             -0.110319   \n",
       "PercentSalaryHike                      -0.022154             -0.011985   \n",
       "PerformanceRating                       0.017896              0.022827   \n",
       "StockOptionLevel                        0.014352              0.024698   \n",
       "TotalWorkingYears                       0.404858              0.459188   \n",
       "TrainingTimesLastYear                  -0.002067             -0.004096   \n",
       "YearsAtCompany                          0.618409              0.769212   \n",
       "YearsSinceLastPromotion                 1.000000              0.510224   \n",
       "YearsWithCurrManager                    0.510224              1.000000   \n",
       "Leaves                                  0.005174              0.028244   \n",
       "Absenteeism                             0.005398             -0.024512   \n",
       "day                                    -0.020505              0.019860   \n",
       "year                                   -0.609835             -0.761660   \n",
       "month                                   0.042005             -0.000022   \n",
       "\n",
       "                           Leaves  Absenteeism       day      year     month  \n",
       "Age                      0.033811    -0.004628  0.016846 -0.308583  0.017773  \n",
       "DistanceFromHome        -0.022749     0.024581 -0.011663 -0.010388  0.017015  \n",
       "JobInvolvement           0.016599    -0.000442 -0.028435  0.024065 -0.043282  \n",
       "JobLevel                 0.028144    -0.013089  0.038498 -0.531849  0.031760  \n",
       "JobSatisfaction         -0.044989    -0.027244  0.018959  0.005697 -0.016303  \n",
       "MonthlyIncome            0.002569    -0.018816  0.042598 -0.511451  0.029616  \n",
       "NumCompaniesWorked       0.019291    -0.010462  0.008197  0.118640  0.023748  \n",
       "PercentSalaryHike       -0.005762    -0.005041  0.003255  0.038847  0.000361  \n",
       "PerformanceRating       -0.006077    -0.014931  0.022396 -0.002124  0.011860  \n",
       "StockOptionLevel         0.014579     0.020468  0.008914 -0.015546  0.035536  \n",
       "TotalWorkingYears        0.031722    -0.048360  0.049521 -0.623878  0.031481  \n",
       "TrainingTimesLastYear    0.030695    -0.005326 -0.005620 -0.003975 -0.011257  \n",
       "YearsAtCompany           0.029535    -0.012682  0.018927 -0.993609  0.012417  \n",
       "YearsSinceLastPromotion  0.005174     0.005398 -0.020505 -0.609835  0.042005  \n",
       "YearsWithCurrManager     0.028244    -0.024512  0.019860 -0.761660 -0.000022  \n",
       "Leaves                   1.000000     0.031418 -0.030711 -0.028111  0.023877  \n",
       "Absenteeism              0.031418     1.000000  0.020746  0.013904  0.008301  \n",
       "day                     -0.030711     0.020746  1.000000 -0.019924 -0.424636  \n",
       "year                    -0.028111     0.013904 -0.019924  1.000000 -0.013543  \n",
       "month                    0.023877     0.008301 -0.424636 -0.013543  1.000000  "
      ]
     },
     "execution_count": 82,
     "metadata": {},
     "output_type": "execute_result"
    }
   ],
   "source": [
    "df.corr()"
   ]
  },
  {
   "cell_type": "code",
   "execution_count": 83,
   "metadata": {
    "scrolled": true
   },
   "outputs": [
    {
     "data": {
      "text/html": [
       "<div>\n",
       "<style scoped>\n",
       "    .dataframe tbody tr th:only-of-type {\n",
       "        vertical-align: middle;\n",
       "    }\n",
       "\n",
       "    .dataframe tbody tr th {\n",
       "        vertical-align: top;\n",
       "    }\n",
       "\n",
       "    .dataframe thead th {\n",
       "        text-align: right;\n",
       "    }\n",
       "</style>\n",
       "<table border=\"1\" class=\"dataframe\">\n",
       "  <thead>\n",
       "    <tr style=\"text-align: right;\">\n",
       "      <th></th>\n",
       "      <th>Age</th>\n",
       "      <th>DistanceFromHome</th>\n",
       "      <th>JobInvolvement</th>\n",
       "      <th>JobLevel</th>\n",
       "      <th>JobSatisfaction</th>\n",
       "      <th>MonthlyIncome</th>\n",
       "      <th>NumCompaniesWorked</th>\n",
       "      <th>PercentSalaryHike</th>\n",
       "      <th>PerformanceRating</th>\n",
       "      <th>StockOptionLevel</th>\n",
       "      <th>TotalWorkingYears</th>\n",
       "      <th>TrainingTimesLastYear</th>\n",
       "      <th>YearsAtCompany</th>\n",
       "      <th>YearsSinceLastPromotion</th>\n",
       "      <th>YearsWithCurrManager</th>\n",
       "      <th>Leaves</th>\n",
       "      <th>Absenteeism</th>\n",
       "      <th>day</th>\n",
       "      <th>year</th>\n",
       "      <th>month</th>\n",
       "    </tr>\n",
       "  </thead>\n",
       "  <tbody>\n",
       "    <tr>\n",
       "      <th>count</th>\n",
       "      <td>1470.000000</td>\n",
       "      <td>1470.000000</td>\n",
       "      <td>1470.000000</td>\n",
       "      <td>1470.000000</td>\n",
       "      <td>1470.000000</td>\n",
       "      <td>1470.000000</td>\n",
       "      <td>1470.000000</td>\n",
       "      <td>1470.000000</td>\n",
       "      <td>1470.000000</td>\n",
       "      <td>1470.000000</td>\n",
       "      <td>1470.000000</td>\n",
       "      <td>1470.000000</td>\n",
       "      <td>1470.000000</td>\n",
       "      <td>1470.000000</td>\n",
       "      <td>1470.000000</td>\n",
       "      <td>1470.000000</td>\n",
       "      <td>1470.000000</td>\n",
       "      <td>1470.000000</td>\n",
       "      <td>1470.000000</td>\n",
       "      <td>1470.000000</td>\n",
       "    </tr>\n",
       "    <tr>\n",
       "      <th>mean</th>\n",
       "      <td>36.923810</td>\n",
       "      <td>9.192517</td>\n",
       "      <td>2.729932</td>\n",
       "      <td>2.063946</td>\n",
       "      <td>2.728571</td>\n",
       "      <td>6502.931293</td>\n",
       "      <td>2.693197</td>\n",
       "      <td>15.209524</td>\n",
       "      <td>3.153741</td>\n",
       "      <td>0.793878</td>\n",
       "      <td>11.279592</td>\n",
       "      <td>2.799320</td>\n",
       "      <td>7.008163</td>\n",
       "      <td>2.187755</td>\n",
       "      <td>4.123129</td>\n",
       "      <td>2.568707</td>\n",
       "      <td>1.525170</td>\n",
       "      <td>14.725850</td>\n",
       "      <td>2013.973469</td>\n",
       "      <td>4.692517</td>\n",
       "    </tr>\n",
       "    <tr>\n",
       "      <th>std</th>\n",
       "      <td>9.135373</td>\n",
       "      <td>8.106864</td>\n",
       "      <td>0.711561</td>\n",
       "      <td>1.106940</td>\n",
       "      <td>1.102846</td>\n",
       "      <td>4707.956783</td>\n",
       "      <td>2.498009</td>\n",
       "      <td>3.659938</td>\n",
       "      <td>0.360824</td>\n",
       "      <td>0.852077</td>\n",
       "      <td>7.780782</td>\n",
       "      <td>1.289271</td>\n",
       "      <td>6.126525</td>\n",
       "      <td>3.222430</td>\n",
       "      <td>3.568136</td>\n",
       "      <td>1.716171</td>\n",
       "      <td>1.097856</td>\n",
       "      <td>9.852366</td>\n",
       "      <td>6.220257</td>\n",
       "      <td>2.941339</td>\n",
       "    </tr>\n",
       "    <tr>\n",
       "      <th>min</th>\n",
       "      <td>18.000000</td>\n",
       "      <td>1.000000</td>\n",
       "      <td>1.000000</td>\n",
       "      <td>1.000000</td>\n",
       "      <td>1.000000</td>\n",
       "      <td>1009.000000</td>\n",
       "      <td>0.000000</td>\n",
       "      <td>11.000000</td>\n",
       "      <td>3.000000</td>\n",
       "      <td>0.000000</td>\n",
       "      <td>0.000000</td>\n",
       "      <td>0.000000</td>\n",
       "      <td>0.000000</td>\n",
       "      <td>0.000000</td>\n",
       "      <td>0.000000</td>\n",
       "      <td>0.000000</td>\n",
       "      <td>0.000000</td>\n",
       "      <td>1.000000</td>\n",
       "      <td>1969.000000</td>\n",
       "      <td>1.000000</td>\n",
       "    </tr>\n",
       "    <tr>\n",
       "      <th>25%</th>\n",
       "      <td>30.000000</td>\n",
       "      <td>2.000000</td>\n",
       "      <td>2.000000</td>\n",
       "      <td>1.000000</td>\n",
       "      <td>2.000000</td>\n",
       "      <td>2911.000000</td>\n",
       "      <td>1.000000</td>\n",
       "      <td>12.000000</td>\n",
       "      <td>3.000000</td>\n",
       "      <td>0.000000</td>\n",
       "      <td>6.000000</td>\n",
       "      <td>2.000000</td>\n",
       "      <td>3.000000</td>\n",
       "      <td>0.000000</td>\n",
       "      <td>2.000000</td>\n",
       "      <td>1.000000</td>\n",
       "      <td>1.000000</td>\n",
       "      <td>4.000000</td>\n",
       "      <td>2012.000000</td>\n",
       "      <td>2.000000</td>\n",
       "    </tr>\n",
       "    <tr>\n",
       "      <th>50%</th>\n",
       "      <td>36.000000</td>\n",
       "      <td>7.000000</td>\n",
       "      <td>3.000000</td>\n",
       "      <td>2.000000</td>\n",
       "      <td>3.000000</td>\n",
       "      <td>4919.000000</td>\n",
       "      <td>2.000000</td>\n",
       "      <td>14.000000</td>\n",
       "      <td>3.000000</td>\n",
       "      <td>1.000000</td>\n",
       "      <td>10.000000</td>\n",
       "      <td>3.000000</td>\n",
       "      <td>5.000000</td>\n",
       "      <td>1.000000</td>\n",
       "      <td>3.000000</td>\n",
       "      <td>3.000000</td>\n",
       "      <td>2.000000</td>\n",
       "      <td>16.000000</td>\n",
       "      <td>2016.000000</td>\n",
       "      <td>4.000000</td>\n",
       "    </tr>\n",
       "    <tr>\n",
       "      <th>75%</th>\n",
       "      <td>43.000000</td>\n",
       "      <td>14.000000</td>\n",
       "      <td>3.000000</td>\n",
       "      <td>3.000000</td>\n",
       "      <td>4.000000</td>\n",
       "      <td>8379.000000</td>\n",
       "      <td>4.000000</td>\n",
       "      <td>18.000000</td>\n",
       "      <td>3.000000</td>\n",
       "      <td>1.000000</td>\n",
       "      <td>15.000000</td>\n",
       "      <td>3.000000</td>\n",
       "      <td>9.000000</td>\n",
       "      <td>3.000000</td>\n",
       "      <td>7.000000</td>\n",
       "      <td>4.000000</td>\n",
       "      <td>2.000000</td>\n",
       "      <td>24.000000</td>\n",
       "      <td>2018.000000</td>\n",
       "      <td>6.000000</td>\n",
       "    </tr>\n",
       "    <tr>\n",
       "      <th>max</th>\n",
       "      <td>60.000000</td>\n",
       "      <td>29.000000</td>\n",
       "      <td>4.000000</td>\n",
       "      <td>5.000000</td>\n",
       "      <td>4.000000</td>\n",
       "      <td>19999.000000</td>\n",
       "      <td>9.000000</td>\n",
       "      <td>25.000000</td>\n",
       "      <td>4.000000</td>\n",
       "      <td>3.000000</td>\n",
       "      <td>40.000000</td>\n",
       "      <td>6.000000</td>\n",
       "      <td>40.000000</td>\n",
       "      <td>15.000000</td>\n",
       "      <td>17.000000</td>\n",
       "      <td>5.000000</td>\n",
       "      <td>3.000000</td>\n",
       "      <td>31.000000</td>\n",
       "      <td>2021.000000</td>\n",
       "      <td>12.000000</td>\n",
       "    </tr>\n",
       "  </tbody>\n",
       "</table>\n",
       "</div>"
      ],
      "text/plain": [
       "               Age  DistanceFromHome  JobInvolvement     JobLevel  \\\n",
       "count  1470.000000       1470.000000     1470.000000  1470.000000   \n",
       "mean     36.923810          9.192517        2.729932     2.063946   \n",
       "std       9.135373          8.106864        0.711561     1.106940   \n",
       "min      18.000000          1.000000        1.000000     1.000000   \n",
       "25%      30.000000          2.000000        2.000000     1.000000   \n",
       "50%      36.000000          7.000000        3.000000     2.000000   \n",
       "75%      43.000000         14.000000        3.000000     3.000000   \n",
       "max      60.000000         29.000000        4.000000     5.000000   \n",
       "\n",
       "       JobSatisfaction  MonthlyIncome  NumCompaniesWorked  PercentSalaryHike  \\\n",
       "count      1470.000000    1470.000000         1470.000000        1470.000000   \n",
       "mean          2.728571    6502.931293            2.693197          15.209524   \n",
       "std           1.102846    4707.956783            2.498009           3.659938   \n",
       "min           1.000000    1009.000000            0.000000          11.000000   \n",
       "25%           2.000000    2911.000000            1.000000          12.000000   \n",
       "50%           3.000000    4919.000000            2.000000          14.000000   \n",
       "75%           4.000000    8379.000000            4.000000          18.000000   \n",
       "max           4.000000   19999.000000            9.000000          25.000000   \n",
       "\n",
       "       PerformanceRating  StockOptionLevel  TotalWorkingYears  \\\n",
       "count        1470.000000       1470.000000        1470.000000   \n",
       "mean            3.153741          0.793878          11.279592   \n",
       "std             0.360824          0.852077           7.780782   \n",
       "min             3.000000          0.000000           0.000000   \n",
       "25%             3.000000          0.000000           6.000000   \n",
       "50%             3.000000          1.000000          10.000000   \n",
       "75%             3.000000          1.000000          15.000000   \n",
       "max             4.000000          3.000000          40.000000   \n",
       "\n",
       "       TrainingTimesLastYear  YearsAtCompany  YearsSinceLastPromotion  \\\n",
       "count            1470.000000     1470.000000              1470.000000   \n",
       "mean                2.799320        7.008163                 2.187755   \n",
       "std                 1.289271        6.126525                 3.222430   \n",
       "min                 0.000000        0.000000                 0.000000   \n",
       "25%                 2.000000        3.000000                 0.000000   \n",
       "50%                 3.000000        5.000000                 1.000000   \n",
       "75%                 3.000000        9.000000                 3.000000   \n",
       "max                 6.000000       40.000000                15.000000   \n",
       "\n",
       "       YearsWithCurrManager       Leaves  Absenteeism          day  \\\n",
       "count           1470.000000  1470.000000  1470.000000  1470.000000   \n",
       "mean               4.123129     2.568707     1.525170    14.725850   \n",
       "std                3.568136     1.716171     1.097856     9.852366   \n",
       "min                0.000000     0.000000     0.000000     1.000000   \n",
       "25%                2.000000     1.000000     1.000000     4.000000   \n",
       "50%                3.000000     3.000000     2.000000    16.000000   \n",
       "75%                7.000000     4.000000     2.000000    24.000000   \n",
       "max               17.000000     5.000000     3.000000    31.000000   \n",
       "\n",
       "              year        month  \n",
       "count  1470.000000  1470.000000  \n",
       "mean   2013.973469     4.692517  \n",
       "std       6.220257     2.941339  \n",
       "min    1969.000000     1.000000  \n",
       "25%    2012.000000     2.000000  \n",
       "50%    2016.000000     4.000000  \n",
       "75%    2018.000000     6.000000  \n",
       "max    2021.000000    12.000000  "
      ]
     },
     "execution_count": 83,
     "metadata": {},
     "output_type": "execute_result"
    }
   ],
   "source": [
    "# description of all numerical items \n",
    "# min,max,mean,count are important data displayed using this command\n",
    "df.describe()"
   ]
  },
  {
   "cell_type": "markdown",
   "metadata": {},
   "source": [
    "# Mean"
   ]
  },
  {
   "cell_type": "code",
   "execution_count": 84,
   "metadata": {},
   "outputs": [
    {
     "name": "stdout",
     "output_type": "stream",
     "text": [
      "Age                          36.923810\n",
      "DistanceFromHome              9.192517\n",
      "JobInvolvement                2.729932\n",
      "JobLevel                      2.063946\n",
      "JobSatisfaction               2.728571\n",
      "MonthlyIncome              6502.931293\n",
      "NumCompaniesWorked            2.693197\n",
      "PercentSalaryHike            15.209524\n",
      "PerformanceRating             3.153741\n",
      "StockOptionLevel              0.793878\n",
      "TotalWorkingYears            11.279592\n",
      "TrainingTimesLastYear         2.799320\n",
      "YearsAtCompany                7.008163\n",
      "YearsSinceLastPromotion       2.187755\n",
      "YearsWithCurrManager          4.123129\n",
      "Leaves                        2.568707\n",
      "Absenteeism                   1.525170\n",
      "day                          14.725850\n",
      "year                       2013.973469\n",
      "month                         4.692517\n",
      "dtype: float64\n"
     ]
    }
   ],
   "source": [
    "print(df.mean())"
   ]
  },
  {
   "cell_type": "markdown",
   "metadata": {},
   "source": [
    "# Median "
   ]
  },
  {
   "cell_type": "code",
   "execution_count": 85,
   "metadata": {},
   "outputs": [
    {
     "name": "stdout",
     "output_type": "stream",
     "text": [
      "Age                          36.0\n",
      "DistanceFromHome              7.0\n",
      "JobInvolvement                3.0\n",
      "JobLevel                      2.0\n",
      "JobSatisfaction               3.0\n",
      "MonthlyIncome              4919.0\n",
      "NumCompaniesWorked            2.0\n",
      "PercentSalaryHike            14.0\n",
      "PerformanceRating             3.0\n",
      "StockOptionLevel              1.0\n",
      "TotalWorkingYears            10.0\n",
      "TrainingTimesLastYear         3.0\n",
      "YearsAtCompany                5.0\n",
      "YearsSinceLastPromotion       1.0\n",
      "YearsWithCurrManager          3.0\n",
      "Leaves                        3.0\n",
      "Absenteeism                   2.0\n",
      "day                          16.0\n",
      "year                       2016.0\n",
      "month                         4.0\n",
      "dtype: float64\n"
     ]
    }
   ],
   "source": [
    "print(df.median())"
   ]
  },
  {
   "cell_type": "markdown",
   "metadata": {},
   "source": [
    "# Mode"
   ]
  },
  {
   "cell_type": "code",
   "execution_count": 86,
   "metadata": {},
   "outputs": [
    {
     "name": "stdout",
     "output_type": "stream",
     "text": [
      "    Age Attrition BusinessTravel              Department  DistanceFromHome  \\\n",
      "0  35.0        No  Travel_Rarely  Research & Development               2.0   \n",
      "1   NaN       NaN            NaN                     NaN               NaN   \n",
      "\n",
      "  Gender  JobInvolvement  JobLevel          JobRole  JobSatisfaction  ...  \\\n",
      "0   Male             3.0       1.0  Sales Executive              4.0  ...   \n",
      "1    NaN             NaN       NaN              NaN              NaN  ...   \n",
      "\n",
      "  Status_of_leaving  Mode_of_work  Leaves Absenteeism  Work_accident  \\\n",
      "0         Dept.Head           WFH     4.0         1.0             No   \n",
      "1               NaN           NaN     NaN         NaN            NaN   \n",
      "\n",
      "   Source_of_Hire  Job_mode  day    year  month  \n",
      "0       Recruiter  FullTime  3.0  2016.0    3.0  \n",
      "1             NaN       NaN  NaN     NaN    NaN  \n",
      "\n",
      "[2 rows x 34 columns]\n"
     ]
    }
   ],
   "source": [
    "from scipy import stats\n",
    "print(df.mode())"
   ]
  },
  {
   "cell_type": "markdown",
   "metadata": {},
   "source": [
    "# Variance"
   ]
  },
  {
   "cell_type": "code",
   "execution_count": 87,
   "metadata": {},
   "outputs": [
    {
     "data": {
      "text/plain": [
       "Age                        8.345505e+01\n",
       "DistanceFromHome           6.572125e+01\n",
       "JobInvolvement             5.063193e-01\n",
       "JobLevel                   1.225316e+00\n",
       "JobSatisfaction            1.216270e+00\n",
       "MonthlyIncome              2.216486e+07\n",
       "NumCompaniesWorked         6.240049e+00\n",
       "PercentSalaryHike          1.339514e+01\n",
       "PerformanceRating          1.301936e-01\n",
       "StockOptionLevel           7.260346e-01\n",
       "TotalWorkingYears          6.054056e+01\n",
       "TrainingTimesLastYear      1.662219e+00\n",
       "YearsAtCompany             3.753431e+01\n",
       "YearsSinceLastPromotion    1.038406e+01\n",
       "YearsWithCurrManager       1.273160e+01\n",
       "Leaves                     2.945242e+00\n",
       "Absenteeism                1.205288e+00\n",
       "day                        9.706911e+01\n",
       "year                       3.869160e+01\n",
       "month                      8.651476e+00\n",
       "dtype: float64"
      ]
     },
     "execution_count": 87,
     "metadata": {},
     "output_type": "execute_result"
    }
   ],
   "source": [
    "import statistics\n",
    "df.var()"
   ]
  },
  {
   "cell_type": "markdown",
   "metadata": {},
   "source": [
    "##  Standard Deviation"
   ]
  },
  {
   "cell_type": "code",
   "execution_count": 88,
   "metadata": {},
   "outputs": [
    {
     "name": "stdout",
     "output_type": "stream",
     "text": [
      "Age                           9.135373\n",
      "DistanceFromHome              8.106864\n",
      "JobInvolvement                0.711561\n",
      "JobLevel                      1.106940\n",
      "JobSatisfaction               1.102846\n",
      "MonthlyIncome              4707.956783\n",
      "NumCompaniesWorked            2.498009\n",
      "PercentSalaryHike             3.659938\n",
      "PerformanceRating             0.360824\n",
      "StockOptionLevel              0.852077\n",
      "TotalWorkingYears             7.780782\n",
      "TrainingTimesLastYear         1.289271\n",
      "YearsAtCompany                6.126525\n",
      "YearsSinceLastPromotion       3.222430\n",
      "YearsWithCurrManager          3.568136\n",
      "Leaves                        1.716171\n",
      "Absenteeism                   1.097856\n",
      "day                           9.852366\n",
      "year                          6.220257\n",
      "month                         2.941339\n",
      "dtype: float64\n"
     ]
    }
   ],
   "source": [
    "print(df.std()) # numpy"
   ]
  },
  {
   "cell_type": "markdown",
   "metadata": {},
   "source": [
    "## Normal Distribution\n",
    "\n"
   ]
  },
  {
   "cell_type": "code",
   "execution_count": 89,
   "metadata": {},
   "outputs": [
    {
     "name": "stdout",
     "output_type": "stream",
     "text": [
      "1458.3367238055826\n"
     ]
    }
   ],
   "source": [
    "from numpy.linalg import norm \n",
    "print(norm(df['Age']))\n"
   ]
  },
  {
   "cell_type": "markdown",
   "metadata": {},
   "source": [
    "##  Uniform Distribution"
   ]
  },
  {
   "cell_type": "code",
   "execution_count": 90,
   "metadata": {},
   "outputs": [
    {
     "name": "stdout",
     "output_type": "stream",
     "text": [
      "[ 3.35832223 18.82480613 38.13183515 ... 22.28128283 22.75437082\n",
      "  5.88516388]\n"
     ]
    }
   ],
   "source": [
    "from scipy.stats import uniform \n",
    "print(np.random.uniform(df['Age']))"
   ]
  },
  {
   "cell_type": "markdown",
   "metadata": {},
   "source": [
    "## Histograms"
   ]
  },
  {
   "cell_type": "code",
   "execution_count": 91,
   "metadata": {},
   "outputs": [
    {
     "data": {
      "text/plain": [
       "array([[<matplotlib.axes._subplots.AxesSubplot object at 0x0000018A8F8EF7F0>,\n",
       "        <matplotlib.axes._subplots.AxesSubplot object at 0x0000018A8F92CF70>,\n",
       "        <matplotlib.axes._subplots.AxesSubplot object at 0x0000018A8F970940>,\n",
       "        <matplotlib.axes._subplots.AxesSubplot object at 0x0000018A8F999130>],\n",
       "       [<matplotlib.axes._subplots.AxesSubplot object at 0x0000018A8F9CD850>,\n",
       "        <matplotlib.axes._subplots.AxesSubplot object at 0x0000018A8F9F8070>,\n",
       "        <matplotlib.axes._subplots.AxesSubplot object at 0x0000018A8FA05040>,\n",
       "        <matplotlib.axes._subplots.AxesSubplot object at 0x0000018A8FA2B820>],\n",
       "       [<matplotlib.axes._subplots.AxesSubplot object at 0x0000018A8FA8D640>,\n",
       "        <matplotlib.axes._subplots.AxesSubplot object at 0x0000018A8FAB6DC0>,\n",
       "        <matplotlib.axes._subplots.AxesSubplot object at 0x0000018A8FAEC580>,\n",
       "        <matplotlib.axes._subplots.AxesSubplot object at 0x0000018A8FB15D00>],\n",
       "       [<matplotlib.axes._subplots.AxesSubplot object at 0x0000018A8FB4A4C0>,\n",
       "        <matplotlib.axes._subplots.AxesSubplot object at 0x0000018A8FB74C40>,\n",
       "        <matplotlib.axes._subplots.AxesSubplot object at 0x0000018A8FBA8400>,\n",
       "        <matplotlib.axes._subplots.AxesSubplot object at 0x0000018A8FBD0B80>],\n",
       "       [<matplotlib.axes._subplots.AxesSubplot object at 0x0000018A8FC05340>,\n",
       "        <matplotlib.axes._subplots.AxesSubplot object at 0x0000018A8FC30AC0>,\n",
       "        <matplotlib.axes._subplots.AxesSubplot object at 0x0000018A8FC67280>,\n",
       "        <matplotlib.axes._subplots.AxesSubplot object at 0x0000018A8FC8FA00>]],\n",
       "      dtype=object)"
      ]
     },
     "execution_count": 91,
     "metadata": {},
     "output_type": "execute_result"
    },
    {
     "data": {
      "image/png": "[encoded data removed]",
      "text/plain": [
       "<Figure size 720x576 with 20 Axes>"
      ]
     },
     "metadata": {
      "needs_background": "light"
     },
     "output_type": "display_data"
    }
   ],
   "source": [
    "df.hist(alpha=.8, figsize=(10,8))"
   ]
  },
  {
   "cell_type": "markdown",
   "metadata": {},
   "source": [
    "###  Univariate Analysis"
   ]
  },
  {
   "cell_type": "code",
   "execution_count": 92,
   "metadata": {},
   "outputs": [
    {
     "data": {
      "image/png": "[encoded data removed]",
      "text/plain": [
       "<Figure size 432x288 with 1 Axes>"
      ]
     },
     "metadata": {
      "needs_background": "light"
     },
     "output_type": "display_data"
    }
   ],
   "source": [
    "p = sns.countplot(x=df['Attrition'], data=df) "
   ]
  },
  {
   "cell_type": "raw",
   "metadata": {},
   "source": [
    "From abvove plot we can see that the data is imbalanced wrt the target variable "
   ]
  },
  {
   "cell_type": "code",
   "execution_count": 93,
   "metadata": {},
   "outputs": [
    {
     "data": {
      "image/png": "[encoded data removed]",
      "text/plain": [
       "<Figure size 432x288 with 1 Axes>"
      ]
     },
     "metadata": {
      "needs_background": "light"
     },
     "output_type": "display_data"
    }
   ],
   "source": [
    "p = sns.countplot(x=df['Department'], data=df) "
   ]
  },
  {
   "cell_type": "raw",
   "metadata": {},
   "source": [
    "Human resources are very less in number "
   ]
  },
  {
   "cell_type": "code",
   "execution_count": 94,
   "metadata": {},
   "outputs": [
    {
     "data": {
      "image/png": "[encoded data removed]",
      "text/plain": [
       "<Figure size 432x288 with 1 Axes>"
      ]
     },
     "metadata": {
      "needs_background": "light"
     },
     "output_type": "display_data"
    }
   ],
   "source": [
    "p = sns.countplot(x=df['Gender'], data=df) "
   ]
  },
  {
   "cell_type": "code",
   "execution_count": 95,
   "metadata": {},
   "outputs": [
    {
     "data": {
      "image/png": "[encoded data removed]",
      "text/plain": [
       "<Figure size 432x288 with 1 Axes>"
      ]
     },
     "metadata": {
      "needs_background": "light"
     },
     "output_type": "display_data"
    }
   ],
   "source": [
    "p = sns.countplot(x=df['Source_of_Hire'], data=df) "
   ]
  },
  {
   "cell_type": "code",
   "execution_count": 96,
   "metadata": {
    "scrolled": true
   },
   "outputs": [
    {
     "data": {
      "image/png": "[encoded data removed]",
      "text/plain": [
       "<Figure size 432x288 with 1 Axes>"
      ]
     },
     "metadata": {
      "needs_background": "light"
     },
     "output_type": "display_data"
    }
   ],
   "source": [
    "p = sns.countplot(x=df['Job_mode'], data=df) "
   ]
  },
  {
   "cell_type": "markdown",
   "metadata": {},
   "source": [
    "###  Bivariate Analysis"
   ]
  },
  {
   "cell_type": "code",
   "execution_count": 97,
   "metadata": {},
   "outputs": [
    {
     "data": {
      "text/plain": [
       "<matplotlib.axes._subplots.AxesSubplot at 0x18a8e3ccac0>"
      ]
     },
     "execution_count": 97,
     "metadata": {},
     "output_type": "execute_result"
    },
    {
     "data": {
      "image/png": "[encoded data removed]",
      "text/plain": [
       "<Figure size 432x288 with 1 Axes>"
      ]
     },
     "metadata": {
      "needs_background": "light"
     },
     "output_type": "display_data"
    }
   ],
   "source": [
    "sns.lineplot(data=df, x=\"PercentSalaryHike\", y=\"PerformanceRating\")"
   ]
  },
  {
   "cell_type": "markdown",
   "metadata": {},
   "source": [
    "## Scatter Plot"
   ]
  },
  {
   "cell_type": "code",
   "execution_count": 98,
   "metadata": {},
   "outputs": [
    {
     "data": {
      "text/plain": [
       "<matplotlib.axes._subplots.AxesSubplot at 0x18a8e2e04c0>"
      ]
     },
     "execution_count": 98,
     "metadata": {},
     "output_type": "execute_result"
    },
    {
     "data": {
      "image/png": "[encoded data removed]",
      "text/plain": [
       "<Figure size 432x288 with 1 Axes>"
      ]
     },
     "metadata": {
      "needs_background": "light"
     },
     "output_type": "display_data"
    }
   ],
   "source": [
    "sns.scatterplot(data=df, y=\"JobSatisfaction\", x=\"Attrition\")"
   ]
  },
  {
   "cell_type": "code",
   "execution_count": 99,
   "metadata": {},
   "outputs": [
    {
     "data": {
      "text/plain": [
       "<matplotlib.axes._subplots.AxesSubplot at 0x18a8e23abe0>"
      ]
     },
     "execution_count": 99,
     "metadata": {},
     "output_type": "execute_result"
    },
    {
     "data": {
      "image/png": "[encoded data removed]",
      "text/plain": [
       "<Figure size 432x288 with 1 Axes>"
      ]
     },
     "metadata": {
      "needs_background": "light"
     },
     "output_type": "display_data"
    }
   ],
   "source": [
    "sns.scatterplot(data=df, y=\"NumCompaniesWorked\", x=\"Attrition\")"
   ]
  },
  {
   "cell_type": "code",
   "execution_count": 100,
   "metadata": {},
   "outputs": [
    {
     "data": {
      "text/plain": [
       "<matplotlib.axes._subplots.AxesSubplot at 0x18a8e4367f0>"
      ]
     },
     "execution_count": 100,
     "metadata": {},
     "output_type": "execute_result"
    },
    {
     "data": {
      "image/png": "[encoded data removed]",
      "text/plain": [
       "<Figure size 432x288 with 1 Axes>"
      ]
     },
     "metadata": {
      "needs_background": "light"
     },
     "output_type": "display_data"
    }
   ],
   "source": [
    "sns.scatterplot(data=df, x=\"JobLevel\", y=\"Age\")"
   ]
  },
  {
   "cell_type": "code",
   "execution_count": 101,
   "metadata": {},
   "outputs": [
    {
     "data": {
      "text/plain": [
       "<matplotlib.axes._subplots.AxesSubplot at 0x18a8e73d6a0>"
      ]
     },
     "execution_count": 101,
     "metadata": {},
     "output_type": "execute_result"
    },
    {
     "data": {
      "image/png": "[encoded data removed]",
      "text/plain": [
       "<Figure size 432x288 with 1 Axes>"
      ]
     },
     "metadata": {
      "needs_background": "light"
     },
     "output_type": "display_data"
    }
   ],
   "source": [
    "sns.scatterplot(data=df, y=\"MonthlyIncome\", x=\"StockOptionLevel\")"
   ]
  },
  {
   "cell_type": "code",
   "execution_count": 102,
   "metadata": {},
   "outputs": [
    {
     "data": {
      "text/plain": [
       "<matplotlib.axes._subplots.AxesSubplot at 0x18a8e796550>"
      ]
     },
     "execution_count": 102,
     "metadata": {},
     "output_type": "execute_result"
    },
    {
     "data": {
      "image/png": "[encoded data removed]",
      "text/plain": [
       "<Figure size 432x288 with 1 Axes>"
      ]
     },
     "metadata": {
      "needs_background": "light"
     },
     "output_type": "display_data"
    }
   ],
   "source": [
    "sns.scatterplot(data=df, y=\"MonthlyIncome\", x=\"Attrition\")"
   ]
  },
  {
   "cell_type": "code",
   "execution_count": 103,
   "metadata": {},
   "outputs": [
    {
     "data": {
      "text/plain": [
       "<matplotlib.axes._subplots.AxesSubplot at 0x18a8e73bfd0>"
      ]
     },
     "execution_count": 103,
     "metadata": {},
     "output_type": "execute_result"
    },
    {
     "data": {
      "image/png": "[encoded data removed]",
      "text/plain": [
       "<Figure size 432x288 with 1 Axes>"
      ]
     },
     "metadata": {
      "needs_background": "light"
     },
     "output_type": "display_data"
    }
   ],
   "source": [
    "sns.scatterplot(data=df, y=\"YearsAtCompany\", x=\"Attrition\")"
   ]
  },
  {
   "cell_type": "markdown",
   "metadata": {},
   "source": [
    "### Trivariate Analysis"
   ]
  },
  {
   "cell_type": "code",
   "execution_count": 104,
   "metadata": {},
   "outputs": [
    {
     "data": {
      "text/plain": [
       "<matplotlib.axes._subplots.AxesSubplot at 0x18a8e6fa310>"
      ]
     },
     "execution_count": 104,
     "metadata": {},
     "output_type": "execute_result"
    },
    {
     "data": {
      "image/png": "[encoded data removed]",
      "text/plain": [
       "<Figure size 432x288 with 1 Axes>"
      ]
     },
     "metadata": {
      "needs_background": "light"
     },
     "output_type": "display_data"
    }
   ],
   "source": [
    "sns.barplot(y=\"MonthlyIncome\",\n",
    "           x=\"Job_mode\",\n",
    "           hue=\"Gender\",\n",
    "           data= df)"
   ]
  },
  {
   "cell_type": "code",
   "execution_count": 105,
   "metadata": {},
   "outputs": [
    {
     "data": {
      "text/plain": [
       "<matplotlib.axes._subplots.AxesSubplot at 0x18a8e2a06a0>"
      ]
     },
     "execution_count": 105,
     "metadata": {},
     "output_type": "execute_result"
    },
    {
     "data": {
      "image/png": "[encoded data removed]",
      "text/plain": [
       "<Figure size 432x288 with 1 Axes>"
      ]
     },
     "metadata": {
      "needs_background": "light"
     },
     "output_type": "display_data"
    }
   ],
   "source": [
    "sns.barplot(y=\"MonthlyIncome\",\n",
    "           x=\"Attrition\",\n",
    "           hue=\"Gender\",\n",
    "           data= df)"
   ]
  },
  {
   "cell_type": "code",
   "execution_count": 106,
   "metadata": {},
   "outputs": [
    {
     "data": {
      "text/plain": [
       "<matplotlib.axes._subplots.AxesSubplot at 0x18a8e3a2730>"
      ]
     },
     "execution_count": 106,
     "metadata": {},
     "output_type": "execute_result"
    },
    {
     "data": {
      "image/png": "[encoded data removed]",
      "text/plain": [
       "<Figure size 432x288 with 1 Axes>"
      ]
     },
     "metadata": {
      "needs_background": "light"
     },
     "output_type": "display_data"
    }
   ],
   "source": [
    "sns.barplot(y=\"MonthlyIncome\",\n",
    "           x=\"Attrition\",\n",
    "           hue=\"Job_mode\",\n",
    "           data= df)"
   ]
  },
  {
   "cell_type": "markdown",
   "metadata": {},
   "source": [
    "## Pandas Profling ( HTML output)"
   ]
  },
  {
   "cell_type": "code",
   "execution_count": 107,
   "metadata": {},
   "outputs": [
    {
     "name": "stdout",
     "output_type": "stream",
     "text": [
      "Requirement already satisfied: pandas-profiling in c:\\users\\hp\\anaconda3\\lib\\site-packages (3.1.0)\n",
      "Requirement already satisfied: htmlmin>=0.1.12 in c:\\users\\hp\\anaconda3\\lib\\site-packages (from pandas-profiling) (0.1.12)\n",
      "Requirement already satisfied: requests>=2.24.0 in c:\\users\\hp\\anaconda3\\lib\\site-packages (from pandas-profiling) (2.24.0)\n",
      "Requirement already satisfied: seaborn>=0.10.1 in c:\\users\\hp\\anaconda3\\lib\\site-packages (from pandas-profiling) (0.10.1)\n",
      "Requirement already satisfied: multimethod>=1.4 in c:\\users\\hp\\anaconda3\\lib\\site-packages (from pandas-profiling) (1.6)\n",
      "Requirement already satisfied: pydantic>=1.8.1 in c:\\users\\hp\\anaconda3\\lib\\site-packages (from pandas-profiling) (1.8.2)\n",
      "Requirement already satisfied: matplotlib>=3.2.0 in c:\\users\\hp\\anaconda3\\lib\\site-packages (from pandas-profiling) (3.2.2)\n",
      "Requirement already satisfied: visions[type_image_path]==0.7.4 in c:\\users\\hp\\anaconda3\\lib\\site-packages (from pandas-profiling) (0.7.4)\n",
      "Requirement already satisfied: numpy>=1.16.0 in c:\\users\\hp\\anaconda3\\lib\\site-packages (from pandas-profiling) (1.18.5)\n",
      "Requirement already satisfied: tqdm>=4.48.2 in c:\\users\\hp\\anaconda3\\lib\\site-packages (from pandas-profiling) (4.62.3)\n",
      "Requirement already satisfied: scipy>=1.4.1 in c:\\users\\hp\\anaconda3\\lib\\site-packages (from pandas-profiling) (1.5.0)\n",
      "Requirement already satisfied: tangled-up-in-unicode==0.1.0 in c:\\users\\hp\\anaconda3\\lib\\site-packages (from pandas-profiling) (0.1.0)\n",
      "Requirement already satisfied: markupsafe~=2.0.1 in c:\\users\\hp\\anaconda3\\lib\\site-packages (from pandas-profiling) (2.0.1)\n",
      "Requirement already satisfied: missingno>=0.4.2 in c:\\users\\hp\\anaconda3\\lib\\site-packages (from pandas-profiling) (0.5.0)\n",
      "Requirement already satisfied: joblib~=1.0.1 in c:\\users\\hp\\anaconda3\\lib\\site-packages (from pandas-profiling) (1.0.1)\n",
      "Requirement already satisfied: phik>=0.11.1 in c:\\users\\hp\\anaconda3\\lib\\site-packages (from pandas-profiling) (0.12.0)\n",
      "Requirement already satisfied: pandas!=1.0.0,!=1.0.1,!=1.0.2,!=1.1.0,>=0.25.3 in c:\\users\\hp\\anaconda3\\lib\\site-packages (from pandas-profiling) (1.0.5)\n",
      "Requirement already satisfied: jinja2>=2.11.1 in c:\\users\\hp\\anaconda3\\lib\\site-packages (from pandas-profiling) (2.11.2)\n",
      "Requirement already satisfied: PyYAML>=5.0.0 in c:\\users\\hp\\anaconda3\\lib\\site-packages (from pandas-profiling) (5.3.1)\n",
      "Requirement already satisfied: chardet<4,>=3.0.2 in c:\\users\\hp\\anaconda3\\lib\\site-packages (from requests>=2.24.0->pandas-profiling) (3.0.4)\n",
      "Requirement already satisfied: idna<3,>=2.5 in c:\\users\\hp\\anaconda3\\lib\\site-packages (from requests>=2.24.0->pandas-profiling) (2.10)\n",
      "Requirement already satisfied: certifi>=2017.4.17 in c:\\users\\hp\\anaconda3\\lib\\site-packages (from requests>=2.24.0->pandas-profiling) (2020.6.20)\n",
      "Requirement already satisfied: urllib3!=1.25.0,!=1.25.1,<1.26,>=1.21.1 in c:\\users\\hp\\anaconda3\\lib\\site-packages (from requests>=2.24.0->pandas-profiling) (1.25.9)\n",
      "Requirement already satisfied: typing-extensions>=3.7.4.3 in c:\\users\\hp\\anaconda3\\lib\\site-packages (from pydantic>=1.8.1->pandas-profiling) (4.0.0)\n",
      "Requirement already satisfied: kiwisolver>=1.0.1 in c:\\users\\hp\\anaconda3\\lib\\site-packages (from matplotlib>=3.2.0->pandas-profiling) (1.2.0)\n",
      "Requirement already satisfied: pyparsing!=2.0.4,!=2.1.2,!=2.1.6,>=2.0.1 in c:\\users\\hp\\anaconda3\\lib\\site-packages (from matplotlib>=3.2.0->pandas-profiling) (2.4.7)\n",
      "Requirement already satisfied: cycler>=0.10 in c:\\users\\hp\\anaconda3\\lib\\site-packages (from matplotlib>=3.2.0->pandas-profiling) (0.10.0)\n",
      "Requirement already satisfied: python-dateutil>=2.1 in c:\\users\\hp\\anaconda3\\lib\\site-packages (from matplotlib>=3.2.0->pandas-profiling) (2.8.1)\n",
      "Requirement already satisfied: networkx>=2.4 in c:\\users\\hp\\anaconda3\\lib\\site-packages (from visions[type_image_path]==0.7.4->pandas-profiling) (2.4)\n",
      "Requirement already satisfied: attrs>=19.3.0 in c:\\users\\hp\\anaconda3\\lib\\site-packages (from visions[type_image_path]==0.7.4->pandas-profiling) (19.3.0)\n",
      "Requirement already satisfied: imagehash; extra == \"type_image_path\" in c:\\users\\hp\\anaconda3\\lib\\site-packages (from visions[type_image_path]==0.7.4->pandas-profiling) (4.2.1)\n",
      "Requirement already satisfied: Pillow; extra == \"type_image_path\" in c:\\users\\hp\\anaconda3\\lib\\site-packages (from visions[type_image_path]==0.7.4->pandas-profiling) (7.2.0)\n",
      "Requirement already satisfied: colorama; platform_system == \"Windows\" in c:\\users\\hp\\appdata\\roaming\\python\\python38\\site-packages (from tqdm>=4.48.2->pandas-profiling) (0.4.3)\n",
      "Requirement already satisfied: pytz>=2017.2 in c:\\users\\hp\\anaconda3\\lib\\site-packages (from pandas!=1.0.0,!=1.0.1,!=1.0.2,!=1.1.0,>=0.25.3->pandas-profiling) (2020.1)\n",
      "Requirement already satisfied: six in c:\\users\\hp\\appdata\\roaming\\python\\python38\\site-packages (from cycler>=0.10->matplotlib>=3.2.0->pandas-profiling) (1.15.0)\n",
      "Requirement already satisfied: decorator>=4.3.0 in c:\\users\\hp\\anaconda3\\lib\\site-packages (from networkx>=2.4->visions[type_image_path]==0.7.4->pandas-profiling) (4.4.2)\n",
      "Requirement already satisfied: PyWavelets in c:\\users\\hp\\anaconda3\\lib\\site-packages (from imagehash; extra == \"type_image_path\"->visions[type_image_path]==0.7.4->pandas-profiling) (1.1.1)\n"
     ]
    }
   ],
   "source": [
    "!pip install pandas-profiling"
   ]
  },
  {
   "cell_type": "code",
   "execution_count": 135,
   "metadata": {
    "scrolled": true
   },
   "outputs": [
    {
     "data": {
      "application/vnd.jupyter.widget-view+json": {
       "model_id": "4d61083199e848c9bdbc8027437183c5",
       "version_major": 2,
       "version_minor": 0
      },
      "text/plain": [
       "Summarize dataset:   0%|          | 0/5 [00:00<?, ?it/s]"
      ]
     },
     "metadata": {},
     "output_type": "display_data"
    },
    {
     "data": {
      "application/vnd.jupyter.widget-view+json": {
       "model_id": "7669ac8acf844a75ac226a17dd24a93b",
       "version_major": 2,
       "version_minor": 0
      },
      "text/plain": [
       "Generate report structure:   0%|          | 0/1 [00:00<?, ?it/s]"
      ]
     },
     "metadata": {},
     "output_type": "display_data"
    },
    {
     "data": {
      "application/vnd.jupyter.widget-view+json": {
       "model_id": "b0b2f5466b7946278ecc2fbe39f179c0",
       "version_major": 2,
       "version_minor": 0
      },
      "text/plain": [
       "Render HTML:   0%|          | 0/1 [00:00<?, ?it/s]"
      ]
     },
     "metadata": {},
     "output_type": "display_data"
    },
    {
     "data": {
      "application/vnd.jupyter.widget-view+json": {
       "model_id": "c55cff309dc448a4a67c5fd35e3de500",
       "version_major": 2,
       "version_minor": 0
      },
      "text/plain": [
       "Export report to file:   0%|          | 0/1 [00:00<?, ?it/s]"
      ]
     },
     "metadata": {},
     "output_type": "display_data"
    }
   ],
   "source": [
    "from pandas_profiling import ProfileReport\n",
    "prof = ProfileReport(df)\n",
    "prof.to_file(output_file='output.html')\n"
   ]
  },
  {
   "cell_type": "markdown",
   "metadata": {},
   "source": [
    "## STEP 4"
   ]
  },
  {
   "cell_type": "markdown",
   "metadata": {},
   "source": [
    "### Questions"
   ]
  },
  {
   "cell_type": "markdown",
   "metadata": {},
   "source": [
    "## Q1 - Is the dataset imbalanced or balanced wrt the target variable?\n"
   ]
  },
  {
   "cell_type": "markdown",
   "metadata": {},
   "source": [
    "## Q2 - Is the dataset good to implement an ML algorithm?\n"
   ]
  },
  {
   "cell_type": "markdown",
   "metadata": {},
   "source": [
    "## Q3 - Were there any missing values in your dataset? How did you handled them & what was the reason behind choosing that technique?\n"
   ]
  },
  {
   "cell_type": "markdown",
   "metadata": {},
   "source": [
    "## Q4 - Are the categorical features like gender, Job_mode creating affecting attrition(target variable)?\n"
   ]
  },
  {
   "cell_type": "markdown",
   "metadata": {},
   "source": [
    "## STEP 5 "
   ]
  },
  {
   "cell_type": "raw",
   "metadata": {},
   "source": [
    "## Inferences & conclusion\n",
    "Machine learning (ML) allows us to make our computers learn to make predictions and decisions based on data and learn from experiences.\n",
    "    -We can easily find patterns & trends by pushing our data to the ML algorithms. With ML, you don’t need to babysit your          project every step of the way. Since it means giving machines the ability to learn, it lets them make predictions and also      improve the algorithms on their own. \n",
    "    -We can see various statistical facts about our data just by giving simple python commands\n",
    "    -We can visualize all the features that we have in our dataset, we can perform various kind of plots that could                  benificial for us to understand more about our data\n",
    "\n",
    "\n"
   ]
  },
  {
   "cell_type": "markdown",
   "metadata": {},
   "source": [
    "## Model Building"
   ]
  },
  {
   "cell_type": "code",
   "execution_count": 110,
   "metadata": {},
   "outputs": [
    {
     "name": "stdout",
     "output_type": "stream",
     "text": [
      "Requirement already satisfied: xgboost in c:\\users\\hp\\anaconda3\\lib\\site-packages (1.5.1)\n",
      "Requirement already satisfied: scipy in c:\\users\\hp\\anaconda3\\lib\\site-packages (from xgboost) (1.5.0)\n",
      "Requirement already satisfied: numpy in c:\\users\\hp\\anaconda3\\lib\\site-packages (from xgboost) (1.18.5)\n",
      "Requirement already satisfied: lightgbm in c:\\users\\hp\\anaconda3\\lib\\site-packages (3.3.1)\n",
      "Requirement already satisfied: wheel in c:\\users\\hp\\anaconda3\\lib\\site-packages (from lightgbm) (0.34.2)\n",
      "Requirement already satisfied: scipy in c:\\users\\hp\\anaconda3\\lib\\site-packages (from lightgbm) (1.5.0)\n",
      "Requirement already satisfied: scikit-learn!=0.22.0 in c:\\users\\hp\\anaconda3\\lib\\site-packages (from lightgbm) (0.24.2)\n",
      "Requirement already satisfied: numpy in c:\\users\\hp\\anaconda3\\lib\\site-packages (from lightgbm) (1.18.5)\n",
      "Requirement already satisfied: joblib>=0.11 in c:\\users\\hp\\anaconda3\\lib\\site-packages (from scikit-learn!=0.22.0->lightgbm) (1.0.1)\n",
      "Requirement already satisfied: threadpoolctl>=2.0.0 in c:\\users\\hp\\anaconda3\\lib\\site-packages (from scikit-learn!=0.22.0->lightgbm) (2.1.0)\n"
     ]
    }
   ],
   "source": [
    "# Importing Models\n",
    "!pip install xgboost\n",
    "!pip install lightgbm\n",
    "\n",
    "from xgboost import XGBClassifier\n",
    "from lightgbm import LGBMClassifier\n",
    "from sklearn.ensemble import RandomForestClassifier\n",
    "from sklearn.ensemble import AdaBoostClassifier"
   ]
  },
  {
   "cell_type": "markdown",
   "metadata": {},
   "source": [
    "### Encoding categorical Columns "
   ]
  },
  {
   "cell_type": "code",
   "execution_count": 111,
   "metadata": {},
   "outputs": [],
   "source": [
    "## We need to change categorical columns in numerical column before we fit any model"
   ]
  },
  {
   "cell_type": "code",
   "execution_count": 112,
   "metadata": {},
   "outputs": [
    {
     "data": {
      "text/plain": [
       "['Attrition',\n",
       " 'BusinessTravel',\n",
       " 'Department',\n",
       " 'Gender',\n",
       " 'JobRole',\n",
       " 'MaritalStatus',\n",
       " 'OverTime',\n",
       " 'Higher_Education',\n",
       " 'Date_of_Hire',\n",
       " 'Status_of_leaving',\n",
       " 'Mode_of_work',\n",
       " 'Work_accident',\n",
       " 'Source_of_Hire',\n",
       " 'Job_mode']"
      ]
     },
     "execution_count": 112,
     "metadata": {},
     "output_type": "execute_result"
    }
   ],
   "source": [
    "# Getting names of all the categorical columns\n",
    "df.select_dtypes(include=['object']).columns.tolist()"
   ]
  },
  {
   "cell_type": "code",
   "execution_count": 113,
   "metadata": {},
   "outputs": [],
   "source": [
    "## Encoding the categorical features\n",
    "from sklearn.preprocessing import LabelEncoder \n",
    "le = LabelEncoder()\n",
    "df['Attrition'] = le.fit_transform(df['Attrition'])\n",
    "encoded_df = pd.get_dummies(df, columns = [\n",
    " 'BusinessTravel',\n",
    " 'Department',\n",
    " 'Gender',\n",
    " 'JobRole',\n",
    " 'MaritalStatus',\n",
    " 'OverTime',\n",
    " 'Higher_Education',\n",
    " 'Date_of_Hire',\n",
    " 'Status_of_leaving',\n",
    " 'Mode_of_work',\n",
    " 'Work_accident',\n",
    " 'Source_of_Hire',\n",
    " 'Job_mode'])"
   ]
  },
  {
   "cell_type": "code",
   "execution_count": 114,
   "metadata": {
    "scrolled": true
   },
   "outputs": [
    {
     "data": {
      "text/html": [
       "<div>\n",
       "<style scoped>\n",
       "    .dataframe tbody tr th:only-of-type {\n",
       "        vertical-align: middle;\n",
       "    }\n",
       "\n",
       "    .dataframe tbody tr th {\n",
       "        vertical-align: top;\n",
       "    }\n",
       "\n",
       "    .dataframe thead th {\n",
       "        text-align: right;\n",
       "    }\n",
       "</style>\n",
       "<table border=\"1\" class=\"dataframe\">\n",
       "  <thead>\n",
       "    <tr style=\"text-align: right;\">\n",
       "      <th></th>\n",
       "      <th>Age</th>\n",
       "      <th>Attrition</th>\n",
       "      <th>DistanceFromHome</th>\n",
       "      <th>JobInvolvement</th>\n",
       "      <th>JobLevel</th>\n",
       "      <th>JobSatisfaction</th>\n",
       "      <th>MonthlyIncome</th>\n",
       "      <th>NumCompaniesWorked</th>\n",
       "      <th>PercentSalaryHike</th>\n",
       "      <th>PerformanceRating</th>\n",
       "      <th>...</th>\n",
       "      <th>Mode_of_work_WFH</th>\n",
       "      <th>Work_accident_No</th>\n",
       "      <th>Work_accident_Yes</th>\n",
       "      <th>Source_of_Hire_Job Event</th>\n",
       "      <th>Source_of_Hire_Job Portal</th>\n",
       "      <th>Source_of_Hire_Recruiter</th>\n",
       "      <th>Source_of_Hire_Walk-in</th>\n",
       "      <th>Job_mode_Contract</th>\n",
       "      <th>Job_mode_FullTime</th>\n",
       "      <th>Job_mode_Part Time</th>\n",
       "    </tr>\n",
       "  </thead>\n",
       "  <tbody>\n",
       "    <tr>\n",
       "      <th>0</th>\n",
       "      <td>37</td>\n",
       "      <td>1</td>\n",
       "      <td>2</td>\n",
       "      <td>2</td>\n",
       "      <td>1</td>\n",
       "      <td>3</td>\n",
       "      <td>2090</td>\n",
       "      <td>6</td>\n",
       "      <td>15</td>\n",
       "      <td>3</td>\n",
       "      <td>...</td>\n",
       "      <td>0</td>\n",
       "      <td>1</td>\n",
       "      <td>0</td>\n",
       "      <td>1</td>\n",
       "      <td>0</td>\n",
       "      <td>0</td>\n",
       "      <td>0</td>\n",
       "      <td>1</td>\n",
       "      <td>0</td>\n",
       "      <td>0</td>\n",
       "    </tr>\n",
       "    <tr>\n",
       "      <th>1</th>\n",
       "      <td>21</td>\n",
       "      <td>0</td>\n",
       "      <td>15</td>\n",
       "      <td>3</td>\n",
       "      <td>1</td>\n",
       "      <td>4</td>\n",
       "      <td>1232</td>\n",
       "      <td>1</td>\n",
       "      <td>14</td>\n",
       "      <td>3</td>\n",
       "      <td>...</td>\n",
       "      <td>1</td>\n",
       "      <td>1</td>\n",
       "      <td>0</td>\n",
       "      <td>0</td>\n",
       "      <td>0</td>\n",
       "      <td>1</td>\n",
       "      <td>0</td>\n",
       "      <td>0</td>\n",
       "      <td>0</td>\n",
       "      <td>1</td>\n",
       "    </tr>\n",
       "    <tr>\n",
       "      <th>2</th>\n",
       "      <td>45</td>\n",
       "      <td>0</td>\n",
       "      <td>6</td>\n",
       "      <td>3</td>\n",
       "      <td>3</td>\n",
       "      <td>1</td>\n",
       "      <td>13245</td>\n",
       "      <td>4</td>\n",
       "      <td>14</td>\n",
       "      <td>3</td>\n",
       "      <td>...</td>\n",
       "      <td>1</td>\n",
       "      <td>1</td>\n",
       "      <td>0</td>\n",
       "      <td>1</td>\n",
       "      <td>0</td>\n",
       "      <td>0</td>\n",
       "      <td>0</td>\n",
       "      <td>1</td>\n",
       "      <td>0</td>\n",
       "      <td>0</td>\n",
       "    </tr>\n",
       "    <tr>\n",
       "      <th>3</th>\n",
       "      <td>23</td>\n",
       "      <td>0</td>\n",
       "      <td>2</td>\n",
       "      <td>3</td>\n",
       "      <td>1</td>\n",
       "      <td>1</td>\n",
       "      <td>2322</td>\n",
       "      <td>3</td>\n",
       "      <td>13</td>\n",
       "      <td>3</td>\n",
       "      <td>...</td>\n",
       "      <td>0</td>\n",
       "      <td>0</td>\n",
       "      <td>1</td>\n",
       "      <td>0</td>\n",
       "      <td>0</td>\n",
       "      <td>1</td>\n",
       "      <td>0</td>\n",
       "      <td>0</td>\n",
       "      <td>1</td>\n",
       "      <td>0</td>\n",
       "    </tr>\n",
       "    <tr>\n",
       "      <th>4</th>\n",
       "      <td>22</td>\n",
       "      <td>0</td>\n",
       "      <td>15</td>\n",
       "      <td>3</td>\n",
       "      <td>1</td>\n",
       "      <td>4</td>\n",
       "      <td>2871</td>\n",
       "      <td>1</td>\n",
       "      <td>15</td>\n",
       "      <td>3</td>\n",
       "      <td>...</td>\n",
       "      <td>1</td>\n",
       "      <td>1</td>\n",
       "      <td>0</td>\n",
       "      <td>1</td>\n",
       "      <td>0</td>\n",
       "      <td>0</td>\n",
       "      <td>0</td>\n",
       "      <td>1</td>\n",
       "      <td>0</td>\n",
       "      <td>0</td>\n",
       "    </tr>\n",
       "    <tr>\n",
       "      <th>...</th>\n",
       "      <td>...</td>\n",
       "      <td>...</td>\n",
       "      <td>...</td>\n",
       "      <td>...</td>\n",
       "      <td>...</td>\n",
       "      <td>...</td>\n",
       "      <td>...</td>\n",
       "      <td>...</td>\n",
       "      <td>...</td>\n",
       "      <td>...</td>\n",
       "      <td>...</td>\n",
       "      <td>...</td>\n",
       "      <td>...</td>\n",
       "      <td>...</td>\n",
       "      <td>...</td>\n",
       "      <td>...</td>\n",
       "      <td>...</td>\n",
       "      <td>...</td>\n",
       "      <td>...</td>\n",
       "      <td>...</td>\n",
       "      <td>...</td>\n",
       "    </tr>\n",
       "    <tr>\n",
       "      <th>1465</th>\n",
       "      <td>52</td>\n",
       "      <td>0</td>\n",
       "      <td>3</td>\n",
       "      <td>2</td>\n",
       "      <td>4</td>\n",
       "      <td>1</td>\n",
       "      <td>16856</td>\n",
       "      <td>1</td>\n",
       "      <td>11</td>\n",
       "      <td>3</td>\n",
       "      <td>...</td>\n",
       "      <td>0</td>\n",
       "      <td>1</td>\n",
       "      <td>0</td>\n",
       "      <td>0</td>\n",
       "      <td>1</td>\n",
       "      <td>0</td>\n",
       "      <td>0</td>\n",
       "      <td>0</td>\n",
       "      <td>0</td>\n",
       "      <td>1</td>\n",
       "    </tr>\n",
       "    <tr>\n",
       "      <th>1466</th>\n",
       "      <td>55</td>\n",
       "      <td>0</td>\n",
       "      <td>1</td>\n",
       "      <td>3</td>\n",
       "      <td>5</td>\n",
       "      <td>1</td>\n",
       "      <td>19045</td>\n",
       "      <td>0</td>\n",
       "      <td>14</td>\n",
       "      <td>3</td>\n",
       "      <td>...</td>\n",
       "      <td>1</td>\n",
       "      <td>1</td>\n",
       "      <td>0</td>\n",
       "      <td>0</td>\n",
       "      <td>0</td>\n",
       "      <td>0</td>\n",
       "      <td>1</td>\n",
       "      <td>0</td>\n",
       "      <td>1</td>\n",
       "      <td>0</td>\n",
       "    </tr>\n",
       "    <tr>\n",
       "      <th>1467</th>\n",
       "      <td>55</td>\n",
       "      <td>0</td>\n",
       "      <td>26</td>\n",
       "      <td>2</td>\n",
       "      <td>5</td>\n",
       "      <td>4</td>\n",
       "      <td>19586</td>\n",
       "      <td>1</td>\n",
       "      <td>21</td>\n",
       "      <td>4</td>\n",
       "      <td>...</td>\n",
       "      <td>0</td>\n",
       "      <td>1</td>\n",
       "      <td>0</td>\n",
       "      <td>0</td>\n",
       "      <td>0</td>\n",
       "      <td>1</td>\n",
       "      <td>0</td>\n",
       "      <td>0</td>\n",
       "      <td>0</td>\n",
       "      <td>1</td>\n",
       "    </tr>\n",
       "    <tr>\n",
       "      <th>1468</th>\n",
       "      <td>58</td>\n",
       "      <td>0</td>\n",
       "      <td>10</td>\n",
       "      <td>3</td>\n",
       "      <td>4</td>\n",
       "      <td>3</td>\n",
       "      <td>13872</td>\n",
       "      <td>0</td>\n",
       "      <td>13</td>\n",
       "      <td>3</td>\n",
       "      <td>...</td>\n",
       "      <td>1</td>\n",
       "      <td>0</td>\n",
       "      <td>1</td>\n",
       "      <td>1</td>\n",
       "      <td>0</td>\n",
       "      <td>0</td>\n",
       "      <td>0</td>\n",
       "      <td>0</td>\n",
       "      <td>0</td>\n",
       "      <td>1</td>\n",
       "    </tr>\n",
       "    <tr>\n",
       "      <th>1469</th>\n",
       "      <td>58</td>\n",
       "      <td>1</td>\n",
       "      <td>23</td>\n",
       "      <td>3</td>\n",
       "      <td>3</td>\n",
       "      <td>4</td>\n",
       "      <td>10312</td>\n",
       "      <td>1</td>\n",
       "      <td>12</td>\n",
       "      <td>3</td>\n",
       "      <td>...</td>\n",
       "      <td>1</td>\n",
       "      <td>0</td>\n",
       "      <td>1</td>\n",
       "      <td>0</td>\n",
       "      <td>1</td>\n",
       "      <td>0</td>\n",
       "      <td>0</td>\n",
       "      <td>0</td>\n",
       "      <td>1</td>\n",
       "      <td>0</td>\n",
       "    </tr>\n",
       "  </tbody>\n",
       "</table>\n",
       "<p>1470 rows × 1175 columns</p>\n",
       "</div>"
      ],
      "text/plain": [
       "      Age  Attrition  DistanceFromHome  JobInvolvement  JobLevel  \\\n",
       "0      37          1                 2               2         1   \n",
       "1      21          0                15               3         1   \n",
       "2      45          0                 6               3         3   \n",
       "3      23          0                 2               3         1   \n",
       "4      22          0                15               3         1   \n",
       "...   ...        ...               ...             ...       ...   \n",
       "1465   52          0                 3               2         4   \n",
       "1466   55          0                 1               3         5   \n",
       "1467   55          0                26               2         5   \n",
       "1468   58          0                10               3         4   \n",
       "1469   58          1                23               3         3   \n",
       "\n",
       "      JobSatisfaction  MonthlyIncome  NumCompaniesWorked  PercentSalaryHike  \\\n",
       "0                   3           2090                   6                 15   \n",
       "1                   4           1232                   1                 14   \n",
       "2                   1          13245                   4                 14   \n",
       "3                   1           2322                   3                 13   \n",
       "4                   4           2871                   1                 15   \n",
       "...               ...            ...                 ...                ...   \n",
       "1465                1          16856                   1                 11   \n",
       "1466                1          19045                   0                 14   \n",
       "1467                4          19586                   1                 21   \n",
       "1468                3          13872                   0                 13   \n",
       "1469                4          10312                   1                 12   \n",
       "\n",
       "      PerformanceRating  ...  Mode_of_work_WFH  Work_accident_No  \\\n",
       "0                     3  ...                 0                 1   \n",
       "1                     3  ...                 1                 1   \n",
       "2                     3  ...                 1                 1   \n",
       "3                     3  ...                 0                 0   \n",
       "4                     3  ...                 1                 1   \n",
       "...                 ...  ...               ...               ...   \n",
       "1465                  3  ...                 0                 1   \n",
       "1466                  3  ...                 1                 1   \n",
       "1467                  4  ...                 0                 1   \n",
       "1468                  3  ...                 1                 0   \n",
       "1469                  3  ...                 1                 0   \n",
       "\n",
       "      Work_accident_Yes  Source_of_Hire_Job Event  Source_of_Hire_Job Portal  \\\n",
       "0                     0                         1                          0   \n",
       "1                     0                         0                          0   \n",
       "2                     0                         1                          0   \n",
       "3                     1                         0                          0   \n",
       "4                     0                         1                          0   \n",
       "...                 ...                       ...                        ...   \n",
       "1465                  0                         0                          1   \n",
       "1466                  0                         0                          0   \n",
       "1467                  0                         0                          0   \n",
       "1468                  1                         1                          0   \n",
       "1469                  1                         0                          1   \n",
       "\n",
       "      Source_of_Hire_Recruiter  Source_of_Hire_Walk-in  Job_mode_Contract  \\\n",
       "0                            0                       0                  1   \n",
       "1                            1                       0                  0   \n",
       "2                            0                       0                  1   \n",
       "3                            1                       0                  0   \n",
       "4                            0                       0                  1   \n",
       "...                        ...                     ...                ...   \n",
       "1465                         0                       0                  0   \n",
       "1466                         0                       1                  0   \n",
       "1467                         1                       0                  0   \n",
       "1468                         0                       0                  0   \n",
       "1469                         0                       0                  0   \n",
       "\n",
       "      Job_mode_FullTime  Job_mode_Part Time  \n",
       "0                     0                   0  \n",
       "1                     0                   1  \n",
       "2                     0                   0  \n",
       "3                     1                   0  \n",
       "4                     0                   0  \n",
       "...                 ...                 ...  \n",
       "1465                  0                   1  \n",
       "1466                  1                   0  \n",
       "1467                  0                   1  \n",
       "1468                  0                   1  \n",
       "1469                  1                   0  \n",
       "\n",
       "[1470 rows x 1175 columns]"
      ]
     },
     "execution_count": 114,
     "metadata": {},
     "output_type": "execute_result"
    }
   ],
   "source": [
    "# Dataframe after encoding all the categorical variables\n",
    "encoded_df"
   ]
  },
  {
   "cell_type": "code",
   "execution_count": 115,
   "metadata": {},
   "outputs": [],
   "source": [
    "# Splitting the features from target feature \n",
    "y = encoded_df[\"Attrition\"]\n",
    "X = encoded_df.drop([\"Attrition\"], axis=1)"
   ]
  },
  {
   "cell_type": "code",
   "execution_count": 116,
   "metadata": {},
   "outputs": [],
   "source": [
    "# performing startified sampling due to imbalanced dataset\n",
    "# another option could have been the upsampling technique\n",
    "from sklearn.model_selection import train_test_split\n",
    "X_train, X_test, y_train, y_test = train_test_split(X, y,\n",
    "                                                    stratify=y, \n",
    "                                                    test_size=0.2)"
   ]
  },
  {
   "cell_type": "code",
   "execution_count": 117,
   "metadata": {
    "scrolled": true
   },
   "outputs": [
    {
     "name": "stdout",
     "output_type": "stream",
     "text": [
      "(1176, 1174)\n",
      "(294, 1174)\n",
      "(1176,)\n",
      "(294,)\n"
     ]
    }
   ],
   "source": [
    "#checking test train shape\n",
    "names =[X_train,X_test,y_train,y_test]\n",
    "for name in names:\n",
    "    print(name.shape)"
   ]
  },
  {
   "cell_type": "code",
   "execution_count": 118,
   "metadata": {},
   "outputs": [
    {
     "name": "stdout",
     "output_type": "stream",
     "text": [
      "[10:30:25] WARNING: C:/Users/Administrator/workspace/xgboost-win64_release_1.5.1/src/learner.cc:1115: Starting in XGBoost 1.3.0, the default evaluation metric used with the objective 'binary:logistic' was changed from 'error' to 'logloss'. Explicitly set eval_metric if you'd like to restore the old behavior.\n"
     ]
    },
    {
     "data": {
      "text/plain": [
       "XGBClassifier(base_score=0.5, booster='gbtree', colsample_bylevel=1,\n",
       "              colsample_bynode=1, colsample_bytree=1, enable_categorical=False,\n",
       "              gamma=0, gpu_id=-1, importance_type=None,\n",
       "              interaction_constraints='', learning_rate=0.300000012,\n",
       "              max_delta_step=0, max_depth=6, min_child_weight=1, missing=nan,\n",
       "              monotone_constraints='()', n_estimators=100, n_jobs=8,\n",
       "              num_parallel_tree=1, predictor='auto', random_state=0,\n",
       "              reg_alpha=0, reg_lambda=1, scale_pos_weight=1, subsample=1,\n",
       "              tree_method='exact', validate_parameters=1, verbosity=None)"
      ]
     },
     "execution_count": 118,
     "metadata": {},
     "output_type": "execute_result"
    }
   ],
   "source": [
    "# XGB Classifier\n",
    "model = XGBClassifier()\n",
    "# fit the model with the training data\n",
    "model.fit(X_train,y_train)"
   ]
  },
  {
   "cell_type": "code",
   "execution_count": 119,
   "metadata": {
    "scrolled": true
   },
   "outputs": [
    {
     "name": "stdout",
     "output_type": "stream",
     "text": [
      "Accuracy on train data- 1.0\n",
      "Accuracy on test data- 0.8469387755102041\n"
     ]
    }
   ],
   "source": [
    "# predict the target on the train dataset\n",
    "predict_train = model.predict(X_train)\n",
    "\n",
    "# Accuray Score on train dataset\n",
    "accuracy_train = accuracy_score(y_train,predict_train)\n",
    "print(\"Accuracy on train data-\", accuracy_train)\n",
    "\n",
    "# predict the target on the test dataset\n",
    "predict_test = model.predict(X_test)\n",
    "# Accuray Score on test dataset\n",
    "accuracy_test = accuracy_score(y_test,predict_test)\n",
    "print(\"Accuracy on test data-\", accuracy_test)"
   ]
  },
  {
   "cell_type": "code",
   "execution_count": 120,
   "metadata": {},
   "outputs": [
    {
     "data": {
      "text/plain": [
       "LGBMClassifier()"
      ]
     },
     "execution_count": 120,
     "metadata": {},
     "output_type": "execute_result"
    }
   ],
   "source": [
    "# LGBM Classifier\n",
    "model = LGBMClassifier()\n",
    "# fit the model with the training data\n",
    "model.fit(X_train,y_train)"
   ]
  },
  {
   "cell_type": "code",
   "execution_count": 121,
   "metadata": {},
   "outputs": [
    {
     "name": "stdout",
     "output_type": "stream",
     "text": [
      "Accuracy on train data- 1.0\n",
      "Accuracy on test data- 0.8639455782312925\n"
     ]
    }
   ],
   "source": [
    "# predict the target on the train dataset\n",
    "predict_train = model.predict(X_train)\n",
    "\n",
    "# Accuray Score on train dataset\n",
    "accuracy_train = accuracy_score(y_train,predict_train)\n",
    "print(\"Accuracy on train data-\", accuracy_train)\n",
    "\n",
    "# predict the target on the test dataset\n",
    "predict_test = model.predict(X_test)\n",
    "\n",
    "# Accuray Score on test dataset\n",
    "accuracy_test = accuracy_score(y_test,predict_test)\n",
    "print(\"Accuracy on test data-\", accuracy_test)"
   ]
  },
  {
   "cell_type": "code",
   "execution_count": 122,
   "metadata": {},
   "outputs": [
    {
     "data": {
      "text/plain": [
       "RandomForestClassifier()"
      ]
     },
     "execution_count": 122,
     "metadata": {},
     "output_type": "execute_result"
    }
   ],
   "source": [
    "# RF Classifier\n",
    "model = RandomForestClassifier()\n",
    "# fit the model with the training data\n",
    "model.fit(X_train,y_train)"
   ]
  },
  {
   "cell_type": "code",
   "execution_count": 123,
   "metadata": {},
   "outputs": [
    {
     "name": "stdout",
     "output_type": "stream",
     "text": [
      "Accuracy on train data- 1.0\n",
      "Accuracy on test data- 0.8435374149659864\n"
     ]
    }
   ],
   "source": [
    "# predict the target on the train dataset\n",
    "predict_train = model.predict(X_train)\n",
    "\n",
    "# Accuray Score on train dataset\n",
    "accuracy_train = accuracy_score(y_train,predict_train)\n",
    "print(\"Accuracy on train data-\", accuracy_train)\n",
    "\n",
    "# predict the target on the test dataset\n",
    "predict_test = model.predict(X_test)\n",
    "\n",
    "# Accuray Score on test dataset\n",
    "accuracy_test = accuracy_score(y_test,predict_test)\n",
    "print(\"Accuracy on test data-\", accuracy_test)"
   ]
  },
  {
   "cell_type": "code",
   "execution_count": 124,
   "metadata": {},
   "outputs": [
    {
     "data": {
      "text/plain": [
       "AdaBoostClassifier()"
      ]
     },
     "execution_count": 124,
     "metadata": {},
     "output_type": "execute_result"
    }
   ],
   "source": [
    "# Adaboost Classifier\n",
    "model = AdaBoostClassifier()\n",
    "# fit the model with the training data\n",
    "model.fit(X_train,y_train)"
   ]
  },
  {
   "cell_type": "code",
   "execution_count": 125,
   "metadata": {
    "scrolled": true
   },
   "outputs": [
    {
     "name": "stdout",
     "output_type": "stream",
     "text": [
      "Accuracy on train data- 0.9030612244897959\n",
      "Accuracy on test data- 0.8503401360544217\n"
     ]
    }
   ],
   "source": [
    "# predict the target on the train dataset\n",
    "predict_train = model.predict(X_train)\n",
    "\n",
    "# Accuray Score on train dataset\n",
    "accuracy_train = accuracy_score(y_train,predict_train)\n",
    "print(\"Accuracy on train data-\", accuracy_train)\n",
    "\n",
    "# predict the target on the test dataset\n",
    "predict_test = model.predict(X_test)\n",
    "\n",
    "# Accuray Score on test dataset\n",
    "accuracy_test = accuracy_score(y_test,predict_test)\n",
    "print(\"Accuracy on test data-\", accuracy_test)"
   ]
  },
  {
   "cell_type": "code",
   "execution_count": 129,
   "metadata": {},
   "outputs": [
    {
     "data": {
      "text/plain": [
       "array([0, 0, 0, 1, 0, 0, 0, 0, 0, 0, 0, 0, 0, 1, 0, 0, 0, 0, 0, 0, 0, 0,\n",
       "       0, 0, 0, 0, 0, 1, 0, 0, 0, 0, 0, 0, 0, 0, 0, 0, 0, 0, 0, 0, 0, 0,\n",
       "       0, 0, 0, 0, 1, 0, 0, 0, 0, 0, 0, 0, 0, 0, 0, 0, 0, 0, 0, 0, 0, 0,\n",
       "       0, 0, 0, 0, 0, 0, 1, 0, 0, 0, 0, 0, 0, 0, 0, 0, 0, 0, 0, 0, 0, 0,\n",
       "       0, 0, 0, 0, 0, 0, 0, 0, 0, 0, 1, 1, 0, 0, 0, 0, 0, 0, 0, 0, 1, 0,\n",
       "       0, 0, 1, 0, 0, 0, 0, 0, 0, 0, 0, 0, 0, 0, 0, 0, 0, 0, 0, 0, 0, 0,\n",
       "       0, 0, 0, 0, 0, 0, 0, 0, 1, 0, 0, 0, 0, 0, 0, 0, 0, 0, 0, 0, 0, 0,\n",
       "       0, 0, 0, 0, 0, 0, 0, 0, 0, 0, 0, 0, 0, 0, 0, 0, 0, 1, 1, 0, 0, 0,\n",
       "       0, 0, 0, 0, 0, 0, 0, 0, 0, 0, 0, 0, 0, 0, 0, 0, 0, 0, 0, 0, 0, 0,\n",
       "       0, 0, 0, 0, 0, 0, 0, 0, 0, 0, 0, 0, 1, 0, 0, 0, 0, 0, 0, 0, 1, 0,\n",
       "       1, 0, 0, 0, 0, 0, 0, 0, 0, 0, 0, 0, 0, 0, 0, 1, 0, 0, 0, 0, 0, 0,\n",
       "       0, 0, 0, 0, 0, 0, 0, 0, 0, 0, 0, 0, 0, 0, 0, 0, 0, 1, 0, 0, 0, 0,\n",
       "       0, 0, 0, 0, 0, 1, 0, 0, 1, 0, 0, 0, 0, 0, 0, 0, 0, 0, 0, 0, 0, 0,\n",
       "       0, 0, 0, 0, 0, 0, 0, 0])"
      ]
     },
     "execution_count": 129,
     "metadata": {},
     "output_type": "execute_result"
    }
   ],
   "source": [
    "predict_test"
   ]
  },
  {
   "cell_type": "code",
   "execution_count": 130,
   "metadata": {},
   "outputs": [
    {
     "data": {
      "text/plain": [
       "618     0\n",
       "1384    0\n",
       "422     0\n",
       "1404    0\n",
       "1193    0\n",
       "       ..\n",
       "540     1\n",
       "688     1\n",
       "1450    0\n",
       "300     0\n",
       "245     1\n",
       "Name: Attrition, Length: 294, dtype: int32"
      ]
     },
     "execution_count": 130,
     "metadata": {},
     "output_type": "execute_result"
    }
   ],
   "source": [
    "y_test"
   ]
  },
  {
   "cell_type": "code",
   "execution_count": 126,
   "metadata": {},
   "outputs": [],
   "source": [
    "## For fine tuning our model we can perform Hyperparameter tuning on the model which is giving best accuracy eg RandomForest"
   ]
  },
  {
   "cell_type": "markdown",
   "metadata": {},
   "source": [
    "## Saving/Loading our model for future use"
   ]
  },
  {
   "cell_type": "code",
   "execution_count": 127,
   "metadata": {},
   "outputs": [],
   "source": [
    "import pickle\n",
    "filename = 'model.sav'\n",
    "pickle.dump(model, open(filename, 'wb'))"
   ]
  },
  {
   "cell_type": "code",
   "execution_count": 128,
   "metadata": {},
   "outputs": [],
   "source": [
    "load_model = pickle.load(open(filename, 'rb'))"
   ]
  },
  {
   "cell_type": "code",
   "execution_count": 131,
   "metadata": {},
   "outputs": [],
   "source": [
    "predict_test = load_model.predict(X_test)"
   ]
  },
  {
   "cell_type": "code",
   "execution_count": 132,
   "metadata": {},
   "outputs": [
    {
     "data": {
      "text/plain": [
       "array([0, 0, 0, 1, 0, 0, 0, 0, 0, 0, 0, 0, 0, 1, 0, 0, 0, 0, 0, 0, 0, 0,\n",
       "       0, 0, 0, 0, 0, 1, 0, 0, 0, 0, 0, 0, 0, 0, 0, 0, 0, 0, 0, 0, 0, 0,\n",
       "       0, 0, 0, 0, 1, 0, 0, 0, 0, 0, 0, 0, 0, 0, 0, 0, 0, 0, 0, 0, 0, 0,\n",
       "       0, 0, 0, 0, 0, 0, 1, 0, 0, 0, 0, 0, 0, 0, 0, 0, 0, 0, 0, 0, 0, 0,\n",
       "       0, 0, 0, 0, 0, 0, 0, 0, 0, 0, 1, 1, 0, 0, 0, 0, 0, 0, 0, 0, 1, 0,\n",
       "       0, 0, 1, 0, 0, 0, 0, 0, 0, 0, 0, 0, 0, 0, 0, 0, 0, 0, 0, 0, 0, 0,\n",
       "       0, 0, 0, 0, 0, 0, 0, 0, 1, 0, 0, 0, 0, 0, 0, 0, 0, 0, 0, 0, 0, 0,\n",
       "       0, 0, 0, 0, 0, 0, 0, 0, 0, 0, 0, 0, 0, 0, 0, 0, 0, 1, 1, 0, 0, 0,\n",
       "       0, 0, 0, 0, 0, 0, 0, 0, 0, 0, 0, 0, 0, 0, 0, 0, 0, 0, 0, 0, 0, 0,\n",
       "       0, 0, 0, 0, 0, 0, 0, 0, 0, 0, 0, 0, 1, 0, 0, 0, 0, 0, 0, 0, 1, 0,\n",
       "       1, 0, 0, 0, 0, 0, 0, 0, 0, 0, 0, 0, 0, 0, 0, 1, 0, 0, 0, 0, 0, 0,\n",
       "       0, 0, 0, 0, 0, 0, 0, 0, 0, 0, 0, 0, 0, 0, 0, 0, 0, 1, 0, 0, 0, 0,\n",
       "       0, 0, 0, 0, 0, 1, 0, 0, 1, 0, 0, 0, 0, 0, 0, 0, 0, 0, 0, 0, 0, 0,\n",
       "       0, 0, 0, 0, 0, 0, 0, 0])"
      ]
     },
     "execution_count": 132,
     "metadata": {},
     "output_type": "execute_result"
    }
   ],
   "source": [
    "predict_test"
   ]
  }
 ],
 "metadata": {
  "kernelspec": {
   "display_name": "Python 3",
   "language": "python",
   "name": "python3"
  },
  "language_info": {
   "codemirror_mode": {
    "name": "ipython",
    "version": 3
   },
   "file_extension": ".py",
   "mimetype": "text/x-python",
   "name": "python",
   "nbconvert_exporter": "python",
   "pygments_lexer": "ipython3",
   "version": "3.8.3"
  }
 },
 "nbformat": 4,
 "nbformat_minor": 5
}
